{
 "cells": [
  {
   "cell_type": "markdown",
   "metadata": {},
   "source": [
    "Note:\n",
    "\n",
    "To load all images and the Plotly map please click the symbol in the top right of the notebook."
   ]
  },
  {
   "cell_type": "markdown",
   "metadata": {},
   "source": [
    "# Background\n",
    "\n",
    "### Feeding a City\n",
    "From timeless classics like the House of Prime Rib to bizarre fusions like Sushirrito, San Francisco (SF) is know for its diverse food scene. But roaming up and down the crowded streets of SF are hundreds of mobile food facilities. These fast, casual faux resturants can be found on street corners selling mysterious meat wrapped in bacon or sprawled as far as the eye can see at their own festival. \n",
    "\n",
    "In general there are two types of mobile food facilities that can are frequently seen around any city: push carts and food trucks. The history of each is rather fascinating. In 1691 New Amsterdam, now known as New York City, began to regulate push carts selling food (2). The tradition of push carts serving lunches to city workers continues to this day.\n",
    "\n",
    "<img src=\"images\\push.jpg\" width=\"30%\">\n",
    "\n",
    "*A typical push cart selling a variety of hot foods and cold beverages.*\n",
    "\n",
    "Eventually the push cart gave way to food trucks in the 1960s, the ice cream trucks were the first to appear in the 1950s (1). These early adopters were given the derogatory name of \"roach coaches\" due to the often sub-standard health conditions and the less than ideal areas they set up shop (1). But, by the late 1990s and early 2000s attitudes towards food trucks had shifted and customers, and the food service industry as a whole, had wholeheartedly embraced these food serving trucks. Indeed, it's not uncommon to find whole areas of citys allotted to food trucks or find blogs devoted solely to finding the next hit truck.\n",
    "\n",
    "<img src=\"images\\truck.jpg\" width=\"80%\">\n",
    "\n",
    "*A line of food trucks selling a variety of quick, hot items.*\n",
    "\n",
    "\n",
    "### The Data\n",
    "A mobile food facility must be permitted by the the City of San Francisco to legally sell food. The city of San Francisco publishes partial information of permit applications on their website. This dataset is taken from the San Francisco Department of Public Works. It documents the applicant, expected location, type of facility, food type, history of permits, along with other administrative facts. The complete dataset along with a full explanation of each column can be found [here](https://data.sfgov.org/Economy-and-Community/Mobile-Food-Facility-Permit/rqzj-sfat).\n",
    "\n",
    "From this data we will create a interactive map of the location all the permitted food facilites in SF. The SF government website does allow users to create Plotly graphs and maps, however many people simply won't use it and the visuals lack the details and clarity present in this report. While there are websites that allow food trucks to update their location, many food push carts do not utilize this tool. Instead, people go to whichever push cart is the closest. By creating this map we can expose people to more push carts in their vicinity.\n",
    "\n",
    "### Approach\n",
    "In order to get a complete understanding of the dataset we'll go through a number of steps:\n",
    "\n",
    "1. Importing data\n",
    "2. Cleaning data\n",
    "3. Exploratory data analysis (EDA)\n",
    "4. Map building\n",
    "5. Analysis\n",
    "\n",
    "We'll use data visualization libraries to preform EDA, as well as scipy to perform some statistical test. We'll build our interactive map with Plotly.\n",
    "Throughout this analysis we'll try to answer the following questions:\n",
    "\n",
    "* What does the distribution of food carts and trucks look like around San Francisco? Or put simply, where are all the food carts and trucks located?\n",
    "* Are there discernible patterns in the distribution? Are they clustered togther or evenly spread out along the city.\n",
    "\n",
    "The interactive map of the dataset will answer the first two questions, about the distribution of food carts and trucks. EDA will explain the last question."
   ]
  },
  {
   "cell_type": "code",
   "execution_count": 1,
   "metadata": {},
   "outputs": [],
   "source": [
    "import plotly.plotly as py\n",
    "import plotly.graph_objs as go\n",
    "from plotly.offline import download_plotlyjs, init_notebook_mode, plot, iplot\n",
    "import numpy as np\n",
    "import pandas as pd\n",
    "import matplotlib.pyplot as plt\n",
    "import seaborn as sns\n",
    "from scipy.stats import binom_test"
   ]
  },
  {
   "cell_type": "code",
   "execution_count": 2,
   "metadata": {},
   "outputs": [
    {
     "data": {
      "text/html": [
       "<script type=\"text/javascript\">window.PlotlyConfig = {MathJaxConfig: 'local'};</script><script type=\"text/javascript\">if (window.MathJax) {MathJax.Hub.Config({SVG: {font: \"STIX-Web\"}});}</script><script>requirejs.config({paths: { 'plotly': ['https://cdn.plot.ly/plotly-latest.min']},});if(!window._Plotly) {require(['plotly'],function(plotly) {window._Plotly=plotly;});}</script>"
      ]
     },
     "metadata": {},
     "output_type": "execute_result"
    }
   ],
   "source": [
    "# Changing some of the library settings \n",
    "init_notebook_mode(connected=True)\n",
    "pd.set_option('display.max_columns', None)\n",
    "plt.rc('figure', figsize=(9,9))\n",
    "sns.set_style('darkgrid')"
   ]
  },
  {
   "cell_type": "markdown",
   "metadata": {},
   "source": [
    "# Importing Data\n",
    "Get a sense of the data."
   ]
  },
  {
   "cell_type": "code",
   "execution_count": 3,
   "metadata": {},
   "outputs": [
    {
     "data": {
      "text/plain": [
       "(632, 24)"
      ]
     },
     "execution_count": 3,
     "metadata": {},
     "output_type": "execute_result"
    }
   ],
   "source": [
    "sf = pd.read_csv('data/Mobile_Food_Facility_Permit.csv')\n",
    "sf.shape"
   ]
  },
  {
   "cell_type": "markdown",
   "metadata": {},
   "source": [
    "Looking at the first couple rows of the data most of the columns are not necessary. The administrative columns, like NOISent, and non-geographic coordinate location data, like Address and lot, can be dropped to save memory.\n",
    "We'll focus on the Applicant, Latitude, Longitude and FoodItems in this analysis."
   ]
  },
  {
   "cell_type": "code",
   "execution_count": 5,
   "metadata": {},
   "outputs": [
    {
     "data": {
      "text/html": [
       "<div>\n",
       "<style scoped>\n",
       "    .dataframe tbody tr th:only-of-type {\n",
       "        vertical-align: middle;\n",
       "    }\n",
       "\n",
       "    .dataframe tbody tr th {\n",
       "        vertical-align: top;\n",
       "    }\n",
       "\n",
       "    .dataframe thead th {\n",
       "        text-align: right;\n",
       "    }\n",
       "</style>\n",
       "<table border=\"1\" class=\"dataframe\">\n",
       "  <thead>\n",
       "    <tr style=\"text-align: right;\">\n",
       "      <th></th>\n",
       "      <th>locationid</th>\n",
       "      <th>Applicant</th>\n",
       "      <th>FacilityType</th>\n",
       "      <th>cnn</th>\n",
       "      <th>LocationDescription</th>\n",
       "      <th>Address</th>\n",
       "      <th>blocklot</th>\n",
       "      <th>block</th>\n",
       "      <th>lot</th>\n",
       "      <th>permit</th>\n",
       "      <th>Status</th>\n",
       "      <th>FoodItems</th>\n",
       "      <th>X</th>\n",
       "      <th>Y</th>\n",
       "      <th>Latitude</th>\n",
       "      <th>Longitude</th>\n",
       "      <th>Schedule</th>\n",
       "      <th>dayshours</th>\n",
       "      <th>NOISent</th>\n",
       "      <th>Approved</th>\n",
       "      <th>Received</th>\n",
       "      <th>PriorPermit</th>\n",
       "      <th>ExpirationDate</th>\n",
       "      <th>Location</th>\n",
       "    </tr>\n",
       "  </thead>\n",
       "  <tbody>\n",
       "    <tr>\n",
       "      <th>0</th>\n",
       "      <td>1152244</td>\n",
       "      <td>San Francisco's Hometown Creamery</td>\n",
       "      <td>Truck</td>\n",
       "      <td>6109000</td>\n",
       "      <td>GEARY ST: STOCKTON ST to POWELL ST (200 - 299)</td>\n",
       "      <td>281 GEARY ST</td>\n",
       "      <td>0314013</td>\n",
       "      <td>0314</td>\n",
       "      <td>013</td>\n",
       "      <td>17MFF-0001</td>\n",
       "      <td>APPROVED</td>\n",
       "      <td>Ice cream</td>\n",
       "      <td>6010423.418</td>\n",
       "      <td>2114694.802</td>\n",
       "      <td>37.787136</td>\n",
       "      <td>-122.407719</td>\n",
       "      <td>http://bsm.sfdpw.org/PermitsTracker/reports/re...</td>\n",
       "      <td>Su:11AM-11PM;Fr/Sa:6PM-11PM</td>\n",
       "      <td>NaN</td>\n",
       "      <td>10/16/2018 12:00:00 AM</td>\n",
       "      <td>2017-01-09</td>\n",
       "      <td>0</td>\n",
       "      <td>07/15/2019 12:00:00 AM</td>\n",
       "      <td>(37.7871364910861, -122.407718509001)</td>\n",
       "    </tr>\n",
       "    <tr>\n",
       "      <th>1</th>\n",
       "      <td>751253</td>\n",
       "      <td>Pipo's Grill</td>\n",
       "      <td>Truck</td>\n",
       "      <td>5688000</td>\n",
       "      <td>FOLSOM ST: 14TH ST to 15TH ST (1800 - 1899)</td>\n",
       "      <td>1800 FOLSOM ST</td>\n",
       "      <td>3549083</td>\n",
       "      <td>3549</td>\n",
       "      <td>083</td>\n",
       "      <td>16MFF-0010</td>\n",
       "      <td>REQUESTED</td>\n",
       "      <td>Tacos: Burritos: Hot Dogs: and Hamburgers</td>\n",
       "      <td>6007856.719</td>\n",
       "      <td>2107724.046</td>\n",
       "      <td>37.767852</td>\n",
       "      <td>-122.416105</td>\n",
       "      <td>http://bsm.sfdpw.org/PermitsTracker/reports/re...</td>\n",
       "      <td>NaN</td>\n",
       "      <td>NaN</td>\n",
       "      <td>NaN</td>\n",
       "      <td>2016-02-04</td>\n",
       "      <td>0</td>\n",
       "      <td>NaN</td>\n",
       "      <td>(37.7678524427181, -122.416104892532)</td>\n",
       "    </tr>\n",
       "    <tr>\n",
       "      <th>2</th>\n",
       "      <td>735318</td>\n",
       "      <td>Ziaurehman Amini</td>\n",
       "      <td>Push Cart</td>\n",
       "      <td>30727000</td>\n",
       "      <td>MARKET ST: DRUMM ST intersection</td>\n",
       "      <td>5 THE EMBARCADERO</td>\n",
       "      <td>0234017</td>\n",
       "      <td>0234</td>\n",
       "      <td>017</td>\n",
       "      <td>15MFF-0159</td>\n",
       "      <td>REQUESTED</td>\n",
       "      <td>NaN</td>\n",
       "      <td>6013916.720</td>\n",
       "      <td>2117244.027</td>\n",
       "      <td>37.794331</td>\n",
       "      <td>-122.395811</td>\n",
       "      <td>http://bsm.sfdpw.org/PermitsTracker/reports/re...</td>\n",
       "      <td>NaN</td>\n",
       "      <td>NaN</td>\n",
       "      <td>NaN</td>\n",
       "      <td>2015-12-31</td>\n",
       "      <td>0</td>\n",
       "      <td>03/15/2016 12:00:00 AM</td>\n",
       "      <td>(37.7943310032468, -122.395811053023)</td>\n",
       "    </tr>\n",
       "  </tbody>\n",
       "</table>\n",
       "</div>"
      ],
      "text/plain": [
       "   locationid                          Applicant FacilityType       cnn  \\\n",
       "0     1152244  San Francisco's Hometown Creamery        Truck   6109000   \n",
       "1      751253                       Pipo's Grill        Truck   5688000   \n",
       "2      735318                   Ziaurehman Amini    Push Cart  30727000   \n",
       "\n",
       "                              LocationDescription            Address blocklot  \\\n",
       "0  GEARY ST: STOCKTON ST to POWELL ST (200 - 299)       281 GEARY ST  0314013   \n",
       "1     FOLSOM ST: 14TH ST to 15TH ST (1800 - 1899)     1800 FOLSOM ST  3549083   \n",
       "2                MARKET ST: DRUMM ST intersection  5 THE EMBARCADERO  0234017   \n",
       "\n",
       "  block  lot      permit     Status  \\\n",
       "0  0314  013  17MFF-0001   APPROVED   \n",
       "1  3549  083  16MFF-0010  REQUESTED   \n",
       "2  0234  017  15MFF-0159  REQUESTED   \n",
       "\n",
       "                                   FoodItems            X            Y  \\\n",
       "0                                  Ice cream  6010423.418  2114694.802   \n",
       "1  Tacos: Burritos: Hot Dogs: and Hamburgers  6007856.719  2107724.046   \n",
       "2                                        NaN  6013916.720  2117244.027   \n",
       "\n",
       "    Latitude   Longitude                                           Schedule  \\\n",
       "0  37.787136 -122.407719  http://bsm.sfdpw.org/PermitsTracker/reports/re...   \n",
       "1  37.767852 -122.416105  http://bsm.sfdpw.org/PermitsTracker/reports/re...   \n",
       "2  37.794331 -122.395811  http://bsm.sfdpw.org/PermitsTracker/reports/re...   \n",
       "\n",
       "                     dayshours NOISent                Approved    Received  \\\n",
       "0  Su:11AM-11PM;Fr/Sa:6PM-11PM     NaN  10/16/2018 12:00:00 AM  2017-01-09   \n",
       "1                          NaN     NaN                     NaN  2016-02-04   \n",
       "2                          NaN     NaN                     NaN  2015-12-31   \n",
       "\n",
       "   PriorPermit          ExpirationDate                               Location  \n",
       "0            0  07/15/2019 12:00:00 AM  (37.7871364910861, -122.407718509001)  \n",
       "1            0                     NaN  (37.7678524427181, -122.416104892532)  \n",
       "2            0  03/15/2016 12:00:00 AM  (37.7943310032468, -122.395811053023)  "
      ]
     },
     "execution_count": 5,
     "metadata": {},
     "output_type": "execute_result"
    }
   ],
   "source": [
    "sf.head(3)"
   ]
  },
  {
   "cell_type": "markdown",
   "metadata": {},
   "source": [
    "# Cleaning Data\n",
    "\n",
    "Dropping the unnecessary columns."
   ]
  },
  {
   "cell_type": "code",
   "execution_count": 4,
   "metadata": {},
   "outputs": [],
   "source": [
    "sf.drop(['cnn', 'LocationDescription', 'blocklot', 'lot', 'X', 'Y', 'Schedule', 'dayshours', 'NOISent', 'Approved'],\n",
    "                axis=1, inplace=True)"
   ]
  },
  {
   "cell_type": "markdown",
   "metadata": {},
   "source": [
    "Each row represents a single applicant. A applicant can appear multiple times, but I belive they are for seperate locations."
   ]
  },
  {
   "cell_type": "code",
   "execution_count": 7,
   "metadata": {},
   "outputs": [
    {
     "data": {
      "text/plain": [
       "113"
      ]
     },
     "execution_count": 7,
     "metadata": {},
     "output_type": "execute_result"
    }
   ],
   "source": [
    "sf['Applicant'].nunique()"
   ]
  },
  {
   "cell_type": "markdown",
   "metadata": {},
   "source": [
    "So I want to remove all the duplicate applicants, that apply for the same location. If a applicant has mutiple locations that's fine, I just don't want applicants that apply and then reapply for the same location.\n",
    "\n",
    "I'll solve this by removing observations with the same Applicant and Location. While there can be multiple locations per applicant and multiple applicants per location, it is unlikely that the same applicant is requesting multiple permits for the same location. In the real world, this means that a single applicant is setting up multiple food facilities on the same corner. This does not make business sense, so these instances will be excluded and assumed that it is instead applicants reapplying for the same location. \n",
    "\n",
    "Drops rows that have duplicate Applicant and Location columns."
   ]
  },
  {
   "cell_type": "code",
   "execution_count": 5,
   "metadata": {},
   "outputs": [],
   "source": [
    "sf.drop_duplicates(subset=['Applicant','Location'], inplace=True)"
   ]
  },
  {
   "cell_type": "markdown",
   "metadata": {},
   "source": [
    "Some of the Locations are (0,0). While they do have a Address attached to them finding the latitute and longitude of each address would be too time consuming. Instead, observations with Latitutde with value of 0 will simply be dropped."
   ]
  },
  {
   "cell_type": "code",
   "execution_count": 6,
   "metadata": {},
   "outputs": [],
   "source": [
    "sf = sf.loc[sf['Latitude'] != 0]"
   ]
  },
  {
   "cell_type": "markdown",
   "metadata": {},
   "source": [
    "# EDA\n",
    "\n",
    "The vast majority of the permits are for food trucks. Only 51 permits are for food push carts."
   ]
  },
  {
   "cell_type": "code",
   "execution_count": 8,
   "metadata": {},
   "outputs": [
    {
     "data": {
      "image/png": "[encoded data removed]",
      "text/plain": [
       "<Figure size 648x648 with 1 Axes>"
      ]
     },
     "metadata": {},
     "output_type": "display_data"
    }
   ],
   "source": [
    "sns.countplot('FacilityType', data=sf)\n",
    "\n",
    "plt.xlabel('Facility Type')\n",
    "plt.ylabel('Count')\n",
    "plt.title('Permitted facility counts')\n",
    "plt.show()"
   ]
  },
  {
   "cell_type": "markdown",
   "metadata": {},
   "source": [
    "We want a further breakdown of the data to see who is apply for permits and how many are they applying for. We do this by aggregating the data, counting the number of occurrences a Applicant appears in the dataset."
   ]
  },
  {
   "cell_type": "code",
   "execution_count": 10,
   "metadata": {},
   "outputs": [],
   "source": [
    "sf_app = sf.groupby(['Applicant']).size().to_frame('Count')\n",
    "\n",
    "sf_app.index.name = 'Applicant'\n",
    "sf_app.reset_index(inplace=True)\n",
    "sf_app.sort_values(by=['Count'], inplace=True)"
   ]
  },
  {
   "cell_type": "markdown",
   "metadata": {},
   "source": [
    "A barplot of the number of permits per applicant is displayed below. Because we removed duplicates, this graph also shows the number of locations per applicant. 32% of applicants only have one location and 86% of applicants have less than 10 locations. The top 10 applicants hold 48% of the permits. The applicant with the most permits, May Catering, holds 9% of all permits with 52 total permits."
   ]
  },
  {
   "cell_type": "code",
   "execution_count": 13,
   "metadata": {},
   "outputs": [
    {
     "data": {
      "image/png": "[encoded data removed]",
      "text/plain": [
       "<Figure size 864x864 with 1 Axes>"
      ]
     },
     "metadata": {},
     "output_type": "display_data"
    }
   ],
   "source": [
    "plt.figure(figsize=(12,12))\n",
    "\n",
    "sns.barplot('Applicant', 'Count', data=sf_app)\n",
    "\n",
    "plt.xticks([])\n",
    "plt.xlabel('Applicant')\n",
    "plt.ylabel('Count')\n",
    "plt.title('Permits per applicant')\n",
    "\n",
    "plt.show()"
   ]
  },
  {
   "cell_type": "markdown",
   "metadata": {},
   "source": [
    "sf_app_breakdown returns the frequency of a number of permits. This gives us an idea of how common it is to have a Applicant to have X number of locations."
   ]
  },
  {
   "cell_type": "code",
   "execution_count": 58,
   "metadata": {},
   "outputs": [
    {
     "data": {
      "text/html": [
       "<div>\n",
       "<style scoped>\n",
       "    .dataframe tbody tr th:only-of-type {\n",
       "        vertical-align: middle;\n",
       "    }\n",
       "\n",
       "    .dataframe tbody tr th {\n",
       "        vertical-align: top;\n",
       "    }\n",
       "\n",
       "    .dataframe thead th {\n",
       "        text-align: right;\n",
       "    }\n",
       "</style>\n",
       "<table border=\"1\" class=\"dataframe\">\n",
       "  <thead>\n",
       "    <tr style=\"text-align: right;\">\n",
       "      <th></th>\n",
       "      <th>Num_Locations</th>\n",
       "      <th>Num_applicant</th>\n",
       "      <th>Percentage</th>\n",
       "    </tr>\n",
       "  </thead>\n",
       "  <tbody>\n",
       "    <tr>\n",
       "      <th>0</th>\n",
       "      <td>1</td>\n",
       "      <td>35</td>\n",
       "      <td>0.321101</td>\n",
       "    </tr>\n",
       "    <tr>\n",
       "      <th>1</th>\n",
       "      <td>2</td>\n",
       "      <td>24</td>\n",
       "      <td>0.220183</td>\n",
       "    </tr>\n",
       "    <tr>\n",
       "      <th>2</th>\n",
       "      <td>3</td>\n",
       "      <td>13</td>\n",
       "      <td>0.119266</td>\n",
       "    </tr>\n",
       "    <tr>\n",
       "      <th>3</th>\n",
       "      <td>4</td>\n",
       "      <td>10</td>\n",
       "      <td>0.091743</td>\n",
       "    </tr>\n",
       "    <tr>\n",
       "      <th>4</th>\n",
       "      <td>5</td>\n",
       "      <td>4</td>\n",
       "      <td>0.036697</td>\n",
       "    </tr>\n",
       "    <tr>\n",
       "      <th>5</th>\n",
       "      <td>6</td>\n",
       "      <td>4</td>\n",
       "      <td>0.036697</td>\n",
       "    </tr>\n",
       "    <tr>\n",
       "      <th>6</th>\n",
       "      <td>7</td>\n",
       "      <td>2</td>\n",
       "      <td>0.018349</td>\n",
       "    </tr>\n",
       "    <tr>\n",
       "      <th>7</th>\n",
       "      <td>8</td>\n",
       "      <td>2</td>\n",
       "      <td>0.018349</td>\n",
       "    </tr>\n",
       "    <tr>\n",
       "      <th>8</th>\n",
       "      <td>11</td>\n",
       "      <td>1</td>\n",
       "      <td>0.009174</td>\n",
       "    </tr>\n",
       "    <tr>\n",
       "      <th>9</th>\n",
       "      <td>12</td>\n",
       "      <td>1</td>\n",
       "      <td>0.009174</td>\n",
       "    </tr>\n",
       "    <tr>\n",
       "      <th>10</th>\n",
       "      <td>13</td>\n",
       "      <td>1</td>\n",
       "      <td>0.009174</td>\n",
       "    </tr>\n",
       "    <tr>\n",
       "      <th>11</th>\n",
       "      <td>14</td>\n",
       "      <td>2</td>\n",
       "      <td>0.018349</td>\n",
       "    </tr>\n",
       "    <tr>\n",
       "      <th>12</th>\n",
       "      <td>16</td>\n",
       "      <td>1</td>\n",
       "      <td>0.009174</td>\n",
       "    </tr>\n",
       "    <tr>\n",
       "      <th>13</th>\n",
       "      <td>17</td>\n",
       "      <td>1</td>\n",
       "      <td>0.009174</td>\n",
       "    </tr>\n",
       "    <tr>\n",
       "      <th>14</th>\n",
       "      <td>18</td>\n",
       "      <td>1</td>\n",
       "      <td>0.009174</td>\n",
       "    </tr>\n",
       "    <tr>\n",
       "      <th>15</th>\n",
       "      <td>21</td>\n",
       "      <td>1</td>\n",
       "      <td>0.009174</td>\n",
       "    </tr>\n",
       "    <tr>\n",
       "      <th>16</th>\n",
       "      <td>22</td>\n",
       "      <td>1</td>\n",
       "      <td>0.009174</td>\n",
       "    </tr>\n",
       "    <tr>\n",
       "      <th>17</th>\n",
       "      <td>26</td>\n",
       "      <td>1</td>\n",
       "      <td>0.009174</td>\n",
       "    </tr>\n",
       "    <tr>\n",
       "      <th>18</th>\n",
       "      <td>31</td>\n",
       "      <td>1</td>\n",
       "      <td>0.009174</td>\n",
       "    </tr>\n",
       "    <tr>\n",
       "      <th>19</th>\n",
       "      <td>35</td>\n",
       "      <td>1</td>\n",
       "      <td>0.009174</td>\n",
       "    </tr>\n",
       "    <tr>\n",
       "      <th>20</th>\n",
       "      <td>38</td>\n",
       "      <td>1</td>\n",
       "      <td>0.009174</td>\n",
       "    </tr>\n",
       "    <tr>\n",
       "      <th>21</th>\n",
       "      <td>52</td>\n",
       "      <td>1</td>\n",
       "      <td>0.009174</td>\n",
       "    </tr>\n",
       "  </tbody>\n",
       "</table>\n",
       "</div>"
      ],
      "text/plain": [
       "    Num_Locations  Num_applicant  Percentage\n",
       "0               1             35    0.321101\n",
       "1               2             24    0.220183\n",
       "2               3             13    0.119266\n",
       "3               4             10    0.091743\n",
       "4               5              4    0.036697\n",
       "5               6              4    0.036697\n",
       "6               7              2    0.018349\n",
       "7               8              2    0.018349\n",
       "8              11              1    0.009174\n",
       "9              12              1    0.009174\n",
       "10             13              1    0.009174\n",
       "11             14              2    0.018349\n",
       "12             16              1    0.009174\n",
       "13             17              1    0.009174\n",
       "14             18              1    0.009174\n",
       "15             21              1    0.009174\n",
       "16             22              1    0.009174\n",
       "17             26              1    0.009174\n",
       "18             31              1    0.009174\n",
       "19             35              1    0.009174\n",
       "20             38              1    0.009174\n",
       "21             52              1    0.009174"
      ]
     },
     "execution_count": 58,
     "metadata": {},
     "output_type": "execute_result"
    }
   ],
   "source": [
    "sf_app_breakdown = sf_app.groupby('Count').count()\n",
    "\n",
    "sf_app_breakdown['Percentage'] = sf_app_breakdown['Applicant']/sf_app_breakdown['Applicant'].sum()\n",
    "sf_app_breakdown.reset_index(inplace=True)\n",
    "sf_app_breakdown.rename(columns={'Count':'Num_Locations', 'Applicant':'Num_applicant'})"
   ]
  },
  {
   "cell_type": "markdown",
   "metadata": {},
   "source": [
    "Looking at which the distribution of the status of mobile food facilities. Ultimately we want to determine if there is a difference between the two facility types, that is if being a food truck means you are more likely to be approved."
   ]
  },
  {
   "cell_type": "code",
   "execution_count": 14,
   "metadata": {},
   "outputs": [
    {
     "data": {
      "image/png": "[encoded data removed]",
      "text/plain": [
       "<Figure size 648x648 with 1 Axes>"
      ]
     },
     "metadata": {},
     "output_type": "display_data"
    }
   ],
   "source": [
    "sns.countplot('Status', hue='FacilityType', data=sf)\n",
    "plt.show()"
   ]
  },
  {
   "cell_type": "markdown",
   "metadata": {},
   "source": [
    "Preforming a binomial test to see if the proportions below reflect the sample proportions."
   ]
  },
  {
   "cell_type": "code",
   "execution_count": 64,
   "metadata": {},
   "outputs": [
    {
     "name": "stdout",
     "output_type": "stream",
     "text": [
      "p-value for the binomial test of approved: 0.011714288484693375\n"
     ]
    }
   ],
   "source": [
    "facility_counts = sf.groupby('FacilityType').size()\n",
    "push = facility_counts.iloc[0]/len(sf)\n",
    "truck = facility_counts.iloc[1]/len(sf)\n",
    "\n",
    "xtab = pd.crosstab(sf.FacilityType, sf.Status)\n",
    "approved = xtab.iloc[0][0] + xtab.iloc[1][0]\n",
    "\n",
    "print('p-value for the binomial test of approved:', binom_test(xtab.iloc[1][0], n=approved, p=truck))"
   ]
  },
  {
   "cell_type": "markdown",
   "metadata": {},
   "source": [
    "We preformed a two-sided binomial test to test if the proportions of each status reflect the proportion in the dataset. We'll use the default $\\alpha$ value of 0.05 as the significance level. Because the p-values are less than our significance level we'll reject our $H_{0}$. That is, the number of approved permits for food trucks differs significantly from the expected value."
   ]
  },
  {
   "cell_type": "code",
   "execution_count": 67,
   "metadata": {},
   "outputs": [
    {
     "name": "stdout",
     "output_type": "stream",
     "text": [
      "p-value for the binomial test of requested: 0.022043648322388094\n"
     ]
    }
   ],
   "source": [
    "requested = xtab.iloc[0][1] + xtab.iloc[1][1]\n",
    "\n",
    "print('p-value for the binomial test of requested:', binom_test(xtab.iloc[1][1], n=requested, p=truck))"
   ]
  },
  {
   "cell_type": "markdown",
   "metadata": {},
   "source": [
    "Running another binomial test with requested gives us another p-value lower than our $\\alpha$ value of 0.05, so again we can reject our $H_0$. Therefore, there is a statistically significant difference in the observed number from the expected number.\n",
    "\n",
    "We can't perform a binomial test on the rest of the categories because we have > 5 observations of each mobile food facility."
   ]
  },
  {
   "cell_type": "markdown",
   "metadata": {},
   "source": [
    "# Plot\n",
    "\n",
    "Splitting the data so we can have differently colored points for push carts and food trucks."
   ]
  },
  {
   "cell_type": "code",
   "execution_count": 7,
   "metadata": {},
   "outputs": [],
   "source": [
    "map_push = sf[sf['FacilityType'] == 'Push Cart']\n",
    "map_truck = sf[sf['FacilityType'] == 'Truck']"
   ]
  },
  {
   "cell_type": "code",
   "execution_count": 8,
   "metadata": {},
   "outputs": [
    {
     "data": {
      "text/html": [
       "<div id=\"8bc59729-6205-4ec3-a6f0-c567a8da6015\" style=\"height: 930px; width: 960px;\" class=\"plotly-graph-div\"></div><script type=\"text/javascript\">require([\"plotly\"], function(Plotly) { window.PLOTLYENV=window.PLOTLYENV || {};window.PLOTLYENV.BASE_URL=\"https://plot.ly\";Plotly.newPlot(\"8bc59729-6205-4ec3-a6f0-c567a8da6015\", [{\"hoverinfo\": \"text\", \"lat\": [37.794331003246796, 37.7878896999061, 37.7932137316634, 37.774259263059996, 37.7710219992437, 37.7822807724186, 37.7898898782098, 37.7917572059444, 37.7834700660829, 37.7877552989675, 37.7886212190862, 37.7875984155546, 37.793871507150605, 37.7931486269835, 37.7904067199405, 37.7851109204478, 37.7879142297241, 37.7638580813603, 37.790947041923395, 37.7765668965195, 37.776039062665895, 37.787242602596706, 37.8077432884455, 37.784990279306506, 37.793871507150605, 37.794331003246796, 37.7851109204478, 37.777642208509995, 37.7932137316634, 37.7871762917416, 37.792109338609, 37.775510138049505, 37.783946907974205, 37.7835133512454, 37.7853956394405, 37.786856111883104, 37.789233282896106, 37.7821536409986, 37.760086931987, 37.7743376663696, 37.7946438346195, 37.7889101495704, 37.785469746489895, 37.7469482955131, 37.7909215072692, 37.788864715342996, 37.790548318183205, 37.7931486269835, 37.7940531837329, 37.782834163698396, 37.7831754207336], \"lon\": [-122.395811053023, -122.400535326777, -122.397043036718, -122.419485988398, -122.403546254184, -122.40953118732, -122.399930411351, -122.39889763689199, -122.408040736138, -122.408782213965, -122.408068906407, -122.404090439434, -122.39486523862101, -122.402567175578, -122.399275886086, -122.407422668277, -122.405270523095, -122.42208262099301, -122.39863358940399, -122.42339537672702, -122.424175571492, -122.40687973821301, -122.42414994487, -122.405676629072, -122.39486523862101, -122.395811053023, -122.407422668277, -122.393418145932, -122.397043036718, -122.407398075958, -122.39580386550199, -122.390999306002, -122.407158344984, -122.400813391105, -122.40439104283001, -122.406891892997, -122.40557905421001, -122.406601106839, -122.418806481101, -122.394053286313, -122.399644298529, -122.40719603412201, -122.406615761073, -122.40339096031299, -122.400100423738, -122.39935935136299, -122.40033367367901, -122.402567175578, -122.397347693326, -122.40883794044599, -122.409568315547], \"marker\": {\"color\": \"orange\", \"opacity\": 0.6, \"size\": 7}, \"mode\": \"markers\", \"name\": \"Push Carts\", \"text\": [\"Ziaurehman Amini\", \"The Chai Cart\", \"Ziaurehman Amini\", \"Athena SF Gyro\", \"Athena SF Gyro\", \"Golden Gate Halal Food\", \"Halal Cart of San Francisco\", \"Halal Cart of San Francisco\", \"Halal Cart, LLC\", \"San Francisco Carts & Concessions, Inc. DBA Stanley's Steamers Hot Dogs\", \"San Francisco Carts & Concessions, Inc. DBA Stanley's Steamers Hot Dogs\", \"Mob Dog\", \"Halal Cart of San Francisco\", \"Halal Cart, LLC\", \"CC Acquisition LLC\", \"The New York Frankfurter Co. of CA, Inc. DBA: Annie's Hot Dogs\", \"San Francisco Carts & Concessions, Inc. DBA Stanley's Steamers Hot Dogs\", \"CC Acquisition LLC\", \"Halal Cart, LLC\", \"Let's Be Frank\", \"Let's Be Frank\", \"San Francisco Carts & Concessions, Inc. DBA Stanley's Steamers Hot Dogs\", \"Bay Area Dots, LLC\", \"Creme Brulee To Go\", \"Halal Cart, LLC\", \"San Francisco Street Foods, Inc.\", \"Creme Brulee To Go\", \"Kabob Trolley, LLC\", \"CC Acquisition LLC\", \"San Francisco Carts & Concessions, Inc. DBA Stanley's Steamers Hot Dogs\", \"Faith Sandwich\", \"Got Snacks\", \"Kettle Corn Star\", \"San Francisco Street Foods, Inc.\", \"Kettle Corn Star\", \"The New York Frankfurter Co. of CA, Inc. DBA: Annie's Hot Dogs\", \"San Francisco Street Foods, Inc.\", \"Fresh Made Cafe\", \"Leo's Hot Dogs\", \"Wonder Philly\", \"San Francisco Street Foods, Inc.\", \"San Francisco Carts & Concessions, Inc. DBA Stanley's Steamers Hot Dogs\", \"The New York Frankfurter Co. of CA, Inc. DBA: Annie's Hot Dogs\", \"Eli's Hot Dogs\", \"Quick Grub\", \"Faith Sandwich\", \"Taza Halal Cart\", \"Halal Cart of San Francisco\", \"Halal Food\", \"Yummy Hot Dogs\", \"Yummy Hot Dogs\"], \"type\": \"scattermapbox\", \"uid\": \"d4cfe12b-be01-4bbd-a2e1-c370445deeac\"}, {\"hoverinfo\": \"text\", \"lat\": [37.7871364910861, 37.7678524427181, 37.7453089086563, 37.7350042289514, 37.7865580501799, 37.7899138671344, 37.742550373559205, 37.741290284770706, 37.7933707169278, 37.774074841058294, 37.753717416902106, 37.7525772700714, 37.7706453983908, 37.790591982508296, 37.753040320194295, 37.7929489528347, 37.766510926908296, 37.785345676641796, 37.7733408773453, 37.7638066535277, 37.7988640669494, 37.7516910357229, 37.793871507150605, 37.774984306068795, 37.7865580501799, 37.7569070856214, 37.75472460401279, 37.770892231031794, 37.7579841905286, 37.7635404839296, 37.7093754640014, 37.7856100863691, 37.804577869090096, 37.7243975297434, 37.780918000993, 37.77582551975829, 37.7457292216884, 37.744889286143, 37.7479309361129, 37.7652159489938, 37.7903462473414, 37.789666826962105, 37.781596745760204, 37.743713475368, 37.7760987531573, 37.759240285150206, 37.773915065679795, 37.7429898747753, 37.7969137124835, 37.7679955456856, 37.710841283585296, 37.794793001017794, 37.7640520899242, 37.7885275753132, 37.7862367744654, 37.729438288454, 37.7893854510391, 37.7891192076677, 37.7888771172666, 37.7521241631187, 37.767347670704105, 37.7267279782571, 37.7875875047281, 37.7973050323335, 37.752241668480295, 37.7755661544145, 37.792029058081106, 37.766217450679996, 37.724172892761295, 37.7508496068125, 37.7951055609814, 37.7870765303843, 37.775589079959396, 37.768903520566504, 37.7666247727157, 37.7267096753687, 37.789691367587, 37.773610979516, 37.7744491107754, 37.778385358647704, 37.769124412168104, 37.7287879577264, 37.77900126791779, 37.7456930261204, 37.7539277357265, 37.7536799789675, 37.7654969876192, 37.7272121739004, 37.7386499426562, 37.7519716288769, 37.77662691992229, 37.7992601135023, 37.7720086564688, 37.7899082332987, 37.7992601135023, 37.765459737468206, 37.7609571682785, 37.7447521916164, 37.778266576694605, 37.7467555544775, 37.7933225090245, 37.7618523975041, 37.711632281194895, 37.723078757516, 37.7438311721327, 37.7441784473757, 37.7269507643782, 37.778710391900894, 37.7706833950426, 37.78956931389661, 37.7909215072692, 37.7923667868831, 37.7447521916164, 37.776550042819096, 37.757917056690104, 37.7232598663241, 37.7807231475444, 37.790485146128, 37.7638707601661, 37.7417606496655, 37.7891192076677, 37.7508496068125, 37.77812837973379, 37.7749754998217, 37.7298054805741, 37.726470716246, 37.776222759514205, 37.7253194336755, 37.791557864154896, 37.779051111573104, 37.7908384194517, 37.781264686022794, 37.7685570713121, 37.7737417037881, 37.772561689774, 37.7934465278161, 37.7570155244597, 37.726594363386795, 37.7730967713109, 37.7749445348205, 37.7922955998187, 37.7921505484817, 37.7187880790201, 37.789248908413704, 37.791777078364206, 37.766124694427, 37.764202378301896, 37.7879549596858, 37.779744572938796, 37.7201747226493, 37.7721522432444, 37.7711790005481, 37.7783302557659, 37.7794637316225, 37.7802154802881, 37.7781481274607, 37.7715867026703, 37.7859156878693, 37.788778723378, 37.756923653734106, 37.7244132432963, 37.7483758257779, 37.7881452832928, 37.7718682257671, 37.775228307834, 37.7189398190959, 37.796123380252105, 37.7636598013494, 37.726382932182204, 37.750048825970396, 37.7696400322177, 37.7504641155225, 37.733438811640795, 37.788457028828894, 37.7502368847791, 37.7494429376004, 37.793681345774104, 37.76785526935429, 37.7800771744392, 37.7987549364009, 37.736572182418705, 37.7309061503597, 37.717174161803605, 37.7550307267667, 37.7969490060212, 37.7777552165686, 37.7791572053411, 37.793176638624395, 37.75093164764021, 37.7516084135789, 37.7512694058781, 37.7556370098323, 37.7631083253767, 37.7732879404704, 37.723056509338896, 37.787973283216, 37.7992601135023, 37.790485146128, 37.7923898619832, 37.7437839233827, 37.7251817007288, 37.7810746780754, 37.7763814259936, 37.7975789880604, 37.7303742378628, 37.7266647697066, 37.723576856488705, 37.7687652509586, 37.7254980479505, 37.753360829455104, 37.788864715342996, 37.735005299128396, 37.726708272962206, 37.727086633951394, 37.7492558595291, 37.77140194658789, 37.7934414335598, 37.7259455580465, 37.7393786694373, 37.7734452149215, 37.7438311721327, 37.759796271722706, 37.7802159385025, 37.7550307267667, 37.7736941524749, 37.7477720916075, 37.74459119509171, 37.7638112772906, 37.7555344716039, 37.7831711043434, 37.7580373934881, 37.7711099394372, 37.7786515145076, 37.7936733815047, 37.7844204919929, 37.7615022039664, 37.7100033342894, 37.789249534075104, 37.7763271477899, 37.7873224193199, 37.7259304950399, 37.748445338837705, 37.7524049924783, 37.8037902440403, 37.722793688759296, 37.7770478751493, 37.7430142496315, 37.7782328396736, 37.7261456924729, 37.7292233375937, 37.727168068782, 37.7806943774082, 37.7267279782571, 37.7730940844723, 37.7724967778067, 37.7272340074959, 37.794929095049895, 37.787514060738104, 37.8050495090589, 37.78813947887161, 37.7546149514892, 37.725450702172296, 37.787157744173996, 37.720449362659394, 37.767797843619, 37.753717416902106, 37.726125239645, 37.780724097769706, 37.7104516918675, 37.7396787918079, 37.793186123336, 37.7192002177133, 37.786319798284005, 37.7485497942591, 37.7926407167337, 37.775725484934796, 37.7647453507195, 37.7264851632165, 37.795051430826, 37.7520745862084, 37.7651064631908, 37.7891192076677, 37.7488013777145, 37.7790554424684, 37.7242977785276, 37.7238788408325, 37.785940320173395, 37.75313903797839, 37.7257891398124, 37.789826918763296, 37.7716538513679, 37.7416236862353, 37.793304275561, 37.7740709289616, 37.722629217598296, 37.7270146636245, 37.712302604744394, 37.7271104333828, 37.7550307267667, 37.786904919457, 37.7962154965941, 37.7638640323832, 37.7839220701115, 37.793304275561, 37.7164430021474, 37.7528223681215, 37.7536998999438, 37.7678171814141, 37.778493597185204, 37.7393571608675, 37.7922616341775, 37.800220915592206, 37.77582551975829, 37.7935769332618, 37.769897748896106, 37.7940531837329, 37.7677340926708, 37.796479996816394, 37.7488013777145, 37.7723639147673, 37.7773831451062, 37.7953158932065, 37.7818671175741, 37.7632990560446, 37.7533808099749, 37.738726803987106, 37.758786162305604, 37.732134951922205, 37.766897602559204, 37.7410262077887, 37.7808315769119, 37.7927957415787, 37.7476160722331, 37.743224683861605, 37.7417178307439, 37.7708182299993, 37.7806472100484, 37.771158036961495, 37.781380027554896, 37.774703047468705, 37.754251708893705, 37.775774368410296, 37.710193019975705, 37.7886969986403, 37.7492558595291, 37.7824235632947, 37.763462959906605, 37.792385444513, 37.716991290324, 37.7265904795194, 37.710933792981, 37.7823601210175, 37.7683069928, 37.7768763887765, 37.780868436568106, 37.7791762107668, 37.7448024193644, 37.778384300969, 37.726725793811795, 37.771027796614, 37.7502368847791, 37.7857695742295, 37.7526605204123, 37.7637272136329, 37.7969137124835, 37.7185220485664, 37.7475862762565, 37.7860625210972, 37.7516910357229, 37.7638640323832, 37.7444982132112, 37.7816889753451, 37.7932622069231, 37.7757128589746, 37.7377268665958, 37.740994735002396, 37.7720098406711, 37.7879000978181, 37.792346385148, 37.7251817007288, 37.7955856498634, 37.7581699396153, 37.7286714428179, 37.726249481798604, 37.727744490701106, 37.787565165378794, 37.7925359884311, 37.771467215901, 37.7742302291309, 37.7776578362104, 37.7752901423195, 37.753108749871295, 37.7489503634271, 37.7701375805015, 37.792346385148, 37.739111429745, 37.7844207368995, 37.7789185898934, 37.788864715342996, 37.7267339112416, 37.7644595214424, 37.74671130304029, 37.746469788114794, 37.7214508397335, 37.788457028828894, 37.7876716444879, 37.7835091222127, 37.788583655156, 37.7679845948645, 37.7394454528691, 37.7901855706334, 37.744889286143, 37.7865580501799, 37.7891192076677, 37.7928707497415, 37.787988648995295, 37.7662450471029, 37.761709158011605, 37.779159119969, 37.7588799920148, 37.77582551975829, 37.7821536409986, 37.783046099749996, 37.7441784473757, 37.7239799038929, 37.7683202495106, 37.7544764341075, 37.762476819591, 37.790885463501894, 37.776048708092205, 37.7598258374358, 37.7763271477899, 37.7489792411554, 37.7655864681473, 37.7641601282203, 37.7901490737255, 37.764038182817394, 37.7194317184807, 37.789486696127796, 37.7921505484817, 37.7654338684827, 37.7650271638822, 37.7240091065402, 37.769087126767104, 37.761571848719704, 37.7592459190261, 37.7629143116115, 37.717779453627, 37.7434400420051, 37.7599514294279, 37.7499452857571, 37.746104451715205, 37.7475862762565, 37.7914265413321, 37.7478431533724, 37.763690871096, 37.7487621514792, 37.7164430021474, 37.744039098601704, 37.768075885952705, 37.7495331145231, 37.7666898573867, 37.7644523927651, 37.792609401119, 37.756717299837106, 37.710837931141, 37.7871828477154, 37.7628149532289, 37.747954964567796, 37.7743376663696, 37.7932622069231, 37.765820454483205, 37.788778723378, 37.7743980109403, 37.749916469390996, 37.7600996654893, 37.7476160722331, 37.7456366838808, 37.772039113525, 37.740303872806, 37.7531551067155, 37.7550307267667, 37.7571245603861, 37.7653706693171, 37.7533400011811, 37.7300036831892, 37.738117771591895, 37.7331423951426, 37.7611829945051, 37.7631563932265, 37.7682493867935, 37.74459119509171, 37.7447521916164, 37.76743301733121, 37.748445338837705, 37.7593037663834, 37.7583033956425, 37.7464705066471, 37.76854328902421, 37.749458329027, 37.7428202346759, 37.7524049924783, 37.7644472955619, 37.7679955456856, 37.7620084580302, 37.764741322675, 37.748848056566295, 37.770702976097496, 37.7674662871448, 37.778388615786604, 37.7507607694601, 37.7477720916075, 37.769124412168104, 37.7454064294164, 37.788457028828894], \"lon\": [-122.407718509001, -122.416104892532, -122.40342005999901, -122.39017246969999, -122.40103337535, -122.405232892524, -122.49267708221501, -122.49437792043501, -122.39423328044799, -122.390668458146, -122.38835902104401, -122.406806417152, -122.39347693719999, -122.4030568853, -122.38663176353799, -122.398098613167, -122.40926014493, -122.39945527669799, -122.422806203983, -122.412610953897, -122.400263583781, -122.39437421326299, -122.39486523862101, -122.40784088806002, -122.40103337535, -122.39052536813499, -122.388456870373, -122.389169231483, -122.433465780407, -122.390096643663, -122.404154378509, -122.408154764345, -122.43301077434299, -122.391505116383, -122.39241698313299, -122.41724962664301, -122.387797650837, -122.390971976935, -122.415193153909, -122.406006972029, -122.401850190989, -122.451627836117, -122.43485778844, -122.38596479003598, -122.40028723986799, -122.418544171117, -122.420026291504, -122.386773267176, -122.396650675264, -122.387549426547, -122.399642614963, -122.40386388586501, -122.390144393988, -122.418313685721, -122.38906620560499, -122.376657800723, -122.409591260467, -122.39588103933501, -122.420091020038, -122.475872322222, -122.420476639081, -122.388658428832, -122.39047154033199, -122.43194660058599, -122.389188542589, -122.393279842341, -122.446576890144, -122.403952784121, -122.389735429011, -122.390027615501, -122.400876633726, -122.392982624228, -122.39797690638001, -122.415981174601, -122.429511176347, -122.385294691187, -122.396595637084, -122.40595840711201, -122.402087236063, -122.41138253950001, -122.391474911246, -122.392294820702, -122.40448509035801, -122.390714584821, -122.41332312961799, -122.390414532294, -122.464597619571, -122.399636251644, -122.40618611429501, -122.387965483801, -122.399555503787, -122.39961794865499, -122.399083845473, -122.45676253398199, -122.39961794865499, -122.40213637617902, -122.421824199358, -122.385679248721, -122.39883592244499, -122.400906270359, -122.44011927447399, -122.38993209325001, -122.390016333636, -122.387525704017, -122.377797368962, -122.386715929759, -122.387979956262, -122.40183935033001, -122.420879561399, -122.39512939052099, -122.400100423738, -122.40014830676701, -122.385679248721, -122.446307635558, -122.39547585248998, -122.39117288596901, -122.447789640478, -122.40094044068998, -122.460600563879, -122.38909797019501, -122.39588103933501, -122.390027615501, -122.418652129997, -122.40938582319401, -122.39924710472401, -122.381541219158, -122.41390733044099, -122.381389209427, -122.391671499786, -122.398303881334, -122.401160370299, -122.39322904153799, -122.40961023629801, -122.43787537840599, -122.404474024011, -122.400343675592, -122.394062947116, -122.39235562563101, -122.412745077205, -122.41443674475201, -122.40070689723301, -122.39399997405899, -122.39810598775, -122.39889295934601, -122.397132524462, -122.39547306227, -122.39428524233999, -122.397236543731, -122.40964834306101, -122.389407114342, -122.387742984116, -122.406573673429, -122.411515865268, -122.40886795102301, -122.41602577015101, -122.394440688559, -122.414007043024, -122.41730228468501, -122.40257456841101, -122.393549610536, -122.390157239611, -122.40320062649599, -122.39118192026301, -122.405657636251, -122.41746613187, -122.390517872066, -122.39727320433799, -122.389133857405, -122.378434782668, -122.39967205970899, -122.38623665419901, -122.387908325902, -122.38046754951799, -122.399884160566, -122.397818031719, -122.387985532504, -122.442002100568, -122.422484404162, -122.393767294483, -122.40179879385401, -122.378209667202, -122.373302577485, -122.392222474624, -122.384530734223, -122.402183431894, -122.394807823179, -122.411615430519, -122.446061864659, -122.411419966206, -122.39030948950099, -122.389894366944, -122.405101930379, -122.413454890022, -122.440032316635, -122.39111194064199, -122.40018504988899, -122.39961794865499, -122.40094044068998, -122.401269695236, -122.40378882961001, -122.38819268844401, -122.391705661167, -122.406934051626, -122.411439886089, -122.38186187865699, -122.384144224606, -122.390059101399, -122.41690220595301, -122.388369150442, -122.393045920798, -122.39935935136299, -122.415417409745, -122.3836249172, -122.381074448749, -122.39097537957701, -122.391771646847, -122.44389121378401, -122.382281153253, -122.386337945153, -122.400482576546, -122.377797368962, -122.40957342162399, -122.40905748550101, -122.384530734223, -122.40965844135599, -122.397031718978, -122.393076880858, -122.391265350599, -122.39392527753901, -122.39290104947901, -122.39167189068199, -122.389190040328, -122.41122956752501, -122.398463509486, -122.39438063910102, -122.38927699608101, -122.471411913129, -122.402418597294, -122.39179682107701, -122.39222370638299, -122.389215559421, -122.38687903198, -122.387000196298, -122.42414517498301, -122.391719666472, -122.407035093451, -122.384460244935, -122.41082298950701, -122.38822774090299, -122.39461306266399, -122.390029148701, -122.409668813219, -122.388658428832, -122.405145856485, -122.41420984516701, -122.38181551187, -122.443832982483, -122.399566331429, -122.41433443693998, -122.392579515374, -122.39038813202, -122.391991641418, -122.395447605152, -122.395915014237, -122.412096318861, -122.38835902104401, -122.383199327239, -122.40123539265801, -122.39614907899599, -122.386493384555, -122.44588941867501, -122.395976731096, -122.398235074249, -122.416170662008, -122.39897033211099, -122.412656122589, -122.41656213946999, -122.38323245870701, -122.446134422674, -122.390144900822, -122.38967948728998, -122.39588103933501, -122.400552458785, -122.420935196036, -122.459377309548, -122.387010878785, -122.397799933858, -122.39024681698099, -122.378972719624, -122.42112628905599, -122.411809068524, -122.401547206397, -122.40145899841299, -122.41290398690799, -122.390061846327, -122.387497359022, -122.431644190373, -122.388261288144, -122.384530734223, -122.390920262962, -122.403754558245, -122.458391749844, -122.446721633172, -122.40145899841299, -122.389937879321, -122.405531919216, -122.390068346908, -122.420575335142, -122.42295474739599, -122.39152281175899, -122.403485955391, -122.399569018577, -122.41724962664301, -122.40322987670099, -122.39109827963499, -122.397347693326, -122.410152601942, -122.442530024725, -122.400552458785, -122.39704097036301, -122.405458166501, -122.4399079176, -122.429885247603, -122.388482306805, -122.386367685857, -122.40673602990499, -122.390958398693, -122.375398078567, -122.42032247306801, -122.387792927994, -122.41994286468201, -122.40135328093099, -122.401976975724, -122.385342973421, -122.40541797744801, -122.41400729759701, -122.39462918166201, -122.38693125756201, -122.423143845506, -122.39408939657, -122.38938122888, -122.437331607841, -122.455221906126, -122.40747042036999, -122.39097537957701, -122.393236399398, -122.39401294737699, -122.44399150943701, -122.38959908417, -122.381752211406, -122.40278453801001, -122.40209599456301, -122.41200033609199, -122.40025957520201, -122.42546772661801, -122.407221758472, -122.402540218927, -122.438782388567, -122.389249858027, -122.407314201313, -122.397818031719, -122.407677264497, -122.475473531781, -122.40933414879, -122.396650675264, -122.396661444417, -122.398865700796, -122.392176463949, -122.39437421326299, -122.458391749844, -122.396955405842, -122.39106181728701, -122.40178909136299, -122.406950379686, -122.376572914573, -122.40117233538601, -122.41246279621402, -122.394594036205, -122.402385322794, -122.38819268844401, -122.44171824428801, -122.390900582667, -122.38186508864099, -122.38781536801399, -122.382107375242, -122.40959283347999, -122.394593199235, -122.41287229421002, -122.402102214519, -122.420652330833, -122.44073116211099, -122.38817020206601, -122.401493189708, -122.41598340280399, -122.402385322794, -122.382464971136, -122.418405351782, -122.446748796815, -122.39935935136299, -122.378972005236, -122.42516137635799, -122.392150319453, -122.39151523877199, -122.38935344507601, -122.399884160566, -122.399762925839, -122.49007120809999, -122.45605989436599, -122.41395382252199, -122.39301498669799, -122.395471725809, -122.390971976935, -122.40103337535, -122.39588103933501, -122.400747494077, -122.396100668472, -122.38735628651101, -122.425406345805, -122.415807882427, -122.419379202984, -122.41724962664301, -122.406601106839, -122.39406659923, -122.386715929759, -122.39590345491301, -122.427110643955, -122.412855363284, -122.41181900367901, -122.396685875811, -122.42393921117201, -122.40920291508301, -122.39179682107701, -122.402409234561, -122.393197101166, -122.38814226212799, -122.398658184604, -122.41375751658899, -122.398139506914, -122.402467438004, -122.39399997405899, -122.400198205294, -122.41550777248999, -122.39298678257799, -122.41152766713199, -122.409444718958, -122.387917376991, -122.40895116153798, -122.391654765179, -122.399932569577, -122.414049680224, -122.400420884438, -122.400361834965, -122.398865700796, -122.401037856688, -122.39457521495702, -122.39045738601601, -122.414326828755, -122.389937879321, -122.42509418633101, -122.408289595287, -122.41311653672899, -122.39718232278, -122.41267189164499, -122.40131490545099, -122.387648962993, -122.393543363013, -122.401234808851, -122.413211513673, -122.395797384916, -122.394053286313, -122.40178909136299, -122.411968357912, -122.40257456841101, -122.415658655811, -122.40113011221202, -122.412375997322, -122.401976975724, -122.454233188657, -122.395974631586, -122.406059743494, -122.391174184456, -122.384530734223, -122.38852951525699, -122.403907848212, -122.384128384237, -122.478186325415, -122.40441846721201, -122.41456863241899, -122.388118704077, -122.42032223152599, -122.39843065021401, -122.393076880858, -122.385679248721, -122.392149114172, -122.38687903198, -122.395902231236, -122.393514054817, -122.388990808654, -122.408492892439, -122.385081339678, -122.382847355518, -122.387000196298, -122.39798737150801, -122.387549426547, -122.38544181156799, -122.387124812179, -122.412618994655, -122.39079035556601, -122.390860289431, -122.403191783229, -122.40154029135701, -122.397031718978, -122.391474911246, -122.390081224847, -122.399884160566], \"marker\": {\"color\": \"blue\", \"opacity\": 0.6, \"size\": 7}, \"mode\": \"markers\", \"name\": \"Food Trucks\", \"text\": [\"San Francisco's Hometown Creamery\", \"Pipo's Grill\", \"Reecees Soulicious\", \"Reecees Soulicious\", \"SF Street Food\", \"SF Street Food\", \"Swell Cream & Coffee\", \"Swell Cream & Coffee\", \"M M Catering\", \"May Catering\", \"May Catering\", \"May Catering\", \"May Catering\", \"Roadside Rotisserie Corporation / Country Grill\", \"M M Catering\", \"Senor Sisig\", \"M M Catering\", \"M M Catering\", \"M M Catering\", \"M M Catering\", \"M M Catering\", \"M M Catering\", \"M M Catering\", \"M M Catering\", \"M M Catering\", \"M M Catering\", \"M M Catering\", \"DO UC US Mobile Catering\", \"Eva's Catering\", \"Anas Goodies Catering\", \"Quan Catering\", \"Senor Sisig\", \"Philz Coffee Truck\", \"Liang Bai Ping\", \"Roadside Rotisserie Corporation / Country Grill\", \"Anas Goodies Catering\", \"Park's Catering\", \"Tacos El Primo\", \"Anas Goodies Catering\", \"Munch A Bunch\", \"Ruru Juice LLC\", \"D & T Catering\", \"SOHOMEI, LLC\", \"Park's Catering\", \"Eva's Catering\", \"Julie's Hot Dogs\", \"John's Catering #5\", \"Park's Catering\", \"Curry Up Now\", \"Two G's Catering\", \"Singh Brothers Ice Cream\", \"Paradise Catering\", \"Anas Goodies Catering\", \"Munch A Bunch\", \"Linda's Catering\", \"Singh Brothers Ice Cream\", \"Philz Coffee Truck\", \"JapaCurry\", \"The Huge Hotdog Concession\", \"Eva's Catering\", \"Munch A Bunch\", \"Singh Brothers Ice Cream\", \"John's Catering #5\", \"Street Meet\", \"F & C Catering\", \"Two G's Catering\", \"D & T Catering\", \"Tres Agaves Mexican Kitchen & Tequila Lounge LLC. dba Tres Truck\", \"Liang Bai Ping\", \"Anas Goodies Catering\", \"SOHOMEI, LLC\", \"Mini Mobile Food Catering\", \"Off the Grid Services, LLC\", \"Anas Goodies Catering\", \"BH & MT LLC\", \"Liang Bai Ping\", \"Liang Bai Ping\", \"Two G's Catering\", \"Quan Catering\", \"Paradise Catering\", \"SF Cart Project\", \"Quan Catering\", \"Paradise Catering\", \"SOHOMEI, LLC\", \"El Gallo Jiro\", \"Mike's Catering\", \"Linda's Catering\", \"Anas Goodies Catering\", \"Marengo\", \"Quan Catering\", \"John's Catering #5\", \"Roadside Rotisserie Corporation / Country Grill\", \"Mini Mobile Food Catering\", \"D & T Catering\", \"Senor Sisig\", \"Tres Agaves Mexican Kitchen & Tequila Lounge LLC. dba Tres Truck\", \"SOHOMEI, LLC\", \"SOHOMEI, LLC\", \"Quan Catering\", \"Park's Catering\", \"D & T Catering\", \"Anas Goodies Catering\", \"Golden Catering\", \"Anas Goodies Catering\", \"Anas Goodies Catering\", \"Park's Catering\", \"Liang Bai Ping\", \"Subs on Hubs\", \"Anas Goodies Catering\", \"John's Catering #5\", \"Roadside Rotisserie Corporation / Country Grill\", \"BOWL'D ACAI, LLC.\", \"Park's Catering\", \"SOHOMEI, LLC\", \"Anas Goodies Catering\", \"Liang Bai Ping\", \"SOHOMEI, LLC\", \"Santana ESG, Inc.\", \"May Catering\", \"Park's Catering\", \"Papalote Inc.\", \"Mike's Catering\", \"John's Catering #5\", \"Subs on Hubs\", \"Tacos El Primo\", \"Liang Bai Ping\", \"Paradise Catering\", \"Liang Bai Ping\", \"Wu Wei LLC dba MoBowl\", \"Linda's Catering\", \"Curry Up Now\", \"Off the Grid Services, LLC\", \"Mini Mobile Food Catering\", \"Street Meet\", \"Two G's Catering\", \"Roadside Rotisserie Corporation / Country Grill\", \"Anas Goodies Catering\", \"Tacos Lol-Tun\", \"Paradise Catering\", \"Paradise Catering\", \"Philz Coffee Truck\", \"Los 2 Cuates\", \"May Catering\", \"Chairman SF, LLC\", \"Two G's Catering\", \"Buenafe\", \"Anas Goodies Catering\", \"Plaza Garibaldy\", \"Paradise Catering\", \"Singh Brothers Ice Cream\", \"Mike's Catering\", \"Subs on Hubs\", \"Kabob Trolley, LLC\", \"Paradise Catering\", \"BOWL'D ACAI, LLC.\", \"Linda's Catering\", \"Bay Area Mobile Catering, Inc. dba. Taqueria Angelica's\", \"Paradise Catering\", \"Roadside Rotisserie Corporation / Country Grill\", \"Anas Goodies Catering\", \"Liang Bai Ping\", \"DO UC US Mobile Catering\", \"Liang Bai Ping\", \"Two G's Catering\", \"Bay Area Mobile Catering, Inc. dba. Taqueria Angelica's\", \"Singh Brothers Ice Cream\", \"Wu Wei LLC dba MoBowl\", \"Anas Goodies Catering\", \"Park's Catering\", \"Mike's Catering\", \"Mike's Catering\", \"Anas Goodies Catering\", \"Singh Brothers Ice Cream\", \"SOHOMEI, LLC\", \"Quan Catering\", \"Anas Goodies Catering\", \"D & T Catering\", \"Alfaro Truck\", \"Akuranvyka USA Inc\", \"Mike's Catering\", \"May Catering\", \"Park's Catering\", \"Golden Catering\", \"Mike's Catering\", \"Akuranvyka USA Inc\", \"Linda's Catering\", \"SOHOMEI, LLC\", \"D & T Catering\", \"Bay Area Mobile Catering, Inc. dba. Taqueria Angelica's\", \"Anas Goodies Catering\", \"Anas Goodies Catering\", \"SOHOMEI, LLC\", \"El Tonayense #60\", \"Liang Bai Ping\", \"Liang Bai Ping\", \"JapaCurry\", \"Off the Grid Services, LLC\", \"Tacos Rodriguez\", \"JapaCurry\", \"Park's Catering\", \"Liang Bai Ping\", \"Mike's Catering\", \"Munch A Bunch\", \"Mike's Catering\", \"Singh Brothers Ice Cream\", \"Liang Bai Ping\", \"Anas Goodies Catering\", \"John's Catering #5\", \"Liang Bai Ping\", \"Anas Goodies Catering\", \"Think is Good Inc.\", \"Golden Catering\", \"Singh Brothers Ice Cream\", \"Liang Bai Ping\", \"Bay Area Mobile Catering, Inc. dba. Taqueria Angelica's\", \"Subs on Hubs\", \"D & T Catering\", \"Liang Bai Ping\", \"Mini Mobile Food Catering\", \"Two G's Catering\", \"Quan Catering\", \"John's Catering #5\", \"Paradise Catering\", \"BH & MT LLC\", \"Mini Mobile Food Catering\", \"Eva's Catering\", \"Park's Catering\", \"May Catering\", \"F & C Catering\", \"Linda's Catering\", \"Anas Goodies Catering\", \"Paradise Catering\", \"Paradise Catering\", \"Expresso Subito, LLC.\", \"Paradise Catering\", \"Anas Goodies Catering\", \"SOHOMEI, LLC\", \"Plaza Garibaldy\", \"Off the Grid Services, LLC\", \"Mini Mobile Food Catering\", \"Tacos El Primo\", \"Anas Goodies Catering\", \"Tacos El Flaco\", \"D & T Catering\", \"Singh Brothers Ice Cream\", \"Paradise Catering\", \"Park's Catering\", \"Paradise Catering\", \"Liang Bai Ping\", \"Two G's Catering\", \"Singh Brothers Ice Cream\", \"Rita's Catering\", \"Liang Bai Ping\", \"Two G's Catering\", \"John's Catering #5\", \"Liang Bai Ping\", \"D & T Catering\", \"Senor Sisig\", \"Anas Goodies Catering\", \"Liang Bai Ping\", \"SOHOMEI, LLC\", \"Singh Brothers Ice Cream\", \"Paradise Catering\", \"Singh Brothers Ice Cream\", \"Quan Catering\", \"F & C Catering\", \"Liang Bai Ping\", \"Anas Goodies Catering\", \"Singh Brothers Ice Cream\", \"Tacos Rodriguez\", \"D & T Catering\", \"Singh Brothers Ice Cream\", \"Quan Catering\", \"SOHOMEI, LLC\", \"Think is Good Inc.\", \"Paradise Catering\", \"Santana ESG, Inc.\", \"Liang Bai Ping\", \"D & T Catering\", \"Anas Goodies Catering\", \"John's Catering #5\", \"John's Catering #5\", \"Park's Catering\", \"Paradise Catering\", \"San Pancho's Tacos\", \"Liang Bai Ping\", \"SPUNBYSS\", \"Two G's Catering\", \"Liang Bai Ping\", \"SOHOMEI, LLC\", \"Anas Goodies Catering\", \"Tacos Santo Toribio\", \"Serendipity SF\", \"Paradise Catering\", \"Eva's Catering\", \"Liang Bai Ping\", \"Giant Burrito\", \"Liang Bai Ping\", \"Anas Goodies Catering\", \"Quan Catering\", \"Philz Coffee Truck\", \"Munch A Bunch\", \"BH & MT LLC\", \"Munch India\", \"Singh Brothers Ice Cream\", \"Cochinita\", \"Mike's Catering\", \"CARDONA'S FOOD TRUCK\", \"Munch A Bunch\", \"Singh Brothers Ice Cream\", \"John's Catering #5\", \"Wu Wei LLC dba MoBowl\", \"Senor Sisig\", \"BOWL'D ACAI, LLC.\", \"DO UC US Mobile Catering\", \"Quan Catering\", \"Munch A Bunch\", \"D & T Catering\", \"Mike's Catering\", \"Mini Mobile Food Catering\", \"Paradise Catering\", \"D & T Catering\", \"Anas Goodies Catering\", \"Anas Goodies Catering\", \"F & C Catering\", \"La Jefa\", \"Anas Goodies Catering\", \"Park's Catering\", \"CARDONA'S FOOD TRUCK\", \"Park's Catering\", \"John's Catering #5\", \"Philz Coffee Truck\", \"Park's Catering\", \"Park's Catering\", \"Giant Burrito\", \"Munch A Bunch\", \"Tacos El Ojo De Agua\", \"Two G's Catering\", \"Anas Goodies Catering\", \"Two G's Catering\", \"F & C Catering\", \"BH & MT LLC\", \"San Pancho's Tacos\", \"San Francisco's Hometown Creamery\", \"Quan Catering\", \"SOHOMEI, LLC\", \"Anas Goodies Catering\", \"D & T Catering\", \"Singh Brothers Ice Cream\", \"Liang Bai Ping\", \"Golden Catering\", \"Off the Grid Services, LLC\", \"SOHOMEI, LLC\", \"Eva's Catering\", \"John's Catering #5\", \"Paradise Catering\", \"Two G's Catering\", \"Linda's Catering\", \"Liang Bai Ping\", \"Paradise Catering\", \"Anas Goodies Catering\", \"San Francisco's Hometown Creamery\", \"Eva's Catering\", \"John's Catering #5\", \"Wu Wei LLC dba MoBowl\", \"Singh Brothers Ice Cream\", \"Park's Catering\", \"John's Catering #5\", \"Park's Catering\", \"DO UC US Mobile Catering\", \"Quan Catering\", \"Chairman SF, LLC\", \"Think is Good Inc.\", \"Paradise Catering\", \"Park's Catering\", \"Tacos Rodriguez\", \"Paradise Catering\", \"Mini Mobile Food Catering\", \"Plaza Garibaldy\", \"Singh Brothers Ice Cream\", \"D & T Catering\", \"Two G's Catering\", \"Singh Brothers Ice Cream\", \"Liang Bai Ping\", \"Singh Brothers Ice Cream\", \"Chairman SF, LLC\", \"Papalote Inc.\", \"Mini Mobile Food Catering\", \"Paradise Catering\", \"Paradise Catering\", \"BH & MT LLC\", \"F & C Catering\", \"Mini Mobile Food Catering\", \"Mini Mobile Food Catering\", \"Los 2 Cuates\", \"Tacos Rodriguez\", \"SOHOMEI, LLC\", \"John's Catering #5\", \"John's Catering #5\", \"Liang Bai Ping\", \"BH & MT LLC\", \"Park's Catering\", \"Park's Catering\", \"Anas Goodies Catering\", \"El Calamar Perubian Food Truck\", \"Ruru Juice LLC\", \"Eva's Catering\", \"D & T Catering\", \"John's Catering #5\", \"Taqueria Lolita\", \"Mini Mobile Food Catering\", \"Taqueria Lolita\", \"MOMO INNOVATION LLC\", \"Bonito Poke\", \"MOMO INNOVATION LLC\", \"Bonito Poke\", \"Bonito Poke\", \"BI-RITE MARKET\", \"Street Meet\", \"Julie's Hot Dogs\", \"The Chef Station\", \"Senor Sisig\", \"Los 2 Cuates\", \"Quan Catering\", \"Anas Goodies Catering\", \"BH & MT LLC\", \"May Catering\", \"May Catering\", \"May Catering\", \"Casey's Pizza, LLC\", \"May Catering\", \"May Catering\", \"May Catering\", \"May Catering\", \"May Catering\", \"Scotch Bonnet\", \"May Catering\", \"May Catering\", \"Scotch Bonnet\", \"Casey's Pizza, LLC\", \"May Catering\", \"May Catering\", \"May Catering\", \"May Catering\", \"May Catering\", \"May Catering\", \"May Catering\", \"May Catering\", \"May Catering\", \"May Catering\", \"May Catering\", \"May Catering\", \"May Catering\", \"Scotch Bonnet\", \"May Catering\", \"May Catering\", \"May Catering\", \"May Catering\", \"May Catering\", \"May Catering\", \"May Catering\", \"May Catering\", \"May Catering\", \"Casey's Pizza, LLC\", \"May Catering\", \"May Catering\", \"Casey's Pizza, LLC\", \"May Catering\", \"May Catering\", \"May Catering\", \"Scotch Bonnet\", \"May Catering\", \"Casey's Pizza, LLC\", \"May Catering\", \"May Catering\", \"May Catering\", \"May Catering\", \"May Catering\", \"May Catering\", \"Natan's Catering\", \"Natan's Catering\", \"Natan's Catering\", \"Natan's Catering\", \"Natan's Catering\", \"Natan's Catering\", \"Natan's Catering\", \"Natan's Catering\", \"Natan's Catering\", \"Natan's Catering\", \"Natan's Catering\", \"Natan's Catering\", \"Natan's Catering\", \"Natan's Catering\", \"Natan's Catering\", \"Natan's Catering\", \"Natan's Catering\", \"Natan's Catering\", \"Natan's Catering\", \"Natan's Catering\", \"Natan's Catering\", \"Natan's Catering\", \"Natan's Catering\", \"Natan's Catering\", \"Natan's Catering\", \"Natan's Catering\", \"Natan's Catering\", \"Natan's Catering\", \"Natan's Catering\", \"Natan's Catering\", \"Natan's Catering\", \"Natan's Catering\", \"Natan's Catering\", \"Natan's Catering\", \"Natan's Catering\", \"Expresso Subito, LLC.\"], \"type\": \"scattermapbox\", \"uid\": \"7048557f-b49f-41d8-8d20-b12f7a385b7f\"}], {\"autosize\": false, \"height\": 930, \"hovermode\": \"closest\", \"legend\": {\"font\": {\"size\": 15}}, \"mapbox\": {\"accesstoken\": \"pk.eyJ1IjoiY2tjaGFuMjAxNCIsImEiOiJjanNudXRtOHUwNTMzNDNydTFnZ2tscjh6In0.UTuKHStBpiCH3UIQ7CbMiw\", \"bearing\": 0, \"center\": {\"lat\": 37.76, \"lon\": -122.4194}, \"zoom\": 11.5}, \"title\": {\"font\": {\"size\": 30}, \"text\": \"Map of San Francisco Mobile Food\"}, \"width\": 960}, {\"showLink\": false, \"linkText\": \"Export to plot.ly\", \"plotlyServerURL\": \"https://plot.ly\"})});</script>"
      ]
     },
     "metadata": {},
     "output_type": "execute_result"
    }
   ],
   "source": [
    "#plotly version\n",
    "\n",
    "mapbox_access_token = 'pk.eyJ1IjoiY2tjaGFuMjAxNCIsImEiOiJjanNudXRtOHUwNTMzNDNydTFnZ2tscjh6In0.UTuKHStBpiCH3UIQ7CbMiw'\n",
    "data = [\n",
    "    go.Scattermapbox(\n",
    "        name='Push Carts',\n",
    "        lat=map_push['Latitude'], \n",
    "        lon=map_push['Longitude'], \n",
    "        mode='markers', \n",
    "        marker=dict(size=7, opacity=0.6, color='orange'),\n",
    "        text=map_push['Applicant'],\n",
    "        hoverinfo='text'\n",
    "    ),\n",
    "    go.Scattermapbox(\n",
    "        name='Food Trucks',\n",
    "        lat=map_truck['Latitude'],\n",
    "        lon=map_truck['Longitude'],\n",
    "        mode='markers',\n",
    "        marker=dict(size=7, opacity=0.6, color='blue'),\n",
    "        text=map_truck['Applicant'],\n",
    "        hoverinfo='text'\n",
    "    )\n",
    "    \n",
    "]\n",
    "\n",
    "layout = go.Layout(\n",
    "    title='Map of San Francisco Mobile Food',\n",
    "    titlefont=dict(\n",
    "        size=30),\n",
    "    legend=dict(\n",
    "        font=dict(\n",
    "            size=15)),\n",
    "    autosize=False,\n",
    "    width=960,\n",
    "    height=930,\n",
    "    hovermode='closest',\n",
    "    mapbox=dict(\n",
    "        accesstoken=mapbox_access_token,\n",
    "        bearing=0,\n",
    "        center=dict(\n",
    "            lat=37.76,\n",
    "            lon=-122.4194\n",
    "        ),\n",
    "        zoom=11.5,\n",
    "    ),\n",
    ")\n",
    "\n",
    "\n",
    "fig = dict(data=data, layout=layout)\n",
    "iplot(fig, filename='test1')"
   ]
  },
  {
   "cell_type": "markdown",
   "metadata": {},
   "source": [
    "# Findings\n",
    "\n",
    "Looking at the Plotly map we can see that both push carts and food trucks are clustered around areas, particularly in the Financial District, South of Market (SoMa), Bayview District and off of Bayshore Blvd. Most of SF do not have mobile food facilities. Even more than this, mobile food facility seem to be clustered around each other, meaning often times customers have choices. It's rare to find a single mobile food facility.\n",
    "\n",
    "Most of the push carts are clustered around Union Square and off of Market Street, particularly closer to the Financial District. Both Union Square and Market Street have large amounts of people passing through on a daily basis. Union Square is argubly a tourist area which means lots of potential customers. Market Street is one of the busiest streets in SF, with many people using it to get to work. In addition to cluster together, most areas with push carts lack food trucks. This makes sense given the size of each food facility. Food trucks are significantly bigger than push carts and require a area to park and an additional area for customers to queue. On the otherhand, push carts require far less space and therefore can operate in spaces with a higher density of people, like Union Square.\n",
    "\n",
    "Food trucks dominate the mobile food scene in SF. They are more expansive than push carts and there are simply more food trucks. The large amounts of food trucks in the Financial District caters to the massive number of people who work in that area. It is not unfair to say that when combined the Financial District and SoMa is the SF skyline, due to the sheer number of skyscrapers. This high density of office workers present a large customer pool for mobile food facilities.\n",
    "\n",
    "Definitive explanations for the concentrations of food trucks in Bayview District and off of Bayshore Blvd are unknown at this point, but we can speculate. Due to the relatively large amounts of industrial businesses in the Bayview District food trucks may be present there to cater to workers. Bayshore Blvd has a suprising amount of food trucks near it. Like Market Street, we can speculate that it is because it is a very active street with a large amount of pedestrians.\n",
    "\n",
    "Looking at the map there is a obvious lack of mobile food facilities in large areas. In general, mobile food facilities are clustered around workplaces and are almost non-existent in residential areas. There is a abundance of mobile food facilities in Financial District, SoMa, the Mission District and the BayView District, the places we explored as places of work. In residential neighborhoods like the Richmond District, Sunset District and Daly City there are very few if not not no mobile food facilities.\n",
    "\n",
    "Overall the clear trend is that density of people seems to be the biggest determinant of location for mobile food facilities."
   ]
  },
  {
   "cell_type": "markdown",
   "metadata": {},
   "source": [
    "### Citations\n",
    "\n",
    "1. Butler, Stephanie. “From Chuck Wagons to Pushcarts: The History of the Food Truck.” History.com, A&E Television Networks, 8 Aug. 2014, www.history.com/news/from-chuck-wagons-to-pushcarts-the-history-of-the-food-truck.\n",
    "2. Mobile Cuisine, LLC. “The Complete History of American Food Trucks.” Mobile Cuisine | Food Truck, Pop Up & Street Food Coverage, 31 Mar. 2017, mobile-cuisine.com/business/history-of-american-food-trucks/.\n",
    "\n",
    "### Images\n",
    "1. https://www.visitmuskogee.com/calendar/food-truck-wars-2/"
   ]
  }
 ],
 "metadata": {
  "kernelspec": {
   "display_name": "Python 3",
   "language": "python",
   "name": "python3"
  },
  "language_info": {
   "codemirror_mode": {
    "name": "ipython",
    "version": 3
   },
   "file_extension": ".py",
   "mimetype": "text/x-python",
   "name": "python",
   "nbconvert_exporter": "python",
   "pygments_lexer": "ipython3",
   "version": "3.7.0"
  }
 },
 "nbformat": 4,
 "nbformat_minor": 2
}
