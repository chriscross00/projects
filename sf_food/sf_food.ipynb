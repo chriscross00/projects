{
 "cells": [
  {
   "cell_type": "markdown",
   "metadata": {},
   "source": [
    "* https://plot.ly/python/maps/\n",
    "* https://data.sfgov.org/Economy-and-Community/Mobile-Food-Facility-Permit/rqzj-sfat"
   ]
  },
  {
   "cell_type": "markdown",
   "metadata": {},
   "source": [
    "To do:\n",
    "\n",
    "* Run statistical test on samples\n",
    "* Create map\n",
    "* Write-up"
   ]
  },
  {
   "cell_type": "markdown",
   "metadata": {},
   "source": [
    "Food cart history:\n",
    "\n",
    "* https://www.history.com/news/from-chuck-wagons-to-pushcarts-the-history-of-the-food-truck\n",
    "* https://mobile-cuisine.com/business/history-of-american-food-trucks/"
   ]
  },
  {
   "cell_type": "markdown",
   "metadata": {},
   "source": [
    "From timeless classics like the House of Prime Rib to bizarre fusions like Sushirrito, San Francisco (SF) is know for its diverse food scene. But roaming up and down the crowded streets of SF are hundreds of mobile food facilities. These fast, casual pseudo resturants can be found on street corners selling mysterious meat wrapped in bacon or sprawled as far as the eye can see at their own festival. \n",
    "\n",
    "A mobile food facility must be permitted by the the City of San Francisco to legally sell food. The city of San Francisco publishes partial information of permit applications on their website. Two types of mobile food facilities are recognized: push carts and food trucks.\n",
    "\n",
    "From this data we will create a interactive map of the location all the permitted food facilites in SF. [While there are websites that allow food trucks to update their location, many food push carts do not utilize this tool.]"
   ]
  },
  {
   "cell_type": "code",
   "execution_count": 34,
   "metadata": {},
   "outputs": [],
   "source": [
    "import plotly.plotly as py\n",
    "import numpy as np\n",
    "import pandas as pd\n",
    "import matplotlib.pyplot as plt\n",
    "import seaborn as sns"
   ]
  },
  {
   "cell_type": "code",
   "execution_count": 3,
   "metadata": {},
   "outputs": [],
   "source": [
    "pd.set_option('display.max_columns', None)\n",
    "sns.set_style('darkgrid')"
   ]
  },
  {
   "cell_type": "markdown",
   "metadata": {},
   "source": [
    "# Importing Data"
   ]
  },
  {
   "cell_type": "markdown",
   "metadata": {},
   "source": [
    "Get a sense of the data."
   ]
  },
  {
   "cell_type": "code",
   "execution_count": 4,
   "metadata": {},
   "outputs": [
    {
     "data": {
      "text/plain": [
       "(632, 24)"
      ]
     },
     "execution_count": 4,
     "metadata": {},
     "output_type": "execute_result"
    }
   ],
   "source": [
    "sf = pd.read_csv('data/Mobile_Food_Facility_Permit.csv')\n",
    "sf.shape"
   ]
  },
  {
   "cell_type": "code",
   "execution_count": 5,
   "metadata": {},
   "outputs": [
    {
     "data": {
      "text/html": [
       "<div>\n",
       "<style scoped>\n",
       "    .dataframe tbody tr th:only-of-type {\n",
       "        vertical-align: middle;\n",
       "    }\n",
       "\n",
       "    .dataframe tbody tr th {\n",
       "        vertical-align: top;\n",
       "    }\n",
       "\n",
       "    .dataframe thead th {\n",
       "        text-align: right;\n",
       "    }\n",
       "</style>\n",
       "<table border=\"1\" class=\"dataframe\">\n",
       "  <thead>\n",
       "    <tr style=\"text-align: right;\">\n",
       "      <th></th>\n",
       "      <th>locationid</th>\n",
       "      <th>Applicant</th>\n",
       "      <th>FacilityType</th>\n",
       "      <th>cnn</th>\n",
       "      <th>LocationDescription</th>\n",
       "      <th>Address</th>\n",
       "      <th>blocklot</th>\n",
       "      <th>block</th>\n",
       "      <th>lot</th>\n",
       "      <th>permit</th>\n",
       "      <th>Status</th>\n",
       "      <th>FoodItems</th>\n",
       "      <th>X</th>\n",
       "      <th>Y</th>\n",
       "      <th>Latitude</th>\n",
       "      <th>Longitude</th>\n",
       "      <th>Schedule</th>\n",
       "      <th>dayshours</th>\n",
       "      <th>NOISent</th>\n",
       "      <th>Approved</th>\n",
       "      <th>Received</th>\n",
       "      <th>PriorPermit</th>\n",
       "      <th>ExpirationDate</th>\n",
       "      <th>Location</th>\n",
       "    </tr>\n",
       "  </thead>\n",
       "  <tbody>\n",
       "    <tr>\n",
       "      <th>0</th>\n",
       "      <td>1152244</td>\n",
       "      <td>San Francisco's Hometown Creamery</td>\n",
       "      <td>Truck</td>\n",
       "      <td>6109000</td>\n",
       "      <td>GEARY ST: STOCKTON ST to POWELL ST (200 - 299)</td>\n",
       "      <td>281 GEARY ST</td>\n",
       "      <td>0314013</td>\n",
       "      <td>0314</td>\n",
       "      <td>013</td>\n",
       "      <td>17MFF-0001</td>\n",
       "      <td>APPROVED</td>\n",
       "      <td>Ice cream</td>\n",
       "      <td>6010423.418</td>\n",
       "      <td>2114694.802</td>\n",
       "      <td>37.787136</td>\n",
       "      <td>-122.407719</td>\n",
       "      <td>http://bsm.sfdpw.org/PermitsTracker/reports/re...</td>\n",
       "      <td>Su:11AM-11PM;Fr/Sa:6PM-11PM</td>\n",
       "      <td>NaN</td>\n",
       "      <td>10/16/2018 12:00:00 AM</td>\n",
       "      <td>2017-01-09</td>\n",
       "      <td>0</td>\n",
       "      <td>07/15/2019 12:00:00 AM</td>\n",
       "      <td>(37.7871364910861, -122.407718509001)</td>\n",
       "    </tr>\n",
       "    <tr>\n",
       "      <th>1</th>\n",
       "      <td>751253</td>\n",
       "      <td>Pipo's Grill</td>\n",
       "      <td>Truck</td>\n",
       "      <td>5688000</td>\n",
       "      <td>FOLSOM ST: 14TH ST to 15TH ST (1800 - 1899)</td>\n",
       "      <td>1800 FOLSOM ST</td>\n",
       "      <td>3549083</td>\n",
       "      <td>3549</td>\n",
       "      <td>083</td>\n",
       "      <td>16MFF-0010</td>\n",
       "      <td>REQUESTED</td>\n",
       "      <td>Tacos: Burritos: Hot Dogs: and Hamburgers</td>\n",
       "      <td>6007856.719</td>\n",
       "      <td>2107724.046</td>\n",
       "      <td>37.767852</td>\n",
       "      <td>-122.416105</td>\n",
       "      <td>http://bsm.sfdpw.org/PermitsTracker/reports/re...</td>\n",
       "      <td>NaN</td>\n",
       "      <td>NaN</td>\n",
       "      <td>NaN</td>\n",
       "      <td>2016-02-04</td>\n",
       "      <td>0</td>\n",
       "      <td>NaN</td>\n",
       "      <td>(37.7678524427181, -122.416104892532)</td>\n",
       "    </tr>\n",
       "    <tr>\n",
       "      <th>2</th>\n",
       "      <td>735318</td>\n",
       "      <td>Ziaurehman Amini</td>\n",
       "      <td>Push Cart</td>\n",
       "      <td>30727000</td>\n",
       "      <td>MARKET ST: DRUMM ST intersection</td>\n",
       "      <td>5 THE EMBARCADERO</td>\n",
       "      <td>0234017</td>\n",
       "      <td>0234</td>\n",
       "      <td>017</td>\n",
       "      <td>15MFF-0159</td>\n",
       "      <td>REQUESTED</td>\n",
       "      <td>NaN</td>\n",
       "      <td>6013916.720</td>\n",
       "      <td>2117244.027</td>\n",
       "      <td>37.794331</td>\n",
       "      <td>-122.395811</td>\n",
       "      <td>http://bsm.sfdpw.org/PermitsTracker/reports/re...</td>\n",
       "      <td>NaN</td>\n",
       "      <td>NaN</td>\n",
       "      <td>NaN</td>\n",
       "      <td>2015-12-31</td>\n",
       "      <td>0</td>\n",
       "      <td>03/15/2016 12:00:00 AM</td>\n",
       "      <td>(37.7943310032468, -122.395811053023)</td>\n",
       "    </tr>\n",
       "    <tr>\n",
       "      <th>3</th>\n",
       "      <td>364218</td>\n",
       "      <td>The Chai Cart</td>\n",
       "      <td>Push Cart</td>\n",
       "      <td>9543000</td>\n",
       "      <td>NEW MONTGOMERY ST: AMBROSE BIERCE ST to MISSIO...</td>\n",
       "      <td>79 NEW MONTGOMERY ST</td>\n",
       "      <td>3707014</td>\n",
       "      <td>3707</td>\n",
       "      <td>014</td>\n",
       "      <td>12MFF-0083</td>\n",
       "      <td>SUSPEND</td>\n",
       "      <td>Hot Indian Chai (Tea)</td>\n",
       "      <td>6012504.312</td>\n",
       "      <td>2114926.774</td>\n",
       "      <td>37.787890</td>\n",
       "      <td>-122.400535</td>\n",
       "      <td>http://bsm.sfdpw.org/PermitsTracker/reports/re...</td>\n",
       "      <td>Mo-Su:7AM-6PM</td>\n",
       "      <td>NaN</td>\n",
       "      <td>NaN</td>\n",
       "      <td>2012-04-03</td>\n",
       "      <td>0</td>\n",
       "      <td>NaN</td>\n",
       "      <td>(37.7878896999061, -122.400535326777)</td>\n",
       "    </tr>\n",
       "    <tr>\n",
       "      <th>4</th>\n",
       "      <td>735315</td>\n",
       "      <td>Ziaurehman Amini</td>\n",
       "      <td>Push Cart</td>\n",
       "      <td>4969000</td>\n",
       "      <td>DRUMM ST: MARKET ST to CALIFORNIA ST (1 - 6)</td>\n",
       "      <td>1 CALIFORNIA ST</td>\n",
       "      <td>0264004</td>\n",
       "      <td>0264</td>\n",
       "      <td>004</td>\n",
       "      <td>15MFF-0159</td>\n",
       "      <td>REQUESTED</td>\n",
       "      <td>NaN</td>\n",
       "      <td>6013552.570</td>\n",
       "      <td>2116844.500</td>\n",
       "      <td>37.793214</td>\n",
       "      <td>-122.397043</td>\n",
       "      <td>http://bsm.sfdpw.org/PermitsTracker/reports/re...</td>\n",
       "      <td>NaN</td>\n",
       "      <td>NaN</td>\n",
       "      <td>NaN</td>\n",
       "      <td>2015-12-31</td>\n",
       "      <td>0</td>\n",
       "      <td>03/15/2016 12:00:00 AM</td>\n",
       "      <td>(37.7932137316634, -122.397043036718)</td>\n",
       "    </tr>\n",
       "  </tbody>\n",
       "</table>\n",
       "</div>"
      ],
      "text/plain": [
       "   locationid                          Applicant FacilityType       cnn  \\\n",
       "0     1152244  San Francisco's Hometown Creamery        Truck   6109000   \n",
       "1      751253                       Pipo's Grill        Truck   5688000   \n",
       "2      735318                   Ziaurehman Amini    Push Cart  30727000   \n",
       "3      364218                      The Chai Cart    Push Cart   9543000   \n",
       "4      735315                   Ziaurehman Amini    Push Cart   4969000   \n",
       "\n",
       "                                 LocationDescription               Address  \\\n",
       "0     GEARY ST: STOCKTON ST to POWELL ST (200 - 299)          281 GEARY ST   \n",
       "1        FOLSOM ST: 14TH ST to 15TH ST (1800 - 1899)        1800 FOLSOM ST   \n",
       "2                   MARKET ST: DRUMM ST intersection     5 THE EMBARCADERO   \n",
       "3  NEW MONTGOMERY ST: AMBROSE BIERCE ST to MISSIO...  79 NEW MONTGOMERY ST   \n",
       "4       DRUMM ST: MARKET ST to CALIFORNIA ST (1 - 6)       1 CALIFORNIA ST   \n",
       "\n",
       "  blocklot block  lot      permit     Status  \\\n",
       "0  0314013  0314  013  17MFF-0001   APPROVED   \n",
       "1  3549083  3549  083  16MFF-0010  REQUESTED   \n",
       "2  0234017  0234  017  15MFF-0159  REQUESTED   \n",
       "3  3707014  3707  014  12MFF-0083    SUSPEND   \n",
       "4  0264004  0264  004  15MFF-0159  REQUESTED   \n",
       "\n",
       "                                   FoodItems            X            Y  \\\n",
       "0                                  Ice cream  6010423.418  2114694.802   \n",
       "1  Tacos: Burritos: Hot Dogs: and Hamburgers  6007856.719  2107724.046   \n",
       "2                                        NaN  6013916.720  2117244.027   \n",
       "3                      Hot Indian Chai (Tea)  6012504.312  2114926.774   \n",
       "4                                        NaN  6013552.570  2116844.500   \n",
       "\n",
       "    Latitude   Longitude                                           Schedule  \\\n",
       "0  37.787136 -122.407719  http://bsm.sfdpw.org/PermitsTracker/reports/re...   \n",
       "1  37.767852 -122.416105  http://bsm.sfdpw.org/PermitsTracker/reports/re...   \n",
       "2  37.794331 -122.395811  http://bsm.sfdpw.org/PermitsTracker/reports/re...   \n",
       "3  37.787890 -122.400535  http://bsm.sfdpw.org/PermitsTracker/reports/re...   \n",
       "4  37.793214 -122.397043  http://bsm.sfdpw.org/PermitsTracker/reports/re...   \n",
       "\n",
       "                     dayshours NOISent                Approved    Received  \\\n",
       "0  Su:11AM-11PM;Fr/Sa:6PM-11PM     NaN  10/16/2018 12:00:00 AM  2017-01-09   \n",
       "1                          NaN     NaN                     NaN  2016-02-04   \n",
       "2                          NaN     NaN                     NaN  2015-12-31   \n",
       "3                Mo-Su:7AM-6PM     NaN                     NaN  2012-04-03   \n",
       "4                          NaN     NaN                     NaN  2015-12-31   \n",
       "\n",
       "   PriorPermit          ExpirationDate                               Location  \n",
       "0            0  07/15/2019 12:00:00 AM  (37.7871364910861, -122.407718509001)  \n",
       "1            0                     NaN  (37.7678524427181, -122.416104892532)  \n",
       "2            0  03/15/2016 12:00:00 AM  (37.7943310032468, -122.395811053023)  \n",
       "3            0                     NaN  (37.7878896999061, -122.400535326777)  \n",
       "4            0  03/15/2016 12:00:00 AM  (37.7932137316634, -122.397043036718)  "
      ]
     },
     "execution_count": 5,
     "metadata": {},
     "output_type": "execute_result"
    }
   ],
   "source": [
    "sf.head()"
   ]
  },
  {
   "cell_type": "markdown",
   "metadata": {},
   "source": [
    "# Cleaning Data"
   ]
  },
  {
   "cell_type": "markdown",
   "metadata": {},
   "source": [
    "Each row represents a single applicant. A applicant can appear multiple times, but I belive they are for seperate locations."
   ]
  },
  {
   "cell_type": "code",
   "execution_count": 6,
   "metadata": {},
   "outputs": [
    {
     "data": {
      "text/plain": [
       "113"
      ]
     },
     "execution_count": 6,
     "metadata": {},
     "output_type": "execute_result"
    }
   ],
   "source": [
    "sf['Applicant'].nunique()"
   ]
  },
  {
   "cell_type": "markdown",
   "metadata": {},
   "source": [
    "So I want to remove all the duplicate applicants, that apply for the same location. If a applicant has mutiple locations that's fine, I just don't want applicants that apply and then reapply for the same location.\n",
    "\n",
    "I'll solve this by removing observations with the same Applicant and Location. While there can be multiple locations per applicant and multiple applicants per location, it is unlikely that the same applicant is requesting multiple permits for the same location. In the real world, this means that a single applicant is setting up multiple food facilities on the same corner. This does not make business sense, so these instances will be excluded and assumed that it is instead applicants reapplying for the same location. "
   ]
  },
  {
   "cell_type": "markdown",
   "metadata": {},
   "source": [
    "Drops rows that have duplicate Applicant and Location columns."
   ]
  },
  {
   "cell_type": "code",
   "execution_count": 7,
   "metadata": {},
   "outputs": [],
   "source": [
    "sf.drop_duplicates(subset=['Applicant','Location'], inplace=True)"
   ]
  },
  {
   "cell_type": "markdown",
   "metadata": {},
   "source": [
    "Some of the Locations are (0,0). While they do have a Address attached to them finding the latitute and longitude of each address would be too time consuming. Instead, observations with Latitutde with value of 0 will simply be dropped."
   ]
  },
  {
   "cell_type": "code",
   "execution_count": 8,
   "metadata": {},
   "outputs": [],
   "source": [
    "sf = sf.loc[sf['Latitude'] != 0]"
   ]
  },
  {
   "cell_type": "markdown",
   "metadata": {},
   "source": [
    "# EDA"
   ]
  },
  {
   "cell_type": "markdown",
   "metadata": {},
   "source": [
    "The vast majority of the permits are for food trucks. Only 51 permits are for food push carts."
   ]
  },
  {
   "cell_type": "code",
   "execution_count": 12,
   "metadata": {},
   "outputs": [
    {
     "data": {
      "text/plain": [
       "Text(0.5, 1.0, 'Permitted facility counts')"
      ]
     },
     "execution_count": 12,
     "metadata": {},
     "output_type": "execute_result"
    },
    {
     "data": {
      "image/png": "[encoded data removed]",
      "text/plain": [
       "<Figure size 432x288 with 1 Axes>"
      ]
     },
     "metadata": {},
     "output_type": "display_data"
    }
   ],
   "source": [
    "sns.countplot('FacilityType', data=sf)\n",
    "plt.xlabel('Facility Type')\n",
    "plt.ylabel('Count')\n",
    "plt.title('Permitted facility counts')"
   ]
  },
  {
   "cell_type": "markdown",
   "metadata": {},
   "source": [
    "A barplot of the number of permits per applicant."
   ]
  },
  {
   "cell_type": "code",
   "execution_count": 86,
   "metadata": {},
   "outputs": [],
   "source": [
    "sf_app = sf.groupby(['Applicant']).size().to_frame('Count')\n",
    "\n",
    "sf_app.index.name = 'Applicant'\n",
    "sf_app.reset_index(inplace=True)\n",
    "sf_app.sort_values(by=['Count'], inplace=True)"
   ]
  },
  {
   "cell_type": "code",
   "execution_count": 87,
   "metadata": {},
   "outputs": [
    {
     "data": {
      "text/html": [
       "<div>\n",
       "<style scoped>\n",
       "    .dataframe tbody tr th:only-of-type {\n",
       "        vertical-align: middle;\n",
       "    }\n",
       "\n",
       "    .dataframe tbody tr th {\n",
       "        vertical-align: top;\n",
       "    }\n",
       "\n",
       "    .dataframe thead th {\n",
       "        text-align: right;\n",
       "    }\n",
       "</style>\n",
       "<table border=\"1\" class=\"dataframe\">\n",
       "  <thead>\n",
       "    <tr style=\"text-align: right;\">\n",
       "      <th></th>\n",
       "      <th>Applicant</th>\n",
       "      <th>Percentage</th>\n",
       "    </tr>\n",
       "    <tr>\n",
       "      <th>Count</th>\n",
       "      <th></th>\n",
       "      <th></th>\n",
       "    </tr>\n",
       "  </thead>\n",
       "  <tbody>\n",
       "    <tr>\n",
       "      <th>1</th>\n",
       "      <td>35</td>\n",
       "      <td>0.321101</td>\n",
       "    </tr>\n",
       "    <tr>\n",
       "      <th>2</th>\n",
       "      <td>24</td>\n",
       "      <td>0.220183</td>\n",
       "    </tr>\n",
       "    <tr>\n",
       "      <th>3</th>\n",
       "      <td>13</td>\n",
       "      <td>0.119266</td>\n",
       "    </tr>\n",
       "    <tr>\n",
       "      <th>4</th>\n",
       "      <td>10</td>\n",
       "      <td>0.091743</td>\n",
       "    </tr>\n",
       "    <tr>\n",
       "      <th>5</th>\n",
       "      <td>4</td>\n",
       "      <td>0.036697</td>\n",
       "    </tr>\n",
       "    <tr>\n",
       "      <th>6</th>\n",
       "      <td>4</td>\n",
       "      <td>0.036697</td>\n",
       "    </tr>\n",
       "    <tr>\n",
       "      <th>7</th>\n",
       "      <td>2</td>\n",
       "      <td>0.018349</td>\n",
       "    </tr>\n",
       "    <tr>\n",
       "      <th>8</th>\n",
       "      <td>2</td>\n",
       "      <td>0.018349</td>\n",
       "    </tr>\n",
       "    <tr>\n",
       "      <th>11</th>\n",
       "      <td>1</td>\n",
       "      <td>0.009174</td>\n",
       "    </tr>\n",
       "    <tr>\n",
       "      <th>12</th>\n",
       "      <td>1</td>\n",
       "      <td>0.009174</td>\n",
       "    </tr>\n",
       "    <tr>\n",
       "      <th>13</th>\n",
       "      <td>1</td>\n",
       "      <td>0.009174</td>\n",
       "    </tr>\n",
       "    <tr>\n",
       "      <th>14</th>\n",
       "      <td>2</td>\n",
       "      <td>0.018349</td>\n",
       "    </tr>\n",
       "    <tr>\n",
       "      <th>16</th>\n",
       "      <td>1</td>\n",
       "      <td>0.009174</td>\n",
       "    </tr>\n",
       "    <tr>\n",
       "      <th>17</th>\n",
       "      <td>1</td>\n",
       "      <td>0.009174</td>\n",
       "    </tr>\n",
       "    <tr>\n",
       "      <th>18</th>\n",
       "      <td>1</td>\n",
       "      <td>0.009174</td>\n",
       "    </tr>\n",
       "    <tr>\n",
       "      <th>21</th>\n",
       "      <td>1</td>\n",
       "      <td>0.009174</td>\n",
       "    </tr>\n",
       "    <tr>\n",
       "      <th>22</th>\n",
       "      <td>1</td>\n",
       "      <td>0.009174</td>\n",
       "    </tr>\n",
       "    <tr>\n",
       "      <th>26</th>\n",
       "      <td>1</td>\n",
       "      <td>0.009174</td>\n",
       "    </tr>\n",
       "    <tr>\n",
       "      <th>31</th>\n",
       "      <td>1</td>\n",
       "      <td>0.009174</td>\n",
       "    </tr>\n",
       "    <tr>\n",
       "      <th>35</th>\n",
       "      <td>1</td>\n",
       "      <td>0.009174</td>\n",
       "    </tr>\n",
       "    <tr>\n",
       "      <th>38</th>\n",
       "      <td>1</td>\n",
       "      <td>0.009174</td>\n",
       "    </tr>\n",
       "    <tr>\n",
       "      <th>52</th>\n",
       "      <td>1</td>\n",
       "      <td>0.009174</td>\n",
       "    </tr>\n",
       "  </tbody>\n",
       "</table>\n",
       "</div>"
      ],
      "text/plain": [
       "       Applicant  Percentage\n",
       "Count                       \n",
       "1             35    0.321101\n",
       "2             24    0.220183\n",
       "3             13    0.119266\n",
       "4             10    0.091743\n",
       "5              4    0.036697\n",
       "6              4    0.036697\n",
       "7              2    0.018349\n",
       "8              2    0.018349\n",
       "11             1    0.009174\n",
       "12             1    0.009174\n",
       "13             1    0.009174\n",
       "14             2    0.018349\n",
       "16             1    0.009174\n",
       "17             1    0.009174\n",
       "18             1    0.009174\n",
       "21             1    0.009174\n",
       "22             1    0.009174\n",
       "26             1    0.009174\n",
       "31             1    0.009174\n",
       "35             1    0.009174\n",
       "38             1    0.009174\n",
       "52             1    0.009174"
      ]
     },
     "execution_count": 87,
     "metadata": {},
     "output_type": "execute_result"
    }
   ],
   "source": [
    "sf_app_breakdown = sf_app.groupby('Count').count()\n",
    "\n",
    "sf_app_breakdown['Percentage'] = sf_app_breakdown['Applicant']/sf_app_breakdown['Applicant'].sum()\n",
    "sf_app_breakdown"
   ]
  },
  {
   "cell_type": "markdown",
   "metadata": {},
   "source": [
    "A barplot of the number of permits per applicant is displayed below. Because we removed duplicates, this graph also shows the number of locations per applicant. 32% of applicants only have one location and 86% of applicants have less than 10 locations. The top 10 applicants hold 48% of the permits. The applicant with the most permits, May Catering, holds 9% of all permits with 52 total permits."
   ]
  },
  {
   "cell_type": "code",
   "execution_count": 88,
   "metadata": {},
   "outputs": [
    {
     "data": {
      "text/plain": [
       "Text(0.5, 1.0, 'Permits per applicant')"
      ]
     },
     "execution_count": 88,
     "metadata": {},
     "output_type": "execute_result"
    },
    {
     "data": {
      "image/png": "[encoded data removed]",
      "text/plain": [
       "<Figure size 864x720 with 1 Axes>"
      ]
     },
     "metadata": {},
     "output_type": "display_data"
    }
   ],
   "source": [
    "plt.figure(figsize=(12,10))\n",
    "\n",
    "sns.barplot('Applicant', 'Count', data=sf_app)\n",
    "\n",
    "plt.xticks([])\n",
    "plt.xlabel('Applicant')\n",
    "plt.ylabel('Count')\n",
    "\n",
    "plt.title('Permits per applicant')"
   ]
  },
  {
   "cell_type": "code",
   "execution_count": 91,
   "metadata": {},
   "outputs": [
    {
     "data": {
      "text/plain": [
       "<matplotlib.axes._subplots.AxesSubplot at 0x1558f47ab00>"
      ]
     },
     "execution_count": 91,
     "metadata": {},
     "output_type": "execute_result"
    },
    {
     "data": {
      "image/png": "[encoded data removed]",
      "text/plain": [
       "<Figure size 576x576 with 1 Axes>"
      ]
     },
     "metadata": {},
     "output_type": "display_data"
    }
   ],
   "source": [
    "plt.figure(figsize=(8,8))\n",
    "sns.distplot(sf_app['Count'])"
   ]
  },
  {
   "cell_type": "code",
   "execution_count": 121,
   "metadata": {},
   "outputs": [
    {
     "data": {
      "text/html": [
       "<div>\n",
       "<style scoped>\n",
       "    .dataframe tbody tr th:only-of-type {\n",
       "        vertical-align: middle;\n",
       "    }\n",
       "\n",
       "    .dataframe tbody tr th {\n",
       "        vertical-align: top;\n",
       "    }\n",
       "\n",
       "    .dataframe thead th {\n",
       "        text-align: right;\n",
       "    }\n",
       "</style>\n",
       "<table border=\"1\" class=\"dataframe\">\n",
       "  <thead>\n",
       "    <tr style=\"text-align: right;\">\n",
       "      <th></th>\n",
       "      <th>locationid</th>\n",
       "      <th>cnn</th>\n",
       "      <th>X</th>\n",
       "      <th>Y</th>\n",
       "      <th>Latitude</th>\n",
       "      <th>Longitude</th>\n",
       "      <th>PriorPermit</th>\n",
       "    </tr>\n",
       "  </thead>\n",
       "  <tbody>\n",
       "    <tr>\n",
       "      <th>count</th>\n",
       "      <td>5.760000e+02</td>\n",
       "      <td>5.760000e+02</td>\n",
       "      <td>5.760000e+02</td>\n",
       "      <td>5.760000e+02</td>\n",
       "      <td>576.000000</td>\n",
       "      <td>576.000000</td>\n",
       "      <td>576.000000</td>\n",
       "    </tr>\n",
       "    <tr>\n",
       "      <th>mean</th>\n",
       "      <td>1.111839e+06</td>\n",
       "      <td>6.734556e+06</td>\n",
       "      <td>6.011461e+06</td>\n",
       "      <td>2.106587e+06</td>\n",
       "      <td>37.764931</td>\n",
       "      <td>-122.403561</td>\n",
       "      <td>0.737847</td>\n",
       "    </tr>\n",
       "    <tr>\n",
       "      <th>std</th>\n",
       "      <td>1.300380e+05</td>\n",
       "      <td>4.863518e+06</td>\n",
       "      <td>5.147627e+03</td>\n",
       "      <td>8.474579e+03</td>\n",
       "      <td>0.023204</td>\n",
       "      <td>0.017953</td>\n",
       "      <td>0.440188</td>\n",
       "    </tr>\n",
       "    <tr>\n",
       "      <th>min</th>\n",
       "      <td>3.349140e+05</td>\n",
       "      <td>0.000000e+00</td>\n",
       "      <td>5.985031e+06</td>\n",
       "      <td>2.086365e+06</td>\n",
       "      <td>37.709375</td>\n",
       "      <td>-122.494378</td>\n",
       "      <td>0.000000</td>\n",
       "    </tr>\n",
       "    <tr>\n",
       "      <th>25%</th>\n",
       "      <td>1.024050e+06</td>\n",
       "      <td>2.953750e+06</td>\n",
       "      <td>6.009778e+06</td>\n",
       "      <td>2.100487e+06</td>\n",
       "      <td>37.748428</td>\n",
       "      <td>-122.409597</td>\n",
       "      <td>0.000000</td>\n",
       "    </tr>\n",
       "    <tr>\n",
       "      <th>50%</th>\n",
       "      <td>1.181850e+06</td>\n",
       "      <td>6.775500e+06</td>\n",
       "      <td>6.012651e+06</td>\n",
       "      <td>2.107898e+06</td>\n",
       "      <td>37.768314</td>\n",
       "      <td>-122.399884</td>\n",
       "      <td>1.000000</td>\n",
       "    </tr>\n",
       "    <tr>\n",
       "      <th>75%</th>\n",
       "      <td>1.184849e+06</td>\n",
       "      <td>9.355250e+06</td>\n",
       "      <td>6.014952e+06</td>\n",
       "      <td>2.114204e+06</td>\n",
       "      <td>37.785922</td>\n",
       "      <td>-122.391244</td>\n",
       "      <td>1.000000</td>\n",
       "    </tr>\n",
       "    <tr>\n",
       "      <th>max</th>\n",
       "      <td>1.272280e+06</td>\n",
       "      <td>3.074700e+07</td>\n",
       "      <td>6.019957e+06</td>\n",
       "      <td>2.122294e+06</td>\n",
       "      <td>37.807743</td>\n",
       "      <td>-122.373303</td>\n",
       "      <td>1.000000</td>\n",
       "    </tr>\n",
       "  </tbody>\n",
       "</table>\n",
       "</div>"
      ],
      "text/plain": [
       "         locationid           cnn             X             Y    Latitude  \\\n",
       "count  5.760000e+02  5.760000e+02  5.760000e+02  5.760000e+02  576.000000   \n",
       "mean   1.111839e+06  6.734556e+06  6.011461e+06  2.106587e+06   37.764931   \n",
       "std    1.300380e+05  4.863518e+06  5.147627e+03  8.474579e+03    0.023204   \n",
       "min    3.349140e+05  0.000000e+00  5.985031e+06  2.086365e+06   37.709375   \n",
       "25%    1.024050e+06  2.953750e+06  6.009778e+06  2.100487e+06   37.748428   \n",
       "50%    1.181850e+06  6.775500e+06  6.012651e+06  2.107898e+06   37.768314   \n",
       "75%    1.184849e+06  9.355250e+06  6.014952e+06  2.114204e+06   37.785922   \n",
       "max    1.272280e+06  3.074700e+07  6.019957e+06  2.122294e+06   37.807743   \n",
       "\n",
       "        Longitude  PriorPermit  \n",
       "count  576.000000   576.000000  \n",
       "mean  -122.403561     0.737847  \n",
       "std      0.017953     0.440188  \n",
       "min   -122.494378     0.000000  \n",
       "25%   -122.409597     0.000000  \n",
       "50%   -122.399884     1.000000  \n",
       "75%   -122.391244     1.000000  \n",
       "max   -122.373303     1.000000  "
      ]
     },
     "execution_count": 121,
     "metadata": {},
     "output_type": "execute_result"
    }
   ],
   "source": [
    "sf.describe()"
   ]
  },
  {
   "cell_type": "code",
   "execution_count": 134,
   "metadata": {},
   "outputs": [
    {
     "data": {
      "text/plain": [
       "APPROVED     378\n",
       "REQUESTED    110\n",
       "EXPIRED       77\n",
       "SUSPEND        5\n",
       "ISSUED         4\n",
       "INACTIVE       1\n",
       "ONHOLD         1\n",
       "Name: Status, dtype: int64"
      ]
     },
     "execution_count": 134,
     "metadata": {},
     "output_type": "execute_result"
    }
   ],
   "source": [
    "sf['Status'].value_counts()"
   ]
  },
  {
   "cell_type": "markdown",
   "metadata": {},
   "source": [
    "Check if distributions representative of the population."
   ]
  },
  {
   "cell_type": "code",
   "execution_count": 135,
   "metadata": {},
   "outputs": [
    {
     "data": {
      "text/plain": [
       "<matplotlib.axes._subplots.AxesSubplot at 0x15590b941d0>"
      ]
     },
     "execution_count": 135,
     "metadata": {},
     "output_type": "execute_result"
    },
    {
     "data": {
      "image/png": "[encoded data removed]",
      "text/plain": [
       "<Figure size 576x576 with 1 Axes>"
      ]
     },
     "metadata": {},
     "output_type": "display_data"
    }
   ],
   "source": [
    "plt.figure(figsize=(8,8))\n",
    "sns.countplot('Status', hue='FacilityType', data=sf)"
   ]
  },
  {
   "cell_type": "code",
   "execution_count": 129,
   "metadata": {},
   "outputs": [
    {
     "data": {
      "text/plain": [
       "1    425\n",
       "0    151\n",
       "Name: PriorPermit, dtype: int64"
      ]
     },
     "execution_count": 129,
     "metadata": {},
     "output_type": "execute_result"
    }
   ],
   "source": [
    "sf['PriorPermit'].value_counts()"
   ]
  },
  {
   "cell_type": "markdown",
   "metadata": {},
   "source": [
    "151 of the applications have not had a prior permit while the remaining 425 applications have had only 1 prior permit."
   ]
  },
  {
   "cell_type": "code",
   "execution_count": 132,
   "metadata": {},
   "outputs": [
    {
     "data": {
      "text/plain": [
       "Text(0.5, 1.0, 'Count of prior permits')"
      ]
     },
     "execution_count": 132,
     "metadata": {},
     "output_type": "execute_result"
    },
    {
     "data": {
      "image/png": "[encoded data removed]",
      "text/plain": [
       "<Figure size 576x576 with 1 Axes>"
      ]
     },
     "metadata": {},
     "output_type": "display_data"
    }
   ],
   "source": [
    "plt.figure(figsize=(8,8))\n",
    "sns.countplot('PriorPermit', data=sf)\n",
    "\n",
    "plt.xlabel('Number of Prior Permits')\n",
    "plt.ylabel('Count')\n",
    "plt.title('Count of prior permits')"
   ]
  },
  {
   "cell_type": "markdown",
   "metadata": {},
   "source": [
    "Get the food items, facilitytype of the 10 most numerous food places"
   ]
  },
  {
   "cell_type": "code",
   "execution_count": 110,
   "metadata": {},
   "outputs": [
    {
     "data": {
      "text/html": [
       "<div>\n",
       "<style scoped>\n",
       "    .dataframe tbody tr th:only-of-type {\n",
       "        vertical-align: middle;\n",
       "    }\n",
       "\n",
       "    .dataframe tbody tr th {\n",
       "        vertical-align: top;\n",
       "    }\n",
       "\n",
       "    .dataframe thead th {\n",
       "        text-align: right;\n",
       "    }\n",
       "</style>\n",
       "<table border=\"1\" class=\"dataframe\">\n",
       "  <thead>\n",
       "    <tr style=\"text-align: right;\">\n",
       "      <th></th>\n",
       "      <th>Applicant</th>\n",
       "      <th>Count</th>\n",
       "      <th>locationid</th>\n",
       "      <th>FacilityType</th>\n",
       "      <th>cnn</th>\n",
       "      <th>LocationDescription</th>\n",
       "      <th>Address</th>\n",
       "      <th>blocklot</th>\n",
       "      <th>block</th>\n",
       "      <th>lot</th>\n",
       "      <th>permit</th>\n",
       "      <th>Status</th>\n",
       "      <th>FoodItems</th>\n",
       "      <th>X</th>\n",
       "      <th>Y</th>\n",
       "      <th>Latitude</th>\n",
       "      <th>Longitude</th>\n",
       "      <th>Schedule</th>\n",
       "      <th>dayshours</th>\n",
       "      <th>NOISent</th>\n",
       "      <th>Approved</th>\n",
       "      <th>Received</th>\n",
       "      <th>PriorPermit</th>\n",
       "      <th>ExpirationDate</th>\n",
       "      <th>Location</th>\n",
       "    </tr>\n",
       "  </thead>\n",
       "  <tbody>\n",
       "    <tr>\n",
       "      <th>0</th>\n",
       "      <td>D &amp; T Catering</td>\n",
       "      <td>16</td>\n",
       "      <td>1184104</td>\n",
       "      <td>Truck</td>\n",
       "      <td>13448000</td>\n",
       "      <td>WASHINGTON ST: LAUREL ST to LOCUST ST (3500 - ...</td>\n",
       "      <td>3550 WASHINGTON ST</td>\n",
       "      <td>0986009</td>\n",
       "      <td>0986</td>\n",
       "      <td>009</td>\n",
       "      <td>18MFF-0057</td>\n",
       "      <td>APPROVED</td>\n",
       "      <td>Cold Truck: Pre-packaged sandwiches: Chicken B...</td>\n",
       "      <td>5.997757e+06</td>\n",
       "      <td>2.115878e+06</td>\n",
       "      <td>37.789667</td>\n",
       "      <td>-122.451628</td>\n",
       "      <td>http://bsm.sfdpw.org/PermitsTracker/reports/re...</td>\n",
       "      <td>Mo-Fr:9AM-10AM</td>\n",
       "      <td>NaN</td>\n",
       "      <td>07/11/2018 12:00:00 AM</td>\n",
       "      <td>2018-07-11</td>\n",
       "      <td>1</td>\n",
       "      <td>07/15/2019 12:00:00 AM</td>\n",
       "      <td>(37.7896668269621, -122.451627836117)</td>\n",
       "    </tr>\n",
       "    <tr>\n",
       "      <th>1</th>\n",
       "      <td>D &amp; T Catering</td>\n",
       "      <td>16</td>\n",
       "      <td>1184113</td>\n",
       "      <td>Truck</td>\n",
       "      <td>10163000</td>\n",
       "      <td>PACIFIC AVE: LYON ST to PRESIDIO AVE \\ PRESIDI...</td>\n",
       "      <td>3100 PACIFIC AVE</td>\n",
       "      <td>0965006</td>\n",
       "      <td>0965</td>\n",
       "      <td>006</td>\n",
       "      <td>18MFF-0057</td>\n",
       "      <td>APPROVED</td>\n",
       "      <td>Cold Truck: Pre-packaged sandwiches: Chicken B...</td>\n",
       "      <td>5.999234e+06</td>\n",
       "      <td>2.116707e+06</td>\n",
       "      <td>37.792029</td>\n",
       "      <td>-122.446577</td>\n",
       "      <td>http://bsm.sfdpw.org/PermitsTracker/reports/re...</td>\n",
       "      <td>Mo-Fr:10AM-11AM</td>\n",
       "      <td>NaN</td>\n",
       "      <td>07/11/2018 12:00:00 AM</td>\n",
       "      <td>2018-07-11</td>\n",
       "      <td>1</td>\n",
       "      <td>07/15/2019 12:00:00 AM</td>\n",
       "      <td>(37.7920290580811, -122.446576890144)</td>\n",
       "    </tr>\n",
       "    <tr>\n",
       "      <th>2</th>\n",
       "      <td>D &amp; T Catering</td>\n",
       "      <td>16</td>\n",
       "      <td>1184102</td>\n",
       "      <td>Truck</td>\n",
       "      <td>7417000</td>\n",
       "      <td>JACKSON ST: MAPLE ST to CHERRY ST (3700 - 3799)</td>\n",
       "      <td>3756 JACKSON ST</td>\n",
       "      <td>0968007</td>\n",
       "      <td>0968</td>\n",
       "      <td>007</td>\n",
       "      <td>18MFF-0057</td>\n",
       "      <td>APPROVED</td>\n",
       "      <td>Cold Truck: Pre-packaged sandwiches: Chicken B...</td>\n",
       "      <td>5.996275e+06</td>\n",
       "      <td>2.115996e+06</td>\n",
       "      <td>37.789908</td>\n",
       "      <td>-122.456763</td>\n",
       "      <td>http://bsm.sfdpw.org/PermitsTracker/reports/re...</td>\n",
       "      <td>Mo-Fr:9AM-10AM</td>\n",
       "      <td>NaN</td>\n",
       "      <td>07/11/2018 12:00:00 AM</td>\n",
       "      <td>2018-07-11</td>\n",
       "      <td>1</td>\n",
       "      <td>07/15/2019 12:00:00 AM</td>\n",
       "      <td>(37.7899082332987, -122.456762533982)</td>\n",
       "    </tr>\n",
       "    <tr>\n",
       "      <th>3</th>\n",
       "      <td>D &amp; T Catering</td>\n",
       "      <td>16</td>\n",
       "      <td>1184105</td>\n",
       "      <td>Truck</td>\n",
       "      <td>11708000</td>\n",
       "      <td>SCOTT ST: PACIFIC AVE to BROADWAY (2500 - 2599)</td>\n",
       "      <td>2521 SCOTT ST</td>\n",
       "      <td>0961002</td>\n",
       "      <td>0961</td>\n",
       "      <td>002</td>\n",
       "      <td>18MFF-0057</td>\n",
       "      <td>APPROVED</td>\n",
       "      <td>Cold Truck: Pre-packaged sandwiches: Chicken B...</td>\n",
       "      <td>6.001109e+06</td>\n",
       "      <td>2.117139e+06</td>\n",
       "      <td>37.793323</td>\n",
       "      <td>-122.440119</td>\n",
       "      <td>http://bsm.sfdpw.org/PermitsTracker/reports/re...</td>\n",
       "      <td>Mo-Fr:9AM-10AM</td>\n",
       "      <td>NaN</td>\n",
       "      <td>07/11/2018 12:00:00 AM</td>\n",
       "      <td>2018-07-11</td>\n",
       "      <td>1</td>\n",
       "      <td>07/15/2019 12:00:00 AM</td>\n",
       "      <td>(37.7933225090245, -122.440119274474)</td>\n",
       "    </tr>\n",
       "    <tr>\n",
       "      <th>4</th>\n",
       "      <td>D &amp; T Catering</td>\n",
       "      <td>16</td>\n",
       "      <td>1184106</td>\n",
       "      <td>Truck</td>\n",
       "      <td>3183000</td>\n",
       "      <td>BROADWAY: DIVISADERO ST to BRODERICK ST (2700 ...</td>\n",
       "      <td>2710 BROADWAY</td>\n",
       "      <td>0959007</td>\n",
       "      <td>0959</td>\n",
       "      <td>007</td>\n",
       "      <td>18MFF-0057</td>\n",
       "      <td>APPROVED</td>\n",
       "      <td>Cold Truck: Pre-packaged sandwiches: Chicken B...</td>\n",
       "      <td>6.000568e+06</td>\n",
       "      <td>2.117281e+06</td>\n",
       "      <td>37.793681</td>\n",
       "      <td>-122.442002</td>\n",
       "      <td>http://bsm.sfdpw.org/PermitsTracker/reports/re...</td>\n",
       "      <td>Mo-Fr:9AM-10AM</td>\n",
       "      <td>NaN</td>\n",
       "      <td>07/11/2018 12:00:00 AM</td>\n",
       "      <td>2018-07-11</td>\n",
       "      <td>1</td>\n",
       "      <td>07/15/2019 12:00:00 AM</td>\n",
       "      <td>(37.7936813457741, -122.442002100568)</td>\n",
       "    </tr>\n",
       "  </tbody>\n",
       "</table>\n",
       "</div>"
      ],
      "text/plain": [
       "        Applicant  Count  locationid FacilityType       cnn  \\\n",
       "0  D & T Catering     16     1184104        Truck  13448000   \n",
       "1  D & T Catering     16     1184113        Truck  10163000   \n",
       "2  D & T Catering     16     1184102        Truck   7417000   \n",
       "3  D & T Catering     16     1184105        Truck  11708000   \n",
       "4  D & T Catering     16     1184106        Truck   3183000   \n",
       "\n",
       "                                 LocationDescription             Address  \\\n",
       "0  WASHINGTON ST: LAUREL ST to LOCUST ST (3500 - ...  3550 WASHINGTON ST   \n",
       "1  PACIFIC AVE: LYON ST to PRESIDIO AVE \\ PRESIDI...    3100 PACIFIC AVE   \n",
       "2    JACKSON ST: MAPLE ST to CHERRY ST (3700 - 3799)     3756 JACKSON ST   \n",
       "3    SCOTT ST: PACIFIC AVE to BROADWAY (2500 - 2599)       2521 SCOTT ST   \n",
       "4  BROADWAY: DIVISADERO ST to BRODERICK ST (2700 ...       2710 BROADWAY   \n",
       "\n",
       "  blocklot block  lot      permit    Status  \\\n",
       "0  0986009  0986  009  18MFF-0057  APPROVED   \n",
       "1  0965006  0965  006  18MFF-0057  APPROVED   \n",
       "2  0968007  0968  007  18MFF-0057  APPROVED   \n",
       "3  0961002  0961  002  18MFF-0057  APPROVED   \n",
       "4  0959007  0959  007  18MFF-0057  APPROVED   \n",
       "\n",
       "                                           FoodItems             X  \\\n",
       "0  Cold Truck: Pre-packaged sandwiches: Chicken B...  5.997757e+06   \n",
       "1  Cold Truck: Pre-packaged sandwiches: Chicken B...  5.999234e+06   \n",
       "2  Cold Truck: Pre-packaged sandwiches: Chicken B...  5.996275e+06   \n",
       "3  Cold Truck: Pre-packaged sandwiches: Chicken B...  6.001109e+06   \n",
       "4  Cold Truck: Pre-packaged sandwiches: Chicken B...  6.000568e+06   \n",
       "\n",
       "              Y   Latitude   Longitude  \\\n",
       "0  2.115878e+06  37.789667 -122.451628   \n",
       "1  2.116707e+06  37.792029 -122.446577   \n",
       "2  2.115996e+06  37.789908 -122.456763   \n",
       "3  2.117139e+06  37.793323 -122.440119   \n",
       "4  2.117281e+06  37.793681 -122.442002   \n",
       "\n",
       "                                            Schedule        dayshours NOISent  \\\n",
       "0  http://bsm.sfdpw.org/PermitsTracker/reports/re...   Mo-Fr:9AM-10AM     NaN   \n",
       "1  http://bsm.sfdpw.org/PermitsTracker/reports/re...  Mo-Fr:10AM-11AM     NaN   \n",
       "2  http://bsm.sfdpw.org/PermitsTracker/reports/re...   Mo-Fr:9AM-10AM     NaN   \n",
       "3  http://bsm.sfdpw.org/PermitsTracker/reports/re...   Mo-Fr:9AM-10AM     NaN   \n",
       "4  http://bsm.sfdpw.org/PermitsTracker/reports/re...   Mo-Fr:9AM-10AM     NaN   \n",
       "\n",
       "                 Approved    Received  PriorPermit          ExpirationDate  \\\n",
       "0  07/11/2018 12:00:00 AM  2018-07-11            1  07/15/2019 12:00:00 AM   \n",
       "1  07/11/2018 12:00:00 AM  2018-07-11            1  07/15/2019 12:00:00 AM   \n",
       "2  07/11/2018 12:00:00 AM  2018-07-11            1  07/15/2019 12:00:00 AM   \n",
       "3  07/11/2018 12:00:00 AM  2018-07-11            1  07/15/2019 12:00:00 AM   \n",
       "4  07/11/2018 12:00:00 AM  2018-07-11            1  07/15/2019 12:00:00 AM   \n",
       "\n",
       "                                Location  \n",
       "0  (37.7896668269621, -122.451627836117)  \n",
       "1  (37.7920290580811, -122.446576890144)  \n",
       "2  (37.7899082332987, -122.456762533982)  \n",
       "3  (37.7933225090245, -122.440119274474)  \n",
       "4  (37.7936813457741, -122.442002100568)  "
      ]
     },
     "execution_count": 110,
     "metadata": {},
     "output_type": "execute_result"
    }
   ],
   "source": [
    "top_10 = sf_app.tail(10)\n",
    "\n",
    "top_10_crossed = pd.merge(top_10, sf, on='Applicant')\n",
    "\n",
    "top_10_crossed.head()"
   ]
  },
  {
   "cell_type": "markdown",
   "metadata": {},
   "source": [
    "I want a statistical test to see if this is representative of the population.\n",
    "\n",
    "* https://stats.stackexchange.com/tags/tost/info\n",
    "* https://stats.stackexchange.com/questions/97549/check-if-sample-is-representative-of-a-larger-sample"
   ]
  },
  {
   "cell_type": "code",
   "execution_count": 112,
   "metadata": {},
   "outputs": [
    {
     "data": {
      "text/plain": [
       "<matplotlib.axes._subplots.AxesSubplot at 0x1558f57ac18>"
      ]
     },
     "execution_count": 112,
     "metadata": {},
     "output_type": "execute_result"
    },
    {
     "data": {
      "image/png": "[encoded data removed]",
      "text/plain": [
       "<Figure size 432x288 with 1 Axes>"
      ]
     },
     "metadata": {},
     "output_type": "display_data"
    }
   ],
   "source": [
    "sns.countplot('FacilityType', data=top_10_crossed)"
   ]
  },
  {
   "cell_type": "code",
   "execution_count": 114,
   "metadata": {},
   "outputs": [
    {
     "data": {
      "text/plain": [
       "array(['Cold Truck: Pre-packaged sandwiches: Chicken Bake: Canned Soup: Chili Dog: Corn Dog: Cup of Noodles: Egg Muffins: Hamburgers: Cheeseburgers: Hot Dog: Hot sandwiches: quesadillas: Beverages: Flan: Fruits: Yogurt: Candy: Cookies: Chips: Donuts: Snacks',\n",
       "       'COLD TRUCK. Deli: bbq chicken skewer: Chinese spring roll: Chinese fried rice/noodle: fried chicken leg/wing: bbq chicken sandwich: chicken cheese burger: burrito: lumpia. Snack: sunflower seeds: muffins: chips: snickers: kit-kat: 10 types of chocolate. Drinks: Coke: 7-Up: Dr. Pepper: Pepsi: Redbull: Vitamin Water: Rockstar: Coconut Juice: Water. Hot drinks: coffee: tea.',\n",
       "       'Cold Truck: Soda:Chips:Candy: Cold/Hot Sandwiches: Donuts.  (Pitco Wholesale)',\n",
       "       'Ice Cream: Pre-Packaged Chips: Candies: Bottled Water & Canned SODA',\n",
       "       'Cold Truck: Hamburger: cheeseburgers: hot dogs: hot sandwiches: cold sandwiches: egg muffins: cup of noodles: corn dogs: canned soup: coffee: hot cocoa: hot tea: gatorade: juice: milk: soda: water: fruits: fruit salad: rice pudding: yogurt: candy bars: chips: cookies: donuts: granola bars: muffins',\n",
       "       'Cold Truck: Sandwiches: snacks: prepackaged items: beverages:',\n",
       "       'Cold Truck: Pre-packaged sandwiches: snacks: fruit: various beverages',\n",
       "       'Burgers: melts: hot dogs: burritos:sandwiches: fries: onion rings: drinks',\n",
       "       'Cold Truck: Sandwiches: Noodles:  Pre-packaged Snacks: Candy: Desserts Various Beverages',\n",
       "       'Cold Truck: Sandwiches: fruit: snacks: candy: hot and cold drinks'],\n",
       "      dtype=object)"
      ]
     },
     "execution_count": 114,
     "metadata": {},
     "output_type": "execute_result"
    }
   ],
   "source": [
    "top_10_crossed['FoodItems'].unique()"
   ]
  }
 ],
 "metadata": {
  "kernelspec": {
   "display_name": "Python 3",
   "language": "python",
   "name": "python3"
  },
  "language_info": {
   "codemirror_mode": {
    "name": "ipython",
    "version": 3
   },
   "file_extension": ".py",
   "mimetype": "text/x-python",
   "name": "python",
   "nbconvert_exporter": "python",
   "pygments_lexer": "ipython3",
   "version": "3.7.0"
  }
 },
 "nbformat": 4,
 "nbformat_minor": 2
}
