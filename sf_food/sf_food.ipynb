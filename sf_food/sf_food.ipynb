{
 "cells": [
  {
   "cell_type": "markdown",
   "metadata": {},
   "source": [
    "Note:\n",
    "\n",
    "To load all images and the Plotly map please click the symbol in the top right of the notebook."
   ]
  },
  {
   "cell_type": "markdown",
   "metadata": {},
   "source": [
    "# Background\n",
    "\n",
    "### Feeding a City\n",
    "From timeless classics like the House of Prime Rib to bizarre fusions like Sushirrito, San Francisco (SF) is know for its diverse food scene. But roaming up and down the crowded streets of SF are hundreds of mobile food facilities. These fast, casual faux resturants can be found on street corners selling mysterious meat wrapped in bacon or sprawled as far as the eye can see at their own festival. \n",
    "\n",
    "In general there are two types of mobile food facilities that can are frequently seen around any city: push carts and food trucks. The history of each is rather fascinating. In 1691 New Amsterdam, now known as New York City, began to regulate push carts selling food (2). The tradition of push carts serving lunches to city workers continues to this day.\n",
    "\n",
    "<img src=\"images\\push.jpg\" width=\"30%\">\n",
    "\n",
    "*A typical push cart selling a variety of hot foods and cold beverages.*\n",
    "\n",
    "Eventually the push cart gave way to food trucks in the 1960s, the ice cream trucks were the first to appear in the 1950s (1). These early adopters were given the derogatory name of \"roach coaches\" due to the often sub-standard health conditions and the less than ideal areas they set up shop (1). But, by the late 1990s and early 2000s attitudes towards food trucks had shifted and customers, and the food service industry as a whole, had wholeheartedly embraced these food serving trucks. Indeed, it's not uncommon to find whole areas of citys allotted to food trucks or find blogs devoted solely to finding the next hit truck.\n",
    "\n",
    "<img src=\"images\\truck.jpg\" width=\"80%\">\n",
    "\n",
    "*A line of food trucks selling a variety of quick, hot items.*\n",
    "\n",
    "\n",
    "### The Data\n",
    "A mobile food facility must be permitted by the the City of San Francisco to legally sell food. The city of San Francisco publishes partial information of permit applications on their website. This dataset is taken from the San Francisco Department of Public Works. It documents the applicant, expected location, type of facility, food type, history of permits, along with other administrative facts. The complete dataset along with a full explanation of each column can be found [here](https://data.sfgov.org/Economy-and-Community/Mobile-Food-Facility-Permit/rqzj-sfat).\n",
    "\n",
    "From this data we will create a interactive map of the location all the permitted food facilites in SF. The SF government website does allow users to create Plotly graphs and maps, however many people simply won't use it and the visuals lack the details and clarity present in this report. While there are websites that allow food trucks to update their location, many food push carts do not utilize this tool. Instead, people go to whichever push cart is the closest. By creating this map we can expose people to more push carts in their vicinity.\n",
    "\n",
    "### Approach\n",
    "In order to get a complete understanding of the dataset we'll go through a number of steps:\n",
    "\n",
    "1. Importing data\n",
    "2. Cleaning data\n",
    "3. Exploratory data analysis (EDA)\n",
    "4. Map building\n",
    "5. Analysis\n",
    "\n",
    "We'll use data visualization libraries to preform EDA, as well as scipy to perform some statistical test. We'll build our interactive map with Plotly.\n",
    "Throughout this analysis we'll try to answer the following questions:\n",
    "\n",
    "* What does the distribution of food carts and trucks look like around San Francisco? Or put simply, where are all the food carts and trucks located?\n",
    "* Are there discernible patterns in the distribution? Are they clustered togther or evenly spread out along the city.\n",
    "\n",
    "The interactive map of the dataset will answer the first two questions, about the distribution of food carts and trucks. EDA will explain the last question."
   ]
  },
  {
   "cell_type": "code",
   "execution_count": 2,
   "metadata": {},
   "outputs": [],
   "source": [
    "import plotly.plotly as py\n",
    "import plotly.graph_objs as go\n",
    "from plotly.offline import download_plotlyjs, init_notebook_mode, plot, iplot\n",
    "import numpy as np\n",
    "import pandas as pd\n",
    "import matplotlib.pyplot as plt\n",
    "import seaborn as sns\n",
    "from scipy.stats import binom_test"
   ]
  },
  {
   "cell_type": "code",
   "execution_count": 3,
   "metadata": {},
   "outputs": [
    {
     "data": {
      "text/html": [
       "<script type=\"text/javascript\">window.PlotlyConfig = {MathJaxConfig: 'local'};</script><script type=\"text/javascript\">if (window.MathJax) {MathJax.Hub.Config({SVG: {font: \"STIX-Web\"}});}</script><script>requirejs.config({paths: { 'plotly': ['https://cdn.plot.ly/plotly-latest.min']},});if(!window._Plotly) {require(['plotly'],function(plotly) {window._Plotly=plotly;});}</script>"
      ]
     },
     "metadata": {},
     "output_type": "execute_result"
    }
   ],
   "source": [
    "# Changing some of the library settings \n",
    "init_notebook_mode(connected=True)\n",
    "pd.set_option('display.max_columns', None)\n",
    "plt.rc('figure', figsize=(9,9))\n",
    "sns.set_style('darkgrid')"
   ]
  },
  {
   "cell_type": "markdown",
   "metadata": {},
   "source": [
    "# Importing Data\n",
    "Get a sense of the data."
   ]
  },
  {
   "cell_type": "code",
   "execution_count": 4,
   "metadata": {},
   "outputs": [
    {
     "data": {
      "text/plain": [
       "(632, 24)"
      ]
     },
     "execution_count": 4,
     "metadata": {},
     "output_type": "execute_result"
    }
   ],
   "source": [
    "sf = pd.read_csv('data/Mobile_Food_Facility_Permit.csv')\n",
    "sf.shape"
   ]
  },
  {
   "cell_type": "markdown",
   "metadata": {},
   "source": [
    "Looking at the first couple rows of the data most of the columns are not necessary. The administrative columns, like NOISent, and non-geographic coordinate location data, like Address and lot, can be dropped to save memory.\n",
    "We'll focus on the Applicant, Latitude, Longitude and FoodItems in this analysis."
   ]
  },
  {
   "cell_type": "code",
   "execution_count": 5,
   "metadata": {},
   "outputs": [
    {
     "data": {
      "text/html": [
       "<div>\n",
       "<style scoped>\n",
       "    .dataframe tbody tr th:only-of-type {\n",
       "        vertical-align: middle;\n",
       "    }\n",
       "\n",
       "    .dataframe tbody tr th {\n",
       "        vertical-align: top;\n",
       "    }\n",
       "\n",
       "    .dataframe thead th {\n",
       "        text-align: right;\n",
       "    }\n",
       "</style>\n",
       "<table border=\"1\" class=\"dataframe\">\n",
       "  <thead>\n",
       "    <tr style=\"text-align: right;\">\n",
       "      <th></th>\n",
       "      <th>locationid</th>\n",
       "      <th>Applicant</th>\n",
       "      <th>FacilityType</th>\n",
       "      <th>cnn</th>\n",
       "      <th>LocationDescription</th>\n",
       "      <th>Address</th>\n",
       "      <th>blocklot</th>\n",
       "      <th>block</th>\n",
       "      <th>lot</th>\n",
       "      <th>permit</th>\n",
       "      <th>Status</th>\n",
       "      <th>FoodItems</th>\n",
       "      <th>X</th>\n",
       "      <th>Y</th>\n",
       "      <th>Latitude</th>\n",
       "      <th>Longitude</th>\n",
       "      <th>Schedule</th>\n",
       "      <th>dayshours</th>\n",
       "      <th>NOISent</th>\n",
       "      <th>Approved</th>\n",
       "      <th>Received</th>\n",
       "      <th>PriorPermit</th>\n",
       "      <th>ExpirationDate</th>\n",
       "      <th>Location</th>\n",
       "    </tr>\n",
       "  </thead>\n",
       "  <tbody>\n",
       "    <tr>\n",
       "      <th>0</th>\n",
       "      <td>1152244</td>\n",
       "      <td>San Francisco's Hometown Creamery</td>\n",
       "      <td>Truck</td>\n",
       "      <td>6109000</td>\n",
       "      <td>GEARY ST: STOCKTON ST to POWELL ST (200 - 299)</td>\n",
       "      <td>281 GEARY ST</td>\n",
       "      <td>0314013</td>\n",
       "      <td>0314</td>\n",
       "      <td>013</td>\n",
       "      <td>17MFF-0001</td>\n",
       "      <td>APPROVED</td>\n",
       "      <td>Ice cream</td>\n",
       "      <td>6010423.418</td>\n",
       "      <td>2114694.802</td>\n",
       "      <td>37.787136</td>\n",
       "      <td>-122.407719</td>\n",
       "      <td>http://bsm.sfdpw.org/PermitsTracker/reports/re...</td>\n",
       "      <td>Su:11AM-11PM;Fr/Sa:6PM-11PM</td>\n",
       "      <td>NaN</td>\n",
       "      <td>10/16/2018 12:00:00 AM</td>\n",
       "      <td>2017-01-09</td>\n",
       "      <td>0</td>\n",
       "      <td>07/15/2019 12:00:00 AM</td>\n",
       "      <td>(37.7871364910861, -122.407718509001)</td>\n",
       "    </tr>\n",
       "    <tr>\n",
       "      <th>1</th>\n",
       "      <td>751253</td>\n",
       "      <td>Pipo's Grill</td>\n",
       "      <td>Truck</td>\n",
       "      <td>5688000</td>\n",
       "      <td>FOLSOM ST: 14TH ST to 15TH ST (1800 - 1899)</td>\n",
       "      <td>1800 FOLSOM ST</td>\n",
       "      <td>3549083</td>\n",
       "      <td>3549</td>\n",
       "      <td>083</td>\n",
       "      <td>16MFF-0010</td>\n",
       "      <td>REQUESTED</td>\n",
       "      <td>Tacos: Burritos: Hot Dogs: and Hamburgers</td>\n",
       "      <td>6007856.719</td>\n",
       "      <td>2107724.046</td>\n",
       "      <td>37.767852</td>\n",
       "      <td>-122.416105</td>\n",
       "      <td>http://bsm.sfdpw.org/PermitsTracker/reports/re...</td>\n",
       "      <td>NaN</td>\n",
       "      <td>NaN</td>\n",
       "      <td>NaN</td>\n",
       "      <td>2016-02-04</td>\n",
       "      <td>0</td>\n",
       "      <td>NaN</td>\n",
       "      <td>(37.7678524427181, -122.416104892532)</td>\n",
       "    </tr>\n",
       "    <tr>\n",
       "      <th>2</th>\n",
       "      <td>735318</td>\n",
       "      <td>Ziaurehman Amini</td>\n",
       "      <td>Push Cart</td>\n",
       "      <td>30727000</td>\n",
       "      <td>MARKET ST: DRUMM ST intersection</td>\n",
       "      <td>5 THE EMBARCADERO</td>\n",
       "      <td>0234017</td>\n",
       "      <td>0234</td>\n",
       "      <td>017</td>\n",
       "      <td>15MFF-0159</td>\n",
       "      <td>REQUESTED</td>\n",
       "      <td>NaN</td>\n",
       "      <td>6013916.720</td>\n",
       "      <td>2117244.027</td>\n",
       "      <td>37.794331</td>\n",
       "      <td>-122.395811</td>\n",
       "      <td>http://bsm.sfdpw.org/PermitsTracker/reports/re...</td>\n",
       "      <td>NaN</td>\n",
       "      <td>NaN</td>\n",
       "      <td>NaN</td>\n",
       "      <td>2015-12-31</td>\n",
       "      <td>0</td>\n",
       "      <td>03/15/2016 12:00:00 AM</td>\n",
       "      <td>(37.7943310032468, -122.395811053023)</td>\n",
       "    </tr>\n",
       "  </tbody>\n",
       "</table>\n",
       "</div>"
      ],
      "text/plain": [
       "   locationid                          Applicant FacilityType       cnn  \\\n",
       "0     1152244  San Francisco's Hometown Creamery        Truck   6109000   \n",
       "1      751253                       Pipo's Grill        Truck   5688000   \n",
       "2      735318                   Ziaurehman Amini    Push Cart  30727000   \n",
       "\n",
       "                              LocationDescription            Address blocklot  \\\n",
       "0  GEARY ST: STOCKTON ST to POWELL ST (200 - 299)       281 GEARY ST  0314013   \n",
       "1     FOLSOM ST: 14TH ST to 15TH ST (1800 - 1899)     1800 FOLSOM ST  3549083   \n",
       "2                MARKET ST: DRUMM ST intersection  5 THE EMBARCADERO  0234017   \n",
       "\n",
       "  block  lot      permit     Status  \\\n",
       "0  0314  013  17MFF-0001   APPROVED   \n",
       "1  3549  083  16MFF-0010  REQUESTED   \n",
       "2  0234  017  15MFF-0159  REQUESTED   \n",
       "\n",
       "                                   FoodItems            X            Y  \\\n",
       "0                                  Ice cream  6010423.418  2114694.802   \n",
       "1  Tacos: Burritos: Hot Dogs: and Hamburgers  6007856.719  2107724.046   \n",
       "2                                        NaN  6013916.720  2117244.027   \n",
       "\n",
       "    Latitude   Longitude                                           Schedule  \\\n",
       "0  37.787136 -122.407719  http://bsm.sfdpw.org/PermitsTracker/reports/re...   \n",
       "1  37.767852 -122.416105  http://bsm.sfdpw.org/PermitsTracker/reports/re...   \n",
       "2  37.794331 -122.395811  http://bsm.sfdpw.org/PermitsTracker/reports/re...   \n",
       "\n",
       "                     dayshours NOISent                Approved    Received  \\\n",
       "0  Su:11AM-11PM;Fr/Sa:6PM-11PM     NaN  10/16/2018 12:00:00 AM  2017-01-09   \n",
       "1                          NaN     NaN                     NaN  2016-02-04   \n",
       "2                          NaN     NaN                     NaN  2015-12-31   \n",
       "\n",
       "   PriorPermit          ExpirationDate                               Location  \n",
       "0            0  07/15/2019 12:00:00 AM  (37.7871364910861, -122.407718509001)  \n",
       "1            0                     NaN  (37.7678524427181, -122.416104892532)  \n",
       "2            0  03/15/2016 12:00:00 AM  (37.7943310032468, -122.395811053023)  "
      ]
     },
     "execution_count": 5,
     "metadata": {},
     "output_type": "execute_result"
    }
   ],
   "source": [
    "sf.head(3)"
   ]
  },
  {
   "cell_type": "markdown",
   "metadata": {},
   "source": [
    "# Cleaning Data\n",
    "\n",
    "Dropping the unnecessary columns."
   ]
  },
  {
   "cell_type": "code",
   "execution_count": 5,
   "metadata": {},
   "outputs": [],
   "source": [
    "sf.drop(['cnn', 'LocationDescription', 'blocklot', 'lot', 'X', 'Y', 'Schedule', 'dayshours', 'NOISent', 'Approved'],\n",
    "                axis=1, inplace=True)"
   ]
  },
  {
   "cell_type": "markdown",
   "metadata": {},
   "source": [
    "Each row represents a single applicant. A applicant can appear multiple times, but I belive they are for seperate locations."
   ]
  },
  {
   "cell_type": "code",
   "execution_count": 6,
   "metadata": {},
   "outputs": [
    {
     "data": {
      "text/plain": [
       "113"
      ]
     },
     "execution_count": 6,
     "metadata": {},
     "output_type": "execute_result"
    }
   ],
   "source": [
    "sf['Applicant'].nunique()"
   ]
  },
  {
   "cell_type": "markdown",
   "metadata": {},
   "source": [
    "So I want to remove all the duplicate applicants, that apply for the same location. If a applicant has mutiple locations that's fine, I just don't want applicants that apply and then reapply for the same location.\n",
    "\n",
    "I'll solve this by removing observations with the same Applicant and Location. While there can be multiple locations per applicant and multiple applicants per location, it is unlikely that the same applicant is requesting multiple permits for the same location. In the real world, this means that a single applicant is setting up multiple food facilities on the same corner. This does not make business sense, so these instances will be excluded and assumed that it is instead applicants reapplying for the same location. \n",
    "\n",
    "Drops rows that have duplicate Applicant and Location columns."
   ]
  },
  {
   "cell_type": "code",
   "execution_count": 7,
   "metadata": {},
   "outputs": [],
   "source": [
    "sf.drop_duplicates(subset=['Applicant','Location'], inplace=True)"
   ]
  },
  {
   "cell_type": "markdown",
   "metadata": {},
   "source": [
    "Some of the Locations are (0,0). While they do have a Address attached to them finding the latitute and longitude of each address would be too time consuming. Instead, observations with Latitutde with value of 0 will simply be dropped."
   ]
  },
  {
   "cell_type": "code",
   "execution_count": 8,
   "metadata": {},
   "outputs": [],
   "source": [
    "sf = sf.loc[sf['Latitude'] != 0]"
   ]
  },
  {
   "cell_type": "markdown",
   "metadata": {},
   "source": [
    "# EDA\n",
    "\n",
    "The vast majority of the permits are for food trucks. Only 51 permits are for food push carts."
   ]
  },
  {
   "cell_type": "code",
   "execution_count": 9,
   "metadata": {},
   "outputs": [
    {
     "data": {
      "image/png": "[encoded data removed]",
      "text/plain": [
       "<Figure size 648x648 with 1 Axes>"
      ]
     },
     "metadata": {},
     "output_type": "display_data"
    }
   ],
   "source": [
    "sns.countplot('FacilityType', data=sf)\n",
    "\n",
    "plt.xlabel('Facility Type')\n",
    "plt.ylabel('Count')\n",
    "plt.title('Permitted facility counts')\n",
    "plt.show()"
   ]
  },
  {
   "cell_type": "markdown",
   "metadata": {},
   "source": [
    "We want a further breakdown of the data to see who is apply for permits and how many are they applying for. We do this by aggregating the data, counting the number of occurrences a Applicant appears in the dataset."
   ]
  },
  {
   "cell_type": "code",
   "execution_count": 11,
   "metadata": {},
   "outputs": [],
   "source": [
    "sf_app = sf.groupby(['Applicant']).size().to_frame('Count')\n",
    "\n",
    "sf_app.index.name = 'Applicant'\n",
    "sf_app.reset_index(inplace=True)\n",
    "sf_app.sort_values(by=['Count'], inplace=True)"
   ]
  },
  {
   "cell_type": "markdown",
   "metadata": {},
   "source": [
    "A barplot of the number of permits per applicant is displayed below. Because we removed duplicates, this graph also shows the number of locations per applicant. 32% of applicants only have one location and 86% of applicants have less than 10 locations. The top 10 applicants hold 48% of the permits. The applicant with the most permits, May Catering, holds 9% of all permits with 52 total permits."
   ]
  },
  {
   "cell_type": "code",
   "execution_count": 17,
   "metadata": {},
   "outputs": [
    {
     "data": {
      "image/png": "[encoded data removed]",
      "text/plain": [
       "<Figure size 864x864 with 1 Axes>"
      ]
     },
     "metadata": {},
     "output_type": "display_data"
    }
   ],
   "source": [
    "plt.figure(figsize=(12,12))\n",
    "\n",
    "sns.barplot('Applicant', 'Count', data=sf_app)\n",
    "\n",
    "plt.xticks([])\n",
    "plt.xlabel('Applicant')\n",
    "plt.ylabel('Count')\n",
    "plt.title('Permits per applicant')\n",
    "\n",
    "plt.show()"
   ]
  },
  {
   "cell_type": "markdown",
   "metadata": {},
   "source": [
    "sf_app_breakdown returns the frequency of a number of permits. This gives us an idea of how common it is to have a Applicant to have X number of locations."
   ]
  },
  {
   "cell_type": "code",
   "execution_count": 13,
   "metadata": {},
   "outputs": [
    {
     "data": {
      "text/html": [
       "<div>\n",
       "<style scoped>\n",
       "    .dataframe tbody tr th:only-of-type {\n",
       "        vertical-align: middle;\n",
       "    }\n",
       "\n",
       "    .dataframe tbody tr th {\n",
       "        vertical-align: top;\n",
       "    }\n",
       "\n",
       "    .dataframe thead th {\n",
       "        text-align: right;\n",
       "    }\n",
       "</style>\n",
       "<table border=\"1\" class=\"dataframe\">\n",
       "  <thead>\n",
       "    <tr style=\"text-align: right;\">\n",
       "      <th></th>\n",
       "      <th>Num_Locations</th>\n",
       "      <th>Num_applicant</th>\n",
       "      <th>Percentage</th>\n",
       "    </tr>\n",
       "  </thead>\n",
       "  <tbody>\n",
       "    <tr>\n",
       "      <th>0</th>\n",
       "      <td>1</td>\n",
       "      <td>35</td>\n",
       "      <td>0.321101</td>\n",
       "    </tr>\n",
       "    <tr>\n",
       "      <th>1</th>\n",
       "      <td>2</td>\n",
       "      <td>24</td>\n",
       "      <td>0.220183</td>\n",
       "    </tr>\n",
       "    <tr>\n",
       "      <th>2</th>\n",
       "      <td>3</td>\n",
       "      <td>13</td>\n",
       "      <td>0.119266</td>\n",
       "    </tr>\n",
       "    <tr>\n",
       "      <th>3</th>\n",
       "      <td>4</td>\n",
       "      <td>10</td>\n",
       "      <td>0.091743</td>\n",
       "    </tr>\n",
       "    <tr>\n",
       "      <th>4</th>\n",
       "      <td>5</td>\n",
       "      <td>4</td>\n",
       "      <td>0.036697</td>\n",
       "    </tr>\n",
       "    <tr>\n",
       "      <th>5</th>\n",
       "      <td>6</td>\n",
       "      <td>4</td>\n",
       "      <td>0.036697</td>\n",
       "    </tr>\n",
       "    <tr>\n",
       "      <th>6</th>\n",
       "      <td>7</td>\n",
       "      <td>2</td>\n",
       "      <td>0.018349</td>\n",
       "    </tr>\n",
       "    <tr>\n",
       "      <th>7</th>\n",
       "      <td>8</td>\n",
       "      <td>2</td>\n",
       "      <td>0.018349</td>\n",
       "    </tr>\n",
       "    <tr>\n",
       "      <th>8</th>\n",
       "      <td>11</td>\n",
       "      <td>1</td>\n",
       "      <td>0.009174</td>\n",
       "    </tr>\n",
       "    <tr>\n",
       "      <th>9</th>\n",
       "      <td>12</td>\n",
       "      <td>1</td>\n",
       "      <td>0.009174</td>\n",
       "    </tr>\n",
       "    <tr>\n",
       "      <th>10</th>\n",
       "      <td>13</td>\n",
       "      <td>1</td>\n",
       "      <td>0.009174</td>\n",
       "    </tr>\n",
       "    <tr>\n",
       "      <th>11</th>\n",
       "      <td>14</td>\n",
       "      <td>2</td>\n",
       "      <td>0.018349</td>\n",
       "    </tr>\n",
       "    <tr>\n",
       "      <th>12</th>\n",
       "      <td>16</td>\n",
       "      <td>1</td>\n",
       "      <td>0.009174</td>\n",
       "    </tr>\n",
       "    <tr>\n",
       "      <th>13</th>\n",
       "      <td>17</td>\n",
       "      <td>1</td>\n",
       "      <td>0.009174</td>\n",
       "    </tr>\n",
       "    <tr>\n",
       "      <th>14</th>\n",
       "      <td>18</td>\n",
       "      <td>1</td>\n",
       "      <td>0.009174</td>\n",
       "    </tr>\n",
       "    <tr>\n",
       "      <th>15</th>\n",
       "      <td>21</td>\n",
       "      <td>1</td>\n",
       "      <td>0.009174</td>\n",
       "    </tr>\n",
       "    <tr>\n",
       "      <th>16</th>\n",
       "      <td>22</td>\n",
       "      <td>1</td>\n",
       "      <td>0.009174</td>\n",
       "    </tr>\n",
       "    <tr>\n",
       "      <th>17</th>\n",
       "      <td>26</td>\n",
       "      <td>1</td>\n",
       "      <td>0.009174</td>\n",
       "    </tr>\n",
       "    <tr>\n",
       "      <th>18</th>\n",
       "      <td>31</td>\n",
       "      <td>1</td>\n",
       "      <td>0.009174</td>\n",
       "    </tr>\n",
       "    <tr>\n",
       "      <th>19</th>\n",
       "      <td>35</td>\n",
       "      <td>1</td>\n",
       "      <td>0.009174</td>\n",
       "    </tr>\n",
       "    <tr>\n",
       "      <th>20</th>\n",
       "      <td>38</td>\n",
       "      <td>1</td>\n",
       "      <td>0.009174</td>\n",
       "    </tr>\n",
       "    <tr>\n",
       "      <th>21</th>\n",
       "      <td>52</td>\n",
       "      <td>1</td>\n",
       "      <td>0.009174</td>\n",
       "    </tr>\n",
       "  </tbody>\n",
       "</table>\n",
       "</div>"
      ],
      "text/plain": [
       "    Num_Locations  Num_applicant  Percentage\n",
       "0               1             35    0.321101\n",
       "1               2             24    0.220183\n",
       "2               3             13    0.119266\n",
       "3               4             10    0.091743\n",
       "4               5              4    0.036697\n",
       "5               6              4    0.036697\n",
       "6               7              2    0.018349\n",
       "7               8              2    0.018349\n",
       "8              11              1    0.009174\n",
       "9              12              1    0.009174\n",
       "10             13              1    0.009174\n",
       "11             14              2    0.018349\n",
       "12             16              1    0.009174\n",
       "13             17              1    0.009174\n",
       "14             18              1    0.009174\n",
       "15             21              1    0.009174\n",
       "16             22              1    0.009174\n",
       "17             26              1    0.009174\n",
       "18             31              1    0.009174\n",
       "19             35              1    0.009174\n",
       "20             38              1    0.009174\n",
       "21             52              1    0.009174"
      ]
     },
     "execution_count": 13,
     "metadata": {},
     "output_type": "execute_result"
    }
   ],
   "source": [
    "sf_app_breakdown = sf_app.groupby('Count').count()\n",
    "\n",
    "sf_app_breakdown['Percentage'] = sf_app_breakdown['Applicant']/sf_app_breakdown['Applicant'].sum()\n",
    "sf_app_breakdown.reset_index(inplace=True)\n",
    "sf_app_breakdown.rename(columns={'Count':'Num_Locations', 'Applicant':'Num_applicant'})"
   ]
  },
  {
   "cell_type": "markdown",
   "metadata": {},
   "source": [
    "Looking at which the distribution of the status of mobile food facilities. Ultimately we want to determine if there is a difference between the two facility types, that is if being a food truck means you are more likely to be approved."
   ]
  },
  {
   "cell_type": "code",
   "execution_count": 14,
   "metadata": {},
   "outputs": [
    {
     "data": {
      "image/png": "[encoded data removed]",
      "text/plain": [
       "<Figure size 648x648 with 1 Axes>"
      ]
     },
     "metadata": {},
     "output_type": "display_data"
    }
   ],
   "source": [
    "sns.countplot('Status', hue='FacilityType', data=sf)\n",
    "plt.show()"
   ]
  },
  {
   "cell_type": "markdown",
   "metadata": {},
   "source": [
    "Preforming a binomial test to see if the proportions below reflect the sample proportions."
   ]
  },
  {
   "cell_type": "code",
   "execution_count": 64,
   "metadata": {},
   "outputs": [
    {
     "name": "stdout",
     "output_type": "stream",
     "text": [
      "p-value for the binomial test of approved: 0.011714288484693375\n"
     ]
    }
   ],
   "source": [
    "facility_counts = sf.groupby('FacilityType').size()\n",
    "push = facility_counts.iloc[0]/len(sf)\n",
    "truck = facility_counts.iloc[1]/len(sf)\n",
    "\n",
    "xtab = pd.crosstab(sf.FacilityType, sf.Status)\n",
    "approved = xtab.iloc[0][0] + xtab.iloc[1][0]\n",
    "\n",
    "print('p-value for the binomial test of approved:', binom_test(xtab.iloc[1][0], n=approved, p=truck))"
   ]
  },
  {
   "cell_type": "markdown",
   "metadata": {},
   "source": [
    "We preformed a two-sided binomial test to test if the proportions of each status reflect the proportion in the dataset. We'll use the default $\\alpha$ value of 0.05 as the significance level. Because the p-values are less than our significance level we'll reject our $H_{0}$. That is, the number of approved permits for food trucks differs significantly from the expected value."
   ]
  },
  {
   "cell_type": "code",
   "execution_count": 67,
   "metadata": {},
   "outputs": [
    {
     "name": "stdout",
     "output_type": "stream",
     "text": [
      "p-value for the binomial test of requested: 0.022043648322388094\n"
     ]
    }
   ],
   "source": [
    "requested = xtab.iloc[0][1] + xtab.iloc[1][1]\n",
    "\n",
    "print('p-value for the binomial test of requested:', binom_test(xtab.iloc[1][1], n=requested, p=truck))"
   ]
  },
  {
   "cell_type": "markdown",
   "metadata": {},
   "source": [
    "Running another binomial test with requested gives us another p-value lower than our $\\alpha$ value of 0.05, so again we can reject our $H_0$. Therefore, there is a statistically significant difference in the observed number from the expected number.\n",
    "\n",
    "We can't perform a binomial test on the rest of the categories because we have > 5 observations of each mobile food facility."
   ]
  },
  {
   "cell_type": "markdown",
   "metadata": {},
   "source": [
    "# Plot\n",
    "\n",
    "Splitting the data so we can have differently colored points for push carts and food trucks."
   ]
  },
  {
   "cell_type": "code",
   "execution_count": 7,
   "metadata": {},
   "outputs": [],
   "source": [
    "map_push = sf[sf['FacilityType'] == 'Push Cart']\n",
    "map_truck = sf[sf['FacilityType'] == 'Truck']"
   ]
  },
  {
   "cell_type": "code",
   "execution_count": 1,
   "metadata": {},
   "outputs": [
    {
     "ename": "NameError",
     "evalue": "name 'go' is not defined",
     "traceback": [
      "\u001b[1;31m---------------------------------------------------------------------------\u001b[0m",
      "\u001b[1;31mNameError\u001b[0m                                 Traceback (most recent call last)",
      "\u001b[1;32m<ipython-input-1-24e74c9eb728>\u001b[0m in \u001b[0;36m<module>\u001b[1;34m\u001b[0m\n\u001b[0;32m      3\u001b[0m \u001b[0mmapbox_access_token\u001b[0m \u001b[1;33m=\u001b[0m \u001b[1;34m'pk.eyJ1IjoiY2tjaGFuMjAxNCIsImEiOiJjanNudXRtOHUwNTMzNDNydTFnZ2tscjh6In0.UTuKHStBpiCH3UIQ7CbMiw'\u001b[0m\u001b[1;33m\u001b[0m\u001b[0m\n\u001b[0;32m      4\u001b[0m data = [\n\u001b[1;32m----> 5\u001b[1;33m     go.Scattermapbox(\n\u001b[0m\u001b[0;32m      6\u001b[0m         \u001b[0mname\u001b[0m\u001b[1;33m=\u001b[0m\u001b[1;34m'Push Carts'\u001b[0m\u001b[1;33m,\u001b[0m\u001b[1;33m\u001b[0m\u001b[0m\n\u001b[0;32m      7\u001b[0m         \u001b[0mlat\u001b[0m\u001b[1;33m=\u001b[0m\u001b[0mmap_push\u001b[0m\u001b[1;33m[\u001b[0m\u001b[1;34m'Latitude'\u001b[0m\u001b[1;33m]\u001b[0m\u001b[1;33m,\u001b[0m\u001b[1;33m\u001b[0m\u001b[0m\n",
      "\u001b[1;31mNameError\u001b[0m: name 'go' is not defined"
     ],
     "output_type": "error"
    }
   ],
   "source": [
    "#plotly version\n",
    "\n",
    "mapbox_access_token = 'pk.eyJ1IjoiY2tjaGFuMjAxNCIsImEiOiJjanNudXRtOHUwNTMzNDNydTFnZ2tscjh6In0.UTuKHStBpiCH3UIQ7CbMiw'\n",
    "data = [\n",
    "    go.Scattermapbox(\n",
    "        name='Push Carts',\n",
    "        lat=map_push['Latitude'], \n",
    "        lon=map_push['Longitude'], \n",
    "        mode='markers', \n",
    "        marker=dict(size=7, opacity=0.6, color='orange'),\n",
    "        text=map_push['Applicant'],\n",
    "        hoverinfo='text'\n",
    "    ),\n",
    "    go.Scattermapbox(\n",
    "        name='Food Trucks',\n",
    "        lat=map_truck['Latitude'],\n",
    "        lon=map_truck['Longitude'],\n",
    "        mode='markers',\n",
    "        marker=dict(size=7, opacity=0.6, color='blue'),\n",
    "        text=map_truck['Applicant'],\n",
    "        hoverinfo='text'\n",
    "    )\n",
    "    \n",
    "]\n",
    "\n",
    "layout = go.Layout(\n",
    "    title='Map of San Francisco Mobile Food',\n",
    "    titlefont=dict(\n",
    "        size=30),\n",
    "    legend=dict(\n",
    "        font=dict(\n",
    "            size=15)),\n",
    "    autosize=False,\n",
    "    width=960,\n",
    "    height=930,\n",
    "    hovermode='closest',\n",
    "    mapbox=dict(\n",
    "        accesstoken=mapbox_access_token,\n",
    "        bearing=0,\n",
    "        center=dict(\n",
    "            lat=37.76,\n",
    "            lon=-122.4194\n",
    "        ),\n",
    "        zoom=11.5,\n",
    "    ),\n",
    ")\n",
    "\n",
    "\n",
    "fig = dict(data=data, layout=layout)\n",
    "iplot(fig, filename='test1')"
   ]
  },
  {
   "cell_type": "markdown",
   "metadata": {},
   "source": [
    "# Findings\n",
    "\n",
    "Looking at the Plotly map we can see that both push carts and food trucks are clustered around areas, particularly in the Financial District, South of Market (SoMa), Bayview District and off of Bayshore Blvd. Most of SF do not have mobile food facilities. Even more than this, mobile food facility seem to be clustered around each other, meaning often times customers have choices. It's rare to find a single mobile food facility.\n",
    "\n",
    "Most of the push carts are clustered around Union Square and off of Market Street, particularly closer to the Financial District. Both Union Square and Market Street have large amounts of people passing through on a daily basis. Union Square is argubly a tourist area which means lots of potential customers. Market Street is one of the busiest streets in SF, with many people using it to get to work. In addition to cluster together, most areas with push carts lack food trucks. This makes sense given the size of each food facility. Food trucks are significantly bigger than push carts and require a area to park and an additional area for customers to queue. On the otherhand, push carts require far less space and therefore can operate in spaces with a higher density of people, like Union Square.\n",
    "\n",
    "Food trucks dominate the mobile food scene in SF. They are more expansive than push carts and there are simply more food trucks. The large amounts of food trucks in the Financial District caters to the massive number of people who work in that area. It is not unfair to say that when combined the Financial District and SoMa is the SF skyline, due to the sheer number of skyscrapers. This high density of office workers present a large customer pool for mobile food facilities.\n",
    "\n",
    "Definitive explanations for the concentrations of food trucks in Bayview District and off of Bayshore Blvd are unknown at this point, but we can speculate. Due to the relatively large amounts of industrial businesses in the Bayview District food trucks may be present there to cater to workers. Bayshore Blvd has a suprising amount of food trucks near it. Like Market Street, we can speculate that it is because it is a very active street with a large amount of pedestrians.\n",
    "\n",
    "Looking at the map there is a obvious lack of mobile food facilities in large areas. In general, mobile food facilities are clustered around workplaces and are almost non-existent in residential areas. There is a abundance of mobile food facilities in Financial District, SoMa, the Mission District and the BayView District, the places we explored as places of work. In residential neighborhoods like the Richmond District, Sunset District and Daly City there are very few if not not no mobile food facilities.\n",
    "\n",
    "Overall the clear trend is that density of people seems to be the biggest determinant of location for mobile food facilities."
   ]
  },
  {
   "cell_type": "markdown",
   "metadata": {},
   "source": [
    "### Citations\n",
    "\n",
    "1. Butler, Stephanie. “From Chuck Wagons to Pushcarts: The History of the Food Truck.” History.com, A&E Television Networks, 8 Aug. 2014, www.history.com/news/from-chuck-wagons-to-pushcarts-the-history-of-the-food-truck.\n",
    "2. Mobile Cuisine, LLC. “The Complete History of American Food Trucks.” Mobile Cuisine | Food Truck, Pop Up & Street Food Coverage, 31 Mar. 2017, mobile-cuisine.com/business/history-of-american-food-trucks/.\n",
    "\n",
    "### Images\n",
    "1. https://www.visitmuskogee.com/calendar/food-truck-wars-2/"
   ]
  }
 ],
 "metadata": {
  "kernelspec": {
   "display_name": "Python 3",
   "language": "python",
   "name": "python3"
  },
  "language_info": {
   "codemirror_mode": {
    "name": "ipython",
    "version": 3
   },
   "file_extension": ".py",
   "mimetype": "text/x-python",
   "name": "python",
   "nbconvert_exporter": "python",
   "pygments_lexer": "ipython3",
   "version": "3.7.0"
  }
 },
 "nbformat": 4,
 "nbformat_minor": 2
}
