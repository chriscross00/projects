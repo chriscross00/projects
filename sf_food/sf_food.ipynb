{
 "cells": [
  {
   "cell_type": "markdown",
   "metadata": {},
   "source": [
    "* https://plot.ly/python/maps/\n",
    "* https://data.sfgov.org/Economy-and-Community/Mobile-Food-Facility-Permit/rqzj-sfat"
   ]
  },
  {
   "cell_type": "code",
   "execution_count": 34,
   "metadata": {},
   "outputs": [],
   "source": [
    "import plotly.plotly as py\n",
    "import numpy as np\n",
    "import pandas as pd\n",
    "import matplotlib.pyplot as plt\n",
    "import seaborn as sns"
   ]
  },
  {
   "cell_type": "code",
   "execution_count": 3,
   "metadata": {},
   "outputs": [],
   "source": [
    "pd.set_option('display.max_columns', None)\n",
    "sns.set_style('darkgrid')"
   ]
  },
  {
   "cell_type": "markdown",
   "metadata": {},
   "source": [
    "# Importing Data"
   ]
  },
  {
   "cell_type": "markdown",
   "metadata": {},
   "source": [
    "Get a sense of the data."
   ]
  },
  {
   "cell_type": "code",
   "execution_count": 4,
   "metadata": {},
   "outputs": [
    {
     "data": {
      "text/plain": [
       "(632, 24)"
      ]
     },
     "execution_count": 4,
     "metadata": {},
     "output_type": "execute_result"
    }
   ],
   "source": [
    "sf = pd.read_csv('data/Mobile_Food_Facility_Permit.csv')\n",
    "sf.shape"
   ]
  },
  {
   "cell_type": "code",
   "execution_count": 5,
   "metadata": {},
   "outputs": [
    {
     "data": {
      "text/html": [
       "<div>\n",
       "<style scoped>\n",
       "    .dataframe tbody tr th:only-of-type {\n",
       "        vertical-align: middle;\n",
       "    }\n",
       "\n",
       "    .dataframe tbody tr th {\n",
       "        vertical-align: top;\n",
       "    }\n",
       "\n",
       "    .dataframe thead th {\n",
       "        text-align: right;\n",
       "    }\n",
       "</style>\n",
       "<table border=\"1\" class=\"dataframe\">\n",
       "  <thead>\n",
       "    <tr style=\"text-align: right;\">\n",
       "      <th></th>\n",
       "      <th>locationid</th>\n",
       "      <th>Applicant</th>\n",
       "      <th>FacilityType</th>\n",
       "      <th>cnn</th>\n",
       "      <th>LocationDescription</th>\n",
       "      <th>Address</th>\n",
       "      <th>blocklot</th>\n",
       "      <th>block</th>\n",
       "      <th>lot</th>\n",
       "      <th>permit</th>\n",
       "      <th>Status</th>\n",
       "      <th>FoodItems</th>\n",
       "      <th>X</th>\n",
       "      <th>Y</th>\n",
       "      <th>Latitude</th>\n",
       "      <th>Longitude</th>\n",
       "      <th>Schedule</th>\n",
       "      <th>dayshours</th>\n",
       "      <th>NOISent</th>\n",
       "      <th>Approved</th>\n",
       "      <th>Received</th>\n",
       "      <th>PriorPermit</th>\n",
       "      <th>ExpirationDate</th>\n",
       "      <th>Location</th>\n",
       "    </tr>\n",
       "  </thead>\n",
       "  <tbody>\n",
       "    <tr>\n",
       "      <th>0</th>\n",
       "      <td>1152244</td>\n",
       "      <td>San Francisco's Hometown Creamery</td>\n",
       "      <td>Truck</td>\n",
       "      <td>6109000</td>\n",
       "      <td>GEARY ST: STOCKTON ST to POWELL ST (200 - 299)</td>\n",
       "      <td>281 GEARY ST</td>\n",
       "      <td>0314013</td>\n",
       "      <td>0314</td>\n",
       "      <td>013</td>\n",
       "      <td>17MFF-0001</td>\n",
       "      <td>APPROVED</td>\n",
       "      <td>Ice cream</td>\n",
       "      <td>6010423.418</td>\n",
       "      <td>2114694.802</td>\n",
       "      <td>37.787136</td>\n",
       "      <td>-122.407719</td>\n",
       "      <td>http://bsm.sfdpw.org/PermitsTracker/reports/re...</td>\n",
       "      <td>Su:11AM-11PM;Fr/Sa:6PM-11PM</td>\n",
       "      <td>NaN</td>\n",
       "      <td>10/16/2018 12:00:00 AM</td>\n",
       "      <td>2017-01-09</td>\n",
       "      <td>0</td>\n",
       "      <td>07/15/2019 12:00:00 AM</td>\n",
       "      <td>(37.7871364910861, -122.407718509001)</td>\n",
       "    </tr>\n",
       "    <tr>\n",
       "      <th>1</th>\n",
       "      <td>751253</td>\n",
       "      <td>Pipo's Grill</td>\n",
       "      <td>Truck</td>\n",
       "      <td>5688000</td>\n",
       "      <td>FOLSOM ST: 14TH ST to 15TH ST (1800 - 1899)</td>\n",
       "      <td>1800 FOLSOM ST</td>\n",
       "      <td>3549083</td>\n",
       "      <td>3549</td>\n",
       "      <td>083</td>\n",
       "      <td>16MFF-0010</td>\n",
       "      <td>REQUESTED</td>\n",
       "      <td>Tacos: Burritos: Hot Dogs: and Hamburgers</td>\n",
       "      <td>6007856.719</td>\n",
       "      <td>2107724.046</td>\n",
       "      <td>37.767852</td>\n",
       "      <td>-122.416105</td>\n",
       "      <td>http://bsm.sfdpw.org/PermitsTracker/reports/re...</td>\n",
       "      <td>NaN</td>\n",
       "      <td>NaN</td>\n",
       "      <td>NaN</td>\n",
       "      <td>2016-02-04</td>\n",
       "      <td>0</td>\n",
       "      <td>NaN</td>\n",
       "      <td>(37.7678524427181, -122.416104892532)</td>\n",
       "    </tr>\n",
       "    <tr>\n",
       "      <th>2</th>\n",
       "      <td>735318</td>\n",
       "      <td>Ziaurehman Amini</td>\n",
       "      <td>Push Cart</td>\n",
       "      <td>30727000</td>\n",
       "      <td>MARKET ST: DRUMM ST intersection</td>\n",
       "      <td>5 THE EMBARCADERO</td>\n",
       "      <td>0234017</td>\n",
       "      <td>0234</td>\n",
       "      <td>017</td>\n",
       "      <td>15MFF-0159</td>\n",
       "      <td>REQUESTED</td>\n",
       "      <td>NaN</td>\n",
       "      <td>6013916.720</td>\n",
       "      <td>2117244.027</td>\n",
       "      <td>37.794331</td>\n",
       "      <td>-122.395811</td>\n",
       "      <td>http://bsm.sfdpw.org/PermitsTracker/reports/re...</td>\n",
       "      <td>NaN</td>\n",
       "      <td>NaN</td>\n",
       "      <td>NaN</td>\n",
       "      <td>2015-12-31</td>\n",
       "      <td>0</td>\n",
       "      <td>03/15/2016 12:00:00 AM</td>\n",
       "      <td>(37.7943310032468, -122.395811053023)</td>\n",
       "    </tr>\n",
       "    <tr>\n",
       "      <th>3</th>\n",
       "      <td>364218</td>\n",
       "      <td>The Chai Cart</td>\n",
       "      <td>Push Cart</td>\n",
       "      <td>9543000</td>\n",
       "      <td>NEW MONTGOMERY ST: AMBROSE BIERCE ST to MISSIO...</td>\n",
       "      <td>79 NEW MONTGOMERY ST</td>\n",
       "      <td>3707014</td>\n",
       "      <td>3707</td>\n",
       "      <td>014</td>\n",
       "      <td>12MFF-0083</td>\n",
       "      <td>SUSPEND</td>\n",
       "      <td>Hot Indian Chai (Tea)</td>\n",
       "      <td>6012504.312</td>\n",
       "      <td>2114926.774</td>\n",
       "      <td>37.787890</td>\n",
       "      <td>-122.400535</td>\n",
       "      <td>http://bsm.sfdpw.org/PermitsTracker/reports/re...</td>\n",
       "      <td>Mo-Su:7AM-6PM</td>\n",
       "      <td>NaN</td>\n",
       "      <td>NaN</td>\n",
       "      <td>2012-04-03</td>\n",
       "      <td>0</td>\n",
       "      <td>NaN</td>\n",
       "      <td>(37.7878896999061, -122.400535326777)</td>\n",
       "    </tr>\n",
       "    <tr>\n",
       "      <th>4</th>\n",
       "      <td>735315</td>\n",
       "      <td>Ziaurehman Amini</td>\n",
       "      <td>Push Cart</td>\n",
       "      <td>4969000</td>\n",
       "      <td>DRUMM ST: MARKET ST to CALIFORNIA ST (1 - 6)</td>\n",
       "      <td>1 CALIFORNIA ST</td>\n",
       "      <td>0264004</td>\n",
       "      <td>0264</td>\n",
       "      <td>004</td>\n",
       "      <td>15MFF-0159</td>\n",
       "      <td>REQUESTED</td>\n",
       "      <td>NaN</td>\n",
       "      <td>6013552.570</td>\n",
       "      <td>2116844.500</td>\n",
       "      <td>37.793214</td>\n",
       "      <td>-122.397043</td>\n",
       "      <td>http://bsm.sfdpw.org/PermitsTracker/reports/re...</td>\n",
       "      <td>NaN</td>\n",
       "      <td>NaN</td>\n",
       "      <td>NaN</td>\n",
       "      <td>2015-12-31</td>\n",
       "      <td>0</td>\n",
       "      <td>03/15/2016 12:00:00 AM</td>\n",
       "      <td>(37.7932137316634, -122.397043036718)</td>\n",
       "    </tr>\n",
       "  </tbody>\n",
       "</table>\n",
       "</div>"
      ],
      "text/plain": [
       "   locationid                          Applicant FacilityType       cnn  \\\n",
       "0     1152244  San Francisco's Hometown Creamery        Truck   6109000   \n",
       "1      751253                       Pipo's Grill        Truck   5688000   \n",
       "2      735318                   Ziaurehman Amini    Push Cart  30727000   \n",
       "3      364218                      The Chai Cart    Push Cart   9543000   \n",
       "4      735315                   Ziaurehman Amini    Push Cart   4969000   \n",
       "\n",
       "                                 LocationDescription               Address  \\\n",
       "0     GEARY ST: STOCKTON ST to POWELL ST (200 - 299)          281 GEARY ST   \n",
       "1        FOLSOM ST: 14TH ST to 15TH ST (1800 - 1899)        1800 FOLSOM ST   \n",
       "2                   MARKET ST: DRUMM ST intersection     5 THE EMBARCADERO   \n",
       "3  NEW MONTGOMERY ST: AMBROSE BIERCE ST to MISSIO...  79 NEW MONTGOMERY ST   \n",
       "4       DRUMM ST: MARKET ST to CALIFORNIA ST (1 - 6)       1 CALIFORNIA ST   \n",
       "\n",
       "  blocklot block  lot      permit     Status  \\\n",
       "0  0314013  0314  013  17MFF-0001   APPROVED   \n",
       "1  3549083  3549  083  16MFF-0010  REQUESTED   \n",
       "2  0234017  0234  017  15MFF-0159  REQUESTED   \n",
       "3  3707014  3707  014  12MFF-0083    SUSPEND   \n",
       "4  0264004  0264  004  15MFF-0159  REQUESTED   \n",
       "\n",
       "                                   FoodItems            X            Y  \\\n",
       "0                                  Ice cream  6010423.418  2114694.802   \n",
       "1  Tacos: Burritos: Hot Dogs: and Hamburgers  6007856.719  2107724.046   \n",
       "2                                        NaN  6013916.720  2117244.027   \n",
       "3                      Hot Indian Chai (Tea)  6012504.312  2114926.774   \n",
       "4                                        NaN  6013552.570  2116844.500   \n",
       "\n",
       "    Latitude   Longitude                                           Schedule  \\\n",
       "0  37.787136 -122.407719  http://bsm.sfdpw.org/PermitsTracker/reports/re...   \n",
       "1  37.767852 -122.416105  http://bsm.sfdpw.org/PermitsTracker/reports/re...   \n",
       "2  37.794331 -122.395811  http://bsm.sfdpw.org/PermitsTracker/reports/re...   \n",
       "3  37.787890 -122.400535  http://bsm.sfdpw.org/PermitsTracker/reports/re...   \n",
       "4  37.793214 -122.397043  http://bsm.sfdpw.org/PermitsTracker/reports/re...   \n",
       "\n",
       "                     dayshours NOISent                Approved    Received  \\\n",
       "0  Su:11AM-11PM;Fr/Sa:6PM-11PM     NaN  10/16/2018 12:00:00 AM  2017-01-09   \n",
       "1                          NaN     NaN                     NaN  2016-02-04   \n",
       "2                          NaN     NaN                     NaN  2015-12-31   \n",
       "3                Mo-Su:7AM-6PM     NaN                     NaN  2012-04-03   \n",
       "4                          NaN     NaN                     NaN  2015-12-31   \n",
       "\n",
       "   PriorPermit          ExpirationDate                               Location  \n",
       "0            0  07/15/2019 12:00:00 AM  (37.7871364910861, -122.407718509001)  \n",
       "1            0                     NaN  (37.7678524427181, -122.416104892532)  \n",
       "2            0  03/15/2016 12:00:00 AM  (37.7943310032468, -122.395811053023)  \n",
       "3            0                     NaN  (37.7878896999061, -122.400535326777)  \n",
       "4            0  03/15/2016 12:00:00 AM  (37.7932137316634, -122.397043036718)  "
      ]
     },
     "execution_count": 5,
     "metadata": {},
     "output_type": "execute_result"
    }
   ],
   "source": [
    "sf.head()"
   ]
  },
  {
   "cell_type": "markdown",
   "metadata": {},
   "source": [
    "# Cleaning Data"
   ]
  },
  {
   "cell_type": "markdown",
   "metadata": {},
   "source": [
    "Each row represents a single applicant. A applicant can appear multiple times, but I belive they are for seperate locations."
   ]
  },
  {
   "cell_type": "code",
   "execution_count": 6,
   "metadata": {},
   "outputs": [
    {
     "data": {
      "text/plain": [
       "113"
      ]
     },
     "execution_count": 6,
     "metadata": {},
     "output_type": "execute_result"
    }
   ],
   "source": [
    "sf['Applicant'].nunique()"
   ]
  },
  {
   "cell_type": "markdown",
   "metadata": {},
   "source": [
    "So I want to remove all the duplicate applicants, that apply for the same location. If a applicant has mutiple locations that's fine, I just don't want applicants that apply and then reapply for the same location.\n",
    "\n",
    "I'll solve this by removing observations with the same Applicant and Location. While there can be multiple locations per applicant and multiple applicants per location, it is unlikely that the same applicant is requesting multiple permits for the same location. In the real world, this means that a single applicant is setting up multiple food facilities on the same corner. This does not make business sense, so these instances will be excluded and assumed that it is instead applicants reapplying for the same location. "
   ]
  },
  {
   "cell_type": "markdown",
   "metadata": {},
   "source": [
    "Drops rows that have duplicate Applicant and Location columns."
   ]
  },
  {
   "cell_type": "code",
   "execution_count": 7,
   "metadata": {},
   "outputs": [],
   "source": [
    "sf.drop_duplicates(subset=['Applicant','Location'], inplace=True)"
   ]
  },
  {
   "cell_type": "markdown",
   "metadata": {},
   "source": [
    "Some of the Locations are (0,0). While they do have a Address attached to them finding the latitute and longitude of each address would be too time consuming. Instead, observations with Latitutde with value of 0 will simply be dropped."
   ]
  },
  {
   "cell_type": "code",
   "execution_count": 8,
   "metadata": {},
   "outputs": [],
   "source": [
    "sf = sf.loc[sf['Latitude'] != 0]"
   ]
  },
  {
   "cell_type": "markdown",
   "metadata": {},
   "source": [
    "# EDA"
   ]
  },
  {
   "cell_type": "markdown",
   "metadata": {},
   "source": [
    "The vast majority of the permits are for food trucks. Only 51 permits are for food push carts."
   ]
  },
  {
   "cell_type": "code",
   "execution_count": 12,
   "metadata": {},
   "outputs": [
    {
     "data": {
      "text/plain": [
       "Text(0.5, 1.0, 'Permitted facility counts')"
      ]
     },
     "execution_count": 12,
     "metadata": {},
     "output_type": "execute_result"
    },
    {
     "data": {
      "image/png": "[encoded data removed]",
      "text/plain": [
       "<Figure size 432x288 with 1 Axes>"
      ]
     },
     "metadata": {},
     "output_type": "display_data"
    }
   ],
   "source": [
    "sns.countplot('FacilityType', data=sf)\n",
    "plt.xlabel('Facility Type')\n",
    "plt.ylabel('Count')\n",
    "plt.title('Permitted facility counts')"
   ]
  },
  {
   "cell_type": "markdown",
   "metadata": {},
   "source": [
    "A barplot of the number of permits per applicant."
   ]
  },
  {
   "cell_type": "code",
   "execution_count": 13,
   "metadata": {},
   "outputs": [
    {
     "data": {
      "text/plain": [
       "Text(0.5, 1.0, 'Permitted facility counts')"
      ]
     },
     "execution_count": 13,
     "metadata": {},
     "output_type": "execute_result"
    },
    {
     "data": {
      "image/png": "[encoded data removed]",
      "text/plain": [
       "<Figure size 576x576 with 1 Axes>"
      ]
     },
     "metadata": {},
     "output_type": "display_data"
    }
   ],
   "source": [
    "plt.figure(figsize=(8,8))\n",
    "\n",
    "sns.countplot('Applicant', data=sf)\n",
    "\n",
    "plt.xlabel('Facility Type')\n",
    "plt.ylabel('Count')\n",
    "\n",
    "plt.title('Permitted facility counts')"
   ]
  },
  {
   "cell_type": "code",
   "execution_count": 65,
   "metadata": {},
   "outputs": [
    {
     "data": {
      "text/html": [
       "<div>\n",
       "<style scoped>\n",
       "    .dataframe tbody tr th:only-of-type {\n",
       "        vertical-align: middle;\n",
       "    }\n",
       "\n",
       "    .dataframe tbody tr th {\n",
       "        vertical-align: top;\n",
       "    }\n",
       "\n",
       "    .dataframe thead th {\n",
       "        text-align: right;\n",
       "    }\n",
       "</style>\n",
       "<table border=\"1\" class=\"dataframe\">\n",
       "  <thead>\n",
       "    <tr style=\"text-align: right;\">\n",
       "      <th></th>\n",
       "      <th>Applicant</th>\n",
       "      <th>Count</th>\n",
       "    </tr>\n",
       "  </thead>\n",
       "  <tbody>\n",
       "    <tr>\n",
       "      <th>0</th>\n",
       "      <td>Akuranvyka USA Inc</td>\n",
       "      <td>2</td>\n",
       "    </tr>\n",
       "    <tr>\n",
       "      <th>1</th>\n",
       "      <td>Alfaro Truck</td>\n",
       "      <td>1</td>\n",
       "    </tr>\n",
       "    <tr>\n",
       "      <th>2</th>\n",
       "      <td>Anas Goodies Catering</td>\n",
       "      <td>38</td>\n",
       "    </tr>\n",
       "    <tr>\n",
       "      <th>3</th>\n",
       "      <td>Athena SF Gyro</td>\n",
       "      <td>2</td>\n",
       "    </tr>\n",
       "    <tr>\n",
       "      <th>4</th>\n",
       "      <td>BH &amp; MT LLC</td>\n",
       "      <td>7</td>\n",
       "    </tr>\n",
       "    <tr>\n",
       "      <th>5</th>\n",
       "      <td>BI-RITE MARKET</td>\n",
       "      <td>1</td>\n",
       "    </tr>\n",
       "    <tr>\n",
       "      <th>6</th>\n",
       "      <td>BOWL'D ACAI, LLC.</td>\n",
       "      <td>3</td>\n",
       "    </tr>\n",
       "    <tr>\n",
       "      <th>7</th>\n",
       "      <td>Bay Area Dots, LLC</td>\n",
       "      <td>1</td>\n",
       "    </tr>\n",
       "    <tr>\n",
       "      <th>8</th>\n",
       "      <td>Bay Area Mobile Catering, Inc. dba. Taqueria A...</td>\n",
       "      <td>4</td>\n",
       "    </tr>\n",
       "    <tr>\n",
       "      <th>9</th>\n",
       "      <td>Bonito Poke</td>\n",
       "      <td>3</td>\n",
       "    </tr>\n",
       "    <tr>\n",
       "      <th>10</th>\n",
       "      <td>Buenafe</td>\n",
       "      <td>1</td>\n",
       "    </tr>\n",
       "    <tr>\n",
       "      <th>11</th>\n",
       "      <td>CARDONA'S FOOD TRUCK</td>\n",
       "      <td>2</td>\n",
       "    </tr>\n",
       "    <tr>\n",
       "      <th>12</th>\n",
       "      <td>CC Acquisition LLC</td>\n",
       "      <td>3</td>\n",
       "    </tr>\n",
       "    <tr>\n",
       "      <th>13</th>\n",
       "      <td>Casey's Pizza, LLC</td>\n",
       "      <td>5</td>\n",
       "    </tr>\n",
       "    <tr>\n",
       "      <th>14</th>\n",
       "      <td>Chairman SF, LLC</td>\n",
       "      <td>3</td>\n",
       "    </tr>\n",
       "    <tr>\n",
       "      <th>15</th>\n",
       "      <td>Cochinita</td>\n",
       "      <td>1</td>\n",
       "    </tr>\n",
       "    <tr>\n",
       "      <th>16</th>\n",
       "      <td>Creme Brulee To Go</td>\n",
       "      <td>2</td>\n",
       "    </tr>\n",
       "    <tr>\n",
       "      <th>17</th>\n",
       "      <td>Curry Up Now</td>\n",
       "      <td>2</td>\n",
       "    </tr>\n",
       "    <tr>\n",
       "      <th>18</th>\n",
       "      <td>D &amp; T Catering</td>\n",
       "      <td>16</td>\n",
       "    </tr>\n",
       "    <tr>\n",
       "      <th>19</th>\n",
       "      <td>DO UC US Mobile Catering</td>\n",
       "      <td>4</td>\n",
       "    </tr>\n",
       "    <tr>\n",
       "      <th>20</th>\n",
       "      <td>El Alambre</td>\n",
       "      <td>1</td>\n",
       "    </tr>\n",
       "    <tr>\n",
       "      <th>21</th>\n",
       "      <td>El Calamar Perubian Food Truck</td>\n",
       "      <td>1</td>\n",
       "    </tr>\n",
       "    <tr>\n",
       "      <th>22</th>\n",
       "      <td>El Gallo Jiro</td>\n",
       "      <td>1</td>\n",
       "    </tr>\n",
       "    <tr>\n",
       "      <th>23</th>\n",
       "      <td>El Tonayense #60</td>\n",
       "      <td>1</td>\n",
       "    </tr>\n",
       "    <tr>\n",
       "      <th>24</th>\n",
       "      <td>Eli's Hot Dogs</td>\n",
       "      <td>1</td>\n",
       "    </tr>\n",
       "    <tr>\n",
       "      <th>25</th>\n",
       "      <td>Eva's Catering</td>\n",
       "      <td>8</td>\n",
       "    </tr>\n",
       "    <tr>\n",
       "      <th>26</th>\n",
       "      <td>Expresso Subito, LLC.</td>\n",
       "      <td>2</td>\n",
       "    </tr>\n",
       "    <tr>\n",
       "      <th>27</th>\n",
       "      <td>F &amp; C Catering</td>\n",
       "      <td>6</td>\n",
       "    </tr>\n",
       "    <tr>\n",
       "      <th>28</th>\n",
       "      <td>Faith Sandwich</td>\n",
       "      <td>2</td>\n",
       "    </tr>\n",
       "    <tr>\n",
       "      <th>29</th>\n",
       "      <td>Fresh Made Cafe</td>\n",
       "      <td>1</td>\n",
       "    </tr>\n",
       "    <tr>\n",
       "      <th>...</th>\n",
       "      <td>...</td>\n",
       "      <td>...</td>\n",
       "    </tr>\n",
       "    <tr>\n",
       "      <th>79</th>\n",
       "      <td>San Francisco's Hometown Creamery</td>\n",
       "      <td>3</td>\n",
       "    </tr>\n",
       "    <tr>\n",
       "      <th>80</th>\n",
       "      <td>San Pancho's Tacos</td>\n",
       "      <td>2</td>\n",
       "    </tr>\n",
       "    <tr>\n",
       "      <th>81</th>\n",
       "      <td>Santana ESG, Inc.</td>\n",
       "      <td>2</td>\n",
       "    </tr>\n",
       "    <tr>\n",
       "      <th>82</th>\n",
       "      <td>Scotch Bonnet</td>\n",
       "      <td>4</td>\n",
       "    </tr>\n",
       "    <tr>\n",
       "      <th>83</th>\n",
       "      <td>Senor Sisig</td>\n",
       "      <td>6</td>\n",
       "    </tr>\n",
       "    <tr>\n",
       "      <th>84</th>\n",
       "      <td>Serendipity SF</td>\n",
       "      <td>1</td>\n",
       "    </tr>\n",
       "    <tr>\n",
       "      <th>85</th>\n",
       "      <td>Singh Brothers Ice Cream</td>\n",
       "      <td>21</td>\n",
       "    </tr>\n",
       "    <tr>\n",
       "      <th>86</th>\n",
       "      <td>Street Meet</td>\n",
       "      <td>3</td>\n",
       "    </tr>\n",
       "    <tr>\n",
       "      <th>87</th>\n",
       "      <td>Subs on Hubs</td>\n",
       "      <td>4</td>\n",
       "    </tr>\n",
       "    <tr>\n",
       "      <th>88</th>\n",
       "      <td>Swell Cream &amp; Coffee</td>\n",
       "      <td>2</td>\n",
       "    </tr>\n",
       "    <tr>\n",
       "      <th>89</th>\n",
       "      <td>Tacos El Flaco</td>\n",
       "      <td>1</td>\n",
       "    </tr>\n",
       "    <tr>\n",
       "      <th>90</th>\n",
       "      <td>Tacos El Ojo De Agua</td>\n",
       "      <td>1</td>\n",
       "    </tr>\n",
       "    <tr>\n",
       "      <th>91</th>\n",
       "      <td>Tacos El Primo</td>\n",
       "      <td>3</td>\n",
       "    </tr>\n",
       "    <tr>\n",
       "      <th>92</th>\n",
       "      <td>Tacos Lol-Tun</td>\n",
       "      <td>1</td>\n",
       "    </tr>\n",
       "    <tr>\n",
       "      <th>93</th>\n",
       "      <td>Tacos Rodriguez</td>\n",
       "      <td>4</td>\n",
       "    </tr>\n",
       "    <tr>\n",
       "      <th>94</th>\n",
       "      <td>Tacos Santana</td>\n",
       "      <td>3</td>\n",
       "    </tr>\n",
       "    <tr>\n",
       "      <th>95</th>\n",
       "      <td>Tacos Santo Toribio</td>\n",
       "      <td>1</td>\n",
       "    </tr>\n",
       "    <tr>\n",
       "      <th>96</th>\n",
       "      <td>Taqueria Lolita</td>\n",
       "      <td>2</td>\n",
       "    </tr>\n",
       "    <tr>\n",
       "      <th>97</th>\n",
       "      <td>Taza Halal Cart</td>\n",
       "      <td>1</td>\n",
       "    </tr>\n",
       "    <tr>\n",
       "      <th>98</th>\n",
       "      <td>The Chai Cart</td>\n",
       "      <td>1</td>\n",
       "    </tr>\n",
       "    <tr>\n",
       "      <th>99</th>\n",
       "      <td>The Chef Station</td>\n",
       "      <td>2</td>\n",
       "    </tr>\n",
       "    <tr>\n",
       "      <th>100</th>\n",
       "      <td>The Huge Hotdog Concession</td>\n",
       "      <td>1</td>\n",
       "    </tr>\n",
       "    <tr>\n",
       "      <th>101</th>\n",
       "      <td>The New York Frankfurter Co. of CA, Inc. DBA: ...</td>\n",
       "      <td>3</td>\n",
       "    </tr>\n",
       "    <tr>\n",
       "      <th>102</th>\n",
       "      <td>Think is Good Inc.</td>\n",
       "      <td>3</td>\n",
       "    </tr>\n",
       "    <tr>\n",
       "      <th>103</th>\n",
       "      <td>Tres Agaves Mexican Kitchen &amp; Tequila Lounge L...</td>\n",
       "      <td>2</td>\n",
       "    </tr>\n",
       "    <tr>\n",
       "      <th>104</th>\n",
       "      <td>Two G's Catering</td>\n",
       "      <td>14</td>\n",
       "    </tr>\n",
       "    <tr>\n",
       "      <th>105</th>\n",
       "      <td>Wonder Philly</td>\n",
       "      <td>1</td>\n",
       "    </tr>\n",
       "    <tr>\n",
       "      <th>106</th>\n",
       "      <td>Wu Wei LLC dba MoBowl</td>\n",
       "      <td>4</td>\n",
       "    </tr>\n",
       "    <tr>\n",
       "      <th>107</th>\n",
       "      <td>Yummy Hot Dogs</td>\n",
       "      <td>2</td>\n",
       "    </tr>\n",
       "    <tr>\n",
       "      <th>108</th>\n",
       "      <td>Ziaurehman Amini</td>\n",
       "      <td>2</td>\n",
       "    </tr>\n",
       "  </tbody>\n",
       "</table>\n",
       "<p>109 rows × 2 columns</p>\n",
       "</div>"
      ],
      "text/plain": [
       "                                             Applicant  Count\n",
       "0                                   Akuranvyka USA Inc      2\n",
       "1                                         Alfaro Truck      1\n",
       "2                                Anas Goodies Catering     38\n",
       "3                                       Athena SF Gyro      2\n",
       "4                                          BH & MT LLC      7\n",
       "5                                       BI-RITE MARKET      1\n",
       "6                                    BOWL'D ACAI, LLC.      3\n",
       "7                                   Bay Area Dots, LLC      1\n",
       "8    Bay Area Mobile Catering, Inc. dba. Taqueria A...      4\n",
       "9                                          Bonito Poke      3\n",
       "10                                             Buenafe      1\n",
       "11                                CARDONA'S FOOD TRUCK      2\n",
       "12                                  CC Acquisition LLC      3\n",
       "13                                  Casey's Pizza, LLC      5\n",
       "14                                    Chairman SF, LLC      3\n",
       "15                                           Cochinita      1\n",
       "16                                  Creme Brulee To Go      2\n",
       "17                                        Curry Up Now      2\n",
       "18                                      D & T Catering     16\n",
       "19                            DO UC US Mobile Catering      4\n",
       "20                                          El Alambre      1\n",
       "21                      El Calamar Perubian Food Truck      1\n",
       "22                                       El Gallo Jiro      1\n",
       "23                                    El Tonayense #60      1\n",
       "24                                      Eli's Hot Dogs      1\n",
       "25                                      Eva's Catering      8\n",
       "26                               Expresso Subito, LLC.      2\n",
       "27                                      F & C Catering      6\n",
       "28                                      Faith Sandwich      2\n",
       "29                                     Fresh Made Cafe      1\n",
       "..                                                 ...    ...\n",
       "79                   San Francisco's Hometown Creamery      3\n",
       "80                                  San Pancho's Tacos      2\n",
       "81                                   Santana ESG, Inc.      2\n",
       "82                                       Scotch Bonnet      4\n",
       "83                                         Senor Sisig      6\n",
       "84                                      Serendipity SF      1\n",
       "85                            Singh Brothers Ice Cream     21\n",
       "86                                         Street Meet      3\n",
       "87                                        Subs on Hubs      4\n",
       "88                                Swell Cream & Coffee      2\n",
       "89                                      Tacos El Flaco      1\n",
       "90                                Tacos El Ojo De Agua      1\n",
       "91                                      Tacos El Primo      3\n",
       "92                                       Tacos Lol-Tun      1\n",
       "93                                     Tacos Rodriguez      4\n",
       "94                                       Tacos Santana      3\n",
       "95                                 Tacos Santo Toribio      1\n",
       "96                                     Taqueria Lolita      2\n",
       "97                                     Taza Halal Cart      1\n",
       "98                                       The Chai Cart      1\n",
       "99                                    The Chef Station      2\n",
       "100                         The Huge Hotdog Concession      1\n",
       "101  The New York Frankfurter Co. of CA, Inc. DBA: ...      3\n",
       "102                                 Think is Good Inc.      3\n",
       "103  Tres Agaves Mexican Kitchen & Tequila Lounge L...      2\n",
       "104                                   Two G's Catering     14\n",
       "105                                      Wonder Philly      1\n",
       "106                              Wu Wei LLC dba MoBowl      4\n",
       "107                                     Yummy Hot Dogs      2\n",
       "108                                   Ziaurehman Amini      2\n",
       "\n",
       "[109 rows x 2 columns]"
      ]
     },
     "execution_count": 65,
     "metadata": {},
     "output_type": "execute_result"
    }
   ],
   "source": [
    "sf_app = sf.groupby(['Applicant']).size().to_frame('Count')\n",
    "\n",
    "sf_app.index.name = 'Applicant'\n",
    "sf_app.reset_index(inplace=True)\n",
    "sf_app.sort_values(by=['Count'], inplace=True)"
   ]
  },
  {
   "cell_type": "code",
   "execution_count": 68,
   "metadata": {},
   "outputs": [
    {
     "data": {
      "text/plain": [
       "Text(0.5, 1.0, 'Permitted facility counts')"
      ]
     },
     "execution_count": 68,
     "metadata": {},
     "output_type": "execute_result"
    },
    {
     "data": {
      "image/png": "[encoded data removed]",
      "text/plain": [
       "<Figure size 576x576 with 1 Axes>"
      ]
     },
     "metadata": {},
     "output_type": "display_data"
    }
   ],
   "source": [
    "plt.figure(figsize=(8,8))\n",
    "\n",
    "sns.barplot('Applicant', 'Count', data=sf_app)\n",
    "\n",
    "plt.set([])\n",
    "plt.xlabel('Facility Type')\n",
    "plt.ylabel('Count')\n",
    "\n",
    "plt.title('Permitted facility counts')"
   ]
  },
  {
   "cell_type": "code",
   "execution_count": 71,
   "metadata": {},
   "outputs": [
    {
     "name": "stderr",
     "output_type": "stream",
     "text": [
      "c:\\users\\chris\\appdata\\local\\programs\\python\\python37\\lib\\site-packages\\scipy\\stats\\stats.py:1713: FutureWarning:\n",
      "\n",
      "Using a non-tuple sequence for multidimensional indexing is deprecated; use `arr[tuple(seq)]` instead of `arr[seq]`. In the future this will be interpreted as an array index, `arr[np.array(seq)]`, which will result either in an error or a different result.\n",
      "\n"
     ]
    },
    {
     "data": {
      "text/plain": [
       "<matplotlib.axes._subplots.AxesSubplot at 0x1558ccce9e8>"
      ]
     },
     "execution_count": 71,
     "metadata": {},
     "output_type": "execute_result"
    },
    {
     "data": {
      "image/png": "[encoded data removed]",
      "text/plain": [
       "<Figure size 432x288 with 1 Axes>"
      ]
     },
     "metadata": {},
     "output_type": "display_data"
    }
   ],
   "source": [
    "sns.distplot(sf_app['Count'])"
   ]
  }
 ],
 "metadata": {
  "kernelspec": {
   "display_name": "Python 3",
   "language": "python",
   "name": "python3"
  },
  "language_info": {
   "codemirror_mode": {
    "name": "ipython",
    "version": 3
   },
   "file_extension": ".py",
   "mimetype": "text/x-python",
   "name": "python",
   "nbconvert_exporter": "python",
   "pygments_lexer": "ipython3",
   "version": "3.7.0"
  }
 },
 "nbformat": 4,
 "nbformat_minor": 2
}
