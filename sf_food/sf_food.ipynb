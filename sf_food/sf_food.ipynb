{
 "cells": [
  {
   "cell_type": "markdown",
   "metadata": {},
   "source": [
    "* https://plot.ly/python/maps/\n",
    "* https://data.sfgov.org/Economy-and-Community/Mobile-Food-Facility-Permit/rqzj-sfat"
   ]
  },
  {
   "cell_type": "markdown",
   "metadata": {},
   "source": [
    "To do:\n",
    "\n",
    "* Create map\n",
    "* Write-up"
   ]
  },
  {
   "cell_type": "markdown",
   "metadata": {},
   "source": [
    "Food cart history:\n",
    "\n",
    "* https://www.history.com/news/from-chuck-wagons-to-pushcarts-the-history-of-the-food-truck\n",
    "* https://mobile-cuisine.com/business/history-of-american-food-trucks/"
   ]
  },
  {
   "cell_type": "markdown",
   "metadata": {},
   "source": [
    "From timeless classics like the House of Prime Rib to bizarre fusions like Sushirrito, San Francisco (SF) is know for its diverse food scene. But roaming up and down the crowded streets of SF are hundreds of mobile food facilities. These fast, casual faux resturants can be found on street corners selling mysterious meat wrapped in bacon or sprawled as far as the eye can see at their own festival. \n",
    "\n",
    "A mobile food facility must be permitted by the the City of San Francisco to legally sell food. The city of San Francisco publishes partial information of permit applications on their website. This dataset is taken from the San Francisco Department of Public Works. \n",
    "\n",
    "Two types of mobile food facilities are recognized in the dataset: push carts and food trucks. The history of each is rather fascinating. In 1691 New Amsterdam, now known as New York City, began to regulate push carts selling food (2). The tradition of push carts serving lunches to city workers continues to this day. Eventually the push cart gave way to food trucks in the 1960s, the ice cream trucks were the first to appear in the 1950s (1). These early adopters were given the derogatory name of \"roach coaches\" due to the often sub-standard health conditions and the less than ideal areas they set up shop (1). But, by the late 1990s and early 2000s attitudes towards food trucks had shifted and customers, and the food service industry as a whole, had wholeheartedly embraced these food serving trucks. Indeed, it's not uncommon to find whole areas of citys allotted to food trucks or find blogs devoted solely to finding the next hit truck.\n",
    "\n",
    "From this data we will create a interactive map of the location all the permitted food facilites in SF. [While there are websites that allow food trucks to update their location, many food push carts do not utilize this tool.]\n",
    "\n",
    "\n",
    "<img src=\"images\\push.jpg\" width=\"30%\">\n",
    "A typical push cart selling a variety of hot foods and cold beverages\n",
    "\n",
    "\n",
    "<img src=\"images\\truck.jpg\" width=\"80%\">"
   ]
  },
  {
   "cell_type": "code",
   "execution_count": 18,
   "metadata": {},
   "outputs": [],
   "source": [
    "import plotly.plotly as py\n",
    "import numpy as np\n",
    "import pandas as pd\n",
    "import matplotlib.pyplot as plt\n",
    "import seaborn as sns\n",
    "from scipy.stats import binom_test"
   ]
  },
  {
   "cell_type": "code",
   "execution_count": 3,
   "metadata": {},
   "outputs": [],
   "source": [
    "pd.set_option('display.max_columns', None)\n",
    "plt.rc('figure', figsize=(8,8))\n",
    "sns.set_style('darkgrid')"
   ]
  },
  {
   "cell_type": "markdown",
   "metadata": {},
   "source": [
    "# Importing Data"
   ]
  },
  {
   "cell_type": "markdown",
   "metadata": {},
   "source": [
    "Get a sense of the data."
   ]
  },
  {
   "cell_type": "code",
   "execution_count": 4,
   "metadata": {},
   "outputs": [
    {
     "data": {
      "text/plain": [
       "(632, 24)"
      ]
     },
     "execution_count": 4,
     "metadata": {},
     "output_type": "execute_result"
    }
   ],
   "source": [
    "sf = pd.read_csv('data/Mobile_Food_Facility_Permit.csv')\n",
    "sf.shape"
   ]
  },
  {
   "cell_type": "markdown",
   "metadata": {},
   "source": [
    "Looking at the first couple rows of the data most of the columns are not necessary. The administrative columns, like NOISent, and non-geographic coordinate location data, like Address and lot, can be dropped to save memory.\n",
    "We'll focus on the Applicant, Latitude, Longitude and Fooditems in this analysis."
   ]
  },
  {
   "cell_type": "code",
   "execution_count": 5,
   "metadata": {},
   "outputs": [
    {
     "data": {
      "text/html": [
       "<div>\n",
       "<style scoped>\n",
       "    .dataframe tbody tr th:only-of-type {\n",
       "        vertical-align: middle;\n",
       "    }\n",
       "\n",
       "    .dataframe tbody tr th {\n",
       "        vertical-align: top;\n",
       "    }\n",
       "\n",
       "    .dataframe thead th {\n",
       "        text-align: right;\n",
       "    }\n",
       "</style>\n",
       "<table border=\"1\" class=\"dataframe\">\n",
       "  <thead>\n",
       "    <tr style=\"text-align: right;\">\n",
       "      <th></th>\n",
       "      <th>locationid</th>\n",
       "      <th>Applicant</th>\n",
       "      <th>FacilityType</th>\n",
       "      <th>cnn</th>\n",
       "      <th>LocationDescription</th>\n",
       "      <th>Address</th>\n",
       "      <th>blocklot</th>\n",
       "      <th>block</th>\n",
       "      <th>lot</th>\n",
       "      <th>permit</th>\n",
       "      <th>Status</th>\n",
       "      <th>FoodItems</th>\n",
       "      <th>X</th>\n",
       "      <th>Y</th>\n",
       "      <th>Latitude</th>\n",
       "      <th>Longitude</th>\n",
       "      <th>Schedule</th>\n",
       "      <th>dayshours</th>\n",
       "      <th>NOISent</th>\n",
       "      <th>Approved</th>\n",
       "      <th>Received</th>\n",
       "      <th>PriorPermit</th>\n",
       "      <th>ExpirationDate</th>\n",
       "      <th>Location</th>\n",
       "    </tr>\n",
       "  </thead>\n",
       "  <tbody>\n",
       "    <tr>\n",
       "      <th>0</th>\n",
       "      <td>1152244</td>\n",
       "      <td>San Francisco's Hometown Creamery</td>\n",
       "      <td>Truck</td>\n",
       "      <td>6109000</td>\n",
       "      <td>GEARY ST: STOCKTON ST to POWELL ST (200 - 299)</td>\n",
       "      <td>281 GEARY ST</td>\n",
       "      <td>0314013</td>\n",
       "      <td>0314</td>\n",
       "      <td>013</td>\n",
       "      <td>17MFF-0001</td>\n",
       "      <td>APPROVED</td>\n",
       "      <td>Ice cream</td>\n",
       "      <td>6010423.418</td>\n",
       "      <td>2114694.802</td>\n",
       "      <td>37.787136</td>\n",
       "      <td>-122.407719</td>\n",
       "      <td>http://bsm.sfdpw.org/PermitsTracker/reports/re...</td>\n",
       "      <td>Su:11AM-11PM;Fr/Sa:6PM-11PM</td>\n",
       "      <td>NaN</td>\n",
       "      <td>10/16/2018 12:00:00 AM</td>\n",
       "      <td>2017-01-09</td>\n",
       "      <td>0</td>\n",
       "      <td>07/15/2019 12:00:00 AM</td>\n",
       "      <td>(37.7871364910861, -122.407718509001)</td>\n",
       "    </tr>\n",
       "    <tr>\n",
       "      <th>1</th>\n",
       "      <td>751253</td>\n",
       "      <td>Pipo's Grill</td>\n",
       "      <td>Truck</td>\n",
       "      <td>5688000</td>\n",
       "      <td>FOLSOM ST: 14TH ST to 15TH ST (1800 - 1899)</td>\n",
       "      <td>1800 FOLSOM ST</td>\n",
       "      <td>3549083</td>\n",
       "      <td>3549</td>\n",
       "      <td>083</td>\n",
       "      <td>16MFF-0010</td>\n",
       "      <td>REQUESTED</td>\n",
       "      <td>Tacos: Burritos: Hot Dogs: and Hamburgers</td>\n",
       "      <td>6007856.719</td>\n",
       "      <td>2107724.046</td>\n",
       "      <td>37.767852</td>\n",
       "      <td>-122.416105</td>\n",
       "      <td>http://bsm.sfdpw.org/PermitsTracker/reports/re...</td>\n",
       "      <td>NaN</td>\n",
       "      <td>NaN</td>\n",
       "      <td>NaN</td>\n",
       "      <td>2016-02-04</td>\n",
       "      <td>0</td>\n",
       "      <td>NaN</td>\n",
       "      <td>(37.7678524427181, -122.416104892532)</td>\n",
       "    </tr>\n",
       "    <tr>\n",
       "      <th>2</th>\n",
       "      <td>735318</td>\n",
       "      <td>Ziaurehman Amini</td>\n",
       "      <td>Push Cart</td>\n",
       "      <td>30727000</td>\n",
       "      <td>MARKET ST: DRUMM ST intersection</td>\n",
       "      <td>5 THE EMBARCADERO</td>\n",
       "      <td>0234017</td>\n",
       "      <td>0234</td>\n",
       "      <td>017</td>\n",
       "      <td>15MFF-0159</td>\n",
       "      <td>REQUESTED</td>\n",
       "      <td>NaN</td>\n",
       "      <td>6013916.720</td>\n",
       "      <td>2117244.027</td>\n",
       "      <td>37.794331</td>\n",
       "      <td>-122.395811</td>\n",
       "      <td>http://bsm.sfdpw.org/PermitsTracker/reports/re...</td>\n",
       "      <td>NaN</td>\n",
       "      <td>NaN</td>\n",
       "      <td>NaN</td>\n",
       "      <td>2015-12-31</td>\n",
       "      <td>0</td>\n",
       "      <td>03/15/2016 12:00:00 AM</td>\n",
       "      <td>(37.7943310032468, -122.395811053023)</td>\n",
       "    </tr>\n",
       "  </tbody>\n",
       "</table>\n",
       "</div>"
      ],
      "text/plain": [
       "   locationid                          Applicant FacilityType       cnn  \\\n",
       "0     1152244  San Francisco's Hometown Creamery        Truck   6109000   \n",
       "1      751253                       Pipo's Grill        Truck   5688000   \n",
       "2      735318                   Ziaurehman Amini    Push Cart  30727000   \n",
       "\n",
       "                              LocationDescription            Address blocklot  \\\n",
       "0  GEARY ST: STOCKTON ST to POWELL ST (200 - 299)       281 GEARY ST  0314013   \n",
       "1     FOLSOM ST: 14TH ST to 15TH ST (1800 - 1899)     1800 FOLSOM ST  3549083   \n",
       "2                MARKET ST: DRUMM ST intersection  5 THE EMBARCADERO  0234017   \n",
       "\n",
       "  block  lot      permit     Status  \\\n",
       "0  0314  013  17MFF-0001   APPROVED   \n",
       "1  3549  083  16MFF-0010  REQUESTED   \n",
       "2  0234  017  15MFF-0159  REQUESTED   \n",
       "\n",
       "                                   FoodItems            X            Y  \\\n",
       "0                                  Ice cream  6010423.418  2114694.802   \n",
       "1  Tacos: Burritos: Hot Dogs: and Hamburgers  6007856.719  2107724.046   \n",
       "2                                        NaN  6013916.720  2117244.027   \n",
       "\n",
       "    Latitude   Longitude                                           Schedule  \\\n",
       "0  37.787136 -122.407719  http://bsm.sfdpw.org/PermitsTracker/reports/re...   \n",
       "1  37.767852 -122.416105  http://bsm.sfdpw.org/PermitsTracker/reports/re...   \n",
       "2  37.794331 -122.395811  http://bsm.sfdpw.org/PermitsTracker/reports/re...   \n",
       "\n",
       "                     dayshours NOISent                Approved    Received  \\\n",
       "0  Su:11AM-11PM;Fr/Sa:6PM-11PM     NaN  10/16/2018 12:00:00 AM  2017-01-09   \n",
       "1                          NaN     NaN                     NaN  2016-02-04   \n",
       "2                          NaN     NaN                     NaN  2015-12-31   \n",
       "\n",
       "   PriorPermit          ExpirationDate                               Location  \n",
       "0            0  07/15/2019 12:00:00 AM  (37.7871364910861, -122.407718509001)  \n",
       "1            0                     NaN  (37.7678524427181, -122.416104892532)  \n",
       "2            0  03/15/2016 12:00:00 AM  (37.7943310032468, -122.395811053023)  "
      ]
     },
     "execution_count": 5,
     "metadata": {},
     "output_type": "execute_result"
    }
   ],
   "source": [
    "sf.head(3)"
   ]
  },
  {
   "cell_type": "markdown",
   "metadata": {},
   "source": [
    "# Cleaning Data"
   ]
  },
  {
   "cell_type": "markdown",
   "metadata": {},
   "source": [
    "Dropping the unnecessary columns."
   ]
  },
  {
   "cell_type": "code",
   "execution_count": 6,
   "metadata": {},
   "outputs": [],
   "source": [
    "sf.drop(['cnn', 'LocationDescription', 'blocklot', 'lot', 'X', 'Y', 'Schedule', 'dayshours', 'NOISent', 'Approved'],\n",
    "                axis=1, inplace=True)"
   ]
  },
  {
   "cell_type": "markdown",
   "metadata": {},
   "source": [
    "Each row represents a single applicant. A applicant can appear multiple times, but I belive they are for seperate locations."
   ]
  },
  {
   "cell_type": "code",
   "execution_count": 7,
   "metadata": {},
   "outputs": [
    {
     "data": {
      "text/plain": [
       "113"
      ]
     },
     "execution_count": 7,
     "metadata": {},
     "output_type": "execute_result"
    }
   ],
   "source": [
    "sf['Applicant'].nunique()"
   ]
  },
  {
   "cell_type": "markdown",
   "metadata": {},
   "source": [
    "So I want to remove all the duplicate applicants, that apply for the same location. If a applicant has mutiple locations that's fine, I just don't want applicants that apply and then reapply for the same location.\n",
    "\n",
    "I'll solve this by removing observations with the same Applicant and Location. While there can be multiple locations per applicant and multiple applicants per location, it is unlikely that the same applicant is requesting multiple permits for the same location. In the real world, this means that a single applicant is setting up multiple food facilities on the same corner. This does not make business sense, so these instances will be excluded and assumed that it is instead applicants reapplying for the same location. "
   ]
  },
  {
   "cell_type": "markdown",
   "metadata": {},
   "source": [
    "Drops rows that have duplicate Applicant and Location columns."
   ]
  },
  {
   "cell_type": "code",
   "execution_count": 8,
   "metadata": {},
   "outputs": [],
   "source": [
    "sf.drop_duplicates(subset=['Applicant','Location'], inplace=True)"
   ]
  },
  {
   "cell_type": "markdown",
   "metadata": {},
   "source": [
    "Some of the Locations are (0,0). While they do have a Address attached to them finding the latitute and longitude of each address would be too time consuming. Instead, observations with Latitutde with value of 0 will simply be dropped."
   ]
  },
  {
   "cell_type": "code",
   "execution_count": 9,
   "metadata": {},
   "outputs": [],
   "source": [
    "sf = sf.loc[sf['Latitude'] != 0]"
   ]
  },
  {
   "cell_type": "markdown",
   "metadata": {},
   "source": [
    "# EDA"
   ]
  },
  {
   "cell_type": "markdown",
   "metadata": {},
   "source": [
    "The vast majority of the permits are for food trucks. Only 51 permits are for food push carts."
   ]
  },
  {
   "cell_type": "code",
   "execution_count": 10,
   "metadata": {},
   "outputs": [
    {
     "data": {
      "text/plain": [
       "Text(0.5, 1.0, 'Permitted facility counts')"
      ]
     },
     "execution_count": 10,
     "metadata": {},
     "output_type": "execute_result"
    },
    {
     "data": {
      "image/png": "[encoded data removed]",
      "text/plain": [
       "<Figure size 576x576 with 1 Axes>"
      ]
     },
     "metadata": {},
     "output_type": "display_data"
    }
   ],
   "source": [
    "sns.countplot('FacilityType', data=sf)\n",
    "plt.xlabel('Facility Type')\n",
    "plt.ylabel('Count')\n",
    "plt.title('Permitted facility counts')"
   ]
  },
  {
   "cell_type": "markdown",
   "metadata": {},
   "source": [
    "We want a further breakdown of the data to see who is apply for permits and how many are they applying for. We do this by aggregating the data, counting the number of occurrences a Applicant appears in the dataset."
   ]
  },
  {
   "cell_type": "code",
   "execution_count": 11,
   "metadata": {},
   "outputs": [],
   "source": [
    "sf_app = sf.groupby(['Applicant']).size().to_frame('Count')\n",
    "\n",
    "sf_app.index.name = 'Applicant'\n",
    "sf_app.reset_index(inplace=True)\n",
    "sf_app.sort_values(by=['Count'], inplace=True)"
   ]
  },
  {
   "cell_type": "markdown",
   "metadata": {},
   "source": [
    "sf_app_breakdown returns the frequency of a number of permits. This gives us an idea of how common it is to have a Applicant to have X number of locations."
   ]
  },
  {
   "cell_type": "code",
   "execution_count": 12,
   "metadata": {},
   "outputs": [],
   "source": [
    "sf_app_breakdown = sf_app.groupby('Count').count()\n",
    "\n",
    "sf_app_breakdown['Percentage'] = sf_app_breakdown['Applicant']/sf_app_breakdown['Applicant'].sum()"
   ]
  },
  {
   "cell_type": "markdown",
   "metadata": {},
   "source": [
    "A visualization of the sf_app_breakdown variable."
   ]
  },
  {
   "cell_type": "code",
   "execution_count": 13,
   "metadata": {},
   "outputs": [
    {
     "name": "stderr",
     "output_type": "stream",
     "text": [
      "c:\\users\\chris\\appdata\\local\\programs\\python\\python37\\lib\\site-packages\\scipy\\stats\\stats.py:1713: FutureWarning:\n",
      "\n",
      "Using a non-tuple sequence for multidimensional indexing is deprecated; use `arr[tuple(seq)]` instead of `arr[seq]`. In the future this will be interpreted as an array index, `arr[np.array(seq)]`, which will result either in an error or a different result.\n",
      "\n"
     ]
    },
    {
     "data": {
      "text/plain": [
       "<matplotlib.axes._subplots.AxesSubplot at 0x190f2823080>"
      ]
     },
     "execution_count": 13,
     "metadata": {},
     "output_type": "execute_result"
    },
    {
     "data": {
      "image/png": "[encoded data removed]",
      "text/plain": [
       "<Figure size 576x576 with 1 Axes>"
      ]
     },
     "metadata": {},
     "output_type": "display_data"
    }
   ],
   "source": [
    "sns.distplot(sf_app['Count'])"
   ]
  },
  {
   "cell_type": "markdown",
   "metadata": {},
   "source": [
    "A barplot of the number of permits per applicant is displayed below. Because we removed duplicates, this graph also shows the number of locations per applicant. 32% of applicants only have one location and 86% of applicants have less than 10 locations. The top 10 applicants hold 48% of the permits. The applicant with the most permits, May Catering, holds 9% of all permits with 52 total permits."
   ]
  },
  {
   "cell_type": "code",
   "execution_count": 14,
   "metadata": {},
   "outputs": [
    {
     "data": {
      "text/plain": [
       "Text(0.5, 1.0, 'Permits per applicant')"
      ]
     },
     "execution_count": 14,
     "metadata": {},
     "output_type": "execute_result"
    },
    {
     "data": {
      "image/png": "[encoded data removed]",
      "text/plain": [
       "<Figure size 864x720 with 1 Axes>"
      ]
     },
     "metadata": {},
     "output_type": "display_data"
    }
   ],
   "source": [
    "plt.figure(figsize=(12,10))\n",
    "\n",
    "sns.barplot('Applicant', 'Count', data=sf_app)\n",
    "\n",
    "plt.xticks([])\n",
    "plt.xlabel('Applicant')\n",
    "plt.ylabel('Count')\n",
    "\n",
    "plt.title('Permits per applicant')"
   ]
  },
  {
   "cell_type": "code",
   "execution_count": 16,
   "metadata": {},
   "outputs": [
    {
     "data": {
      "text/plain": [
       "<matplotlib.axes._subplots.AxesSubplot at 0x190f6a0b470>"
      ]
     },
     "execution_count": 16,
     "metadata": {},
     "output_type": "execute_result"
    },
    {
     "data": {
      "image/png": "[encoded data removed]",
      "text/plain": [
       "<Figure size 576x576 with 1 Axes>"
      ]
     },
     "metadata": {},
     "output_type": "display_data"
    }
   ],
   "source": [
    "plt.figure(figsize=(8,8))\n",
    "sns.countplot('Status', hue='FacilityType', data=sf)"
   ]
  },
  {
   "cell_type": "markdown",
   "metadata": {},
   "source": [
    "Preforming a binomial test to see if the proportions below reflect the sample proportions."
   ]
  },
  {
   "cell_type": "code",
   "execution_count": 65,
   "metadata": {},
   "outputs": [],
   "source": [
    "facility_counts = sf.groupby('FacilityType').size()\n",
    "push = facility_counts.iloc[0]/len(sf)\n",
    "truck = facility_counts.iloc[1]/len(sf)\n",
    "\n",
    "xtab = pd.crosstab(sf.FacilityType, sf.Status)\n",
    "approved = xtab.iloc[0][0] + xtab.iloc[1][0]"
   ]
  },
  {
   "cell_type": "markdown",
   "metadata": {},
   "source": [
    "We preformed a two-sided binomial test to test if the proportions of each status reflect the proportion in the dataset. We'll use the default $\\alpha$ value of 0.05 as the significance level. Because the our p-value is less than our significance level we'll reject our $H_{0}$. That is, the number of approved permits for food trucks differs significantly from the expected value. "
   ]
  },
  {
   "cell_type": "code",
   "execution_count": 94,
   "metadata": {},
   "outputs": [
    {
     "data": {
      "text/plain": [
       "0.011714288484693375"
      ]
     },
     "execution_count": 94,
     "metadata": {},
     "output_type": "execute_result"
    }
   ],
   "source": [
    "stats.binom_test(xtab.iloc[1][0], n=approved, p=truck)"
   ]
  },
  {
   "cell_type": "code",
   "execution_count": 129,
   "metadata": {},
   "outputs": [
    {
     "data": {
      "text/plain": [
       "1    425\n",
       "0    151\n",
       "Name: PriorPermit, dtype: int64"
      ]
     },
     "execution_count": 129,
     "metadata": {},
     "output_type": "execute_result"
    }
   ],
   "source": [
    "sf['PriorPermit'].value_counts()"
   ]
  },
  {
   "cell_type": "markdown",
   "metadata": {},
   "source": [
    "151 of the applications have not had a prior permit while the remaining 425 applications have had only 1 prior permit."
   ]
  },
  {
   "cell_type": "code",
   "execution_count": 132,
   "metadata": {},
   "outputs": [
    {
     "data": {
      "text/plain": [
       "Text(0.5, 1.0, 'Count of prior permits')"
      ]
     },
     "execution_count": 132,
     "metadata": {},
     "output_type": "execute_result"
    },
    {
     "data": {
      "image/png": "[encoded data removed]",
      "text/plain": [
       "<Figure size 576x576 with 1 Axes>"
      ]
     },
     "metadata": {},
     "output_type": "display_data"
    }
   ],
   "source": [
    "plt.figure(figsize=(8,8))\n",
    "sns.countplot('PriorPermit', data=sf)\n",
    "\n",
    "plt.xlabel('Number of Prior Permits')\n",
    "plt.ylabel('Count')\n",
    "plt.title('Count of prior permits')"
   ]
  },
  {
   "cell_type": "markdown",
   "metadata": {},
   "source": [
    "Get the food items, facilitytype of the 10 most numerous food places"
   ]
  },
  {
   "cell_type": "code",
   "execution_count": 100,
   "metadata": {},
   "outputs": [],
   "source": [
    "top_10 = sf_app.tail(10)\n",
    "\n",
    "top_10_crossed = pd.merge(top_10, sf, on='Applicant')"
   ]
  },
  {
   "cell_type": "code",
   "execution_count": 101,
   "metadata": {},
   "outputs": [
    {
     "data": {
      "text/plain": [
       "Text(0.5, 1.0, 'Facility types for the top 10 applicants')"
      ]
     },
     "execution_count": 101,
     "metadata": {},
     "output_type": "execute_result"
    },
    {
     "data": {
      "image/png": "[encoded data removed]",
      "text/plain": [
       "<Figure size 576x576 with 1 Axes>"
      ]
     },
     "metadata": {},
     "output_type": "display_data"
    }
   ],
   "source": [
    "sns.countplot('FacilityType', data=top_10_crossed)\n",
    "\n",
    "plt.xlabel('Facility Type')\n",
    "plt.ylabel('Count')\n",
    "plt.title('Facility types for the top 10 applicants')"
   ]
  },
  {
   "cell_type": "code",
   "execution_count": 114,
   "metadata": {},
   "outputs": [
    {
     "data": {
      "text/plain": [
       "array(['Cold Truck: Pre-packaged sandwiches: Chicken Bake: Canned Soup: Chili Dog: Corn Dog: Cup of Noodles: Egg Muffins: Hamburgers: Cheeseburgers: Hot Dog: Hot sandwiches: quesadillas: Beverages: Flan: Fruits: Yogurt: Candy: Cookies: Chips: Donuts: Snacks',\n",
       "       'COLD TRUCK. Deli: bbq chicken skewer: Chinese spring roll: Chinese fried rice/noodle: fried chicken leg/wing: bbq chicken sandwich: chicken cheese burger: burrito: lumpia. Snack: sunflower seeds: muffins: chips: snickers: kit-kat: 10 types of chocolate. Drinks: Coke: 7-Up: Dr. Pepper: Pepsi: Redbull: Vitamin Water: Rockstar: Coconut Juice: Water. Hot drinks: coffee: tea.',\n",
       "       'Cold Truck: Soda:Chips:Candy: Cold/Hot Sandwiches: Donuts.  (Pitco Wholesale)',\n",
       "       'Ice Cream: Pre-Packaged Chips: Candies: Bottled Water & Canned SODA',\n",
       "       'Cold Truck: Hamburger: cheeseburgers: hot dogs: hot sandwiches: cold sandwiches: egg muffins: cup of noodles: corn dogs: canned soup: coffee: hot cocoa: hot tea: gatorade: juice: milk: soda: water: fruits: fruit salad: rice pudding: yogurt: candy bars: chips: cookies: donuts: granola bars: muffins',\n",
       "       'Cold Truck: Sandwiches: snacks: prepackaged items: beverages:',\n",
       "       'Cold Truck: Pre-packaged sandwiches: snacks: fruit: various beverages',\n",
       "       'Burgers: melts: hot dogs: burritos:sandwiches: fries: onion rings: drinks',\n",
       "       'Cold Truck: Sandwiches: Noodles:  Pre-packaged Snacks: Candy: Desserts Various Beverages',\n",
       "       'Cold Truck: Sandwiches: fruit: snacks: candy: hot and cold drinks'],\n",
       "      dtype=object)"
      ]
     },
     "execution_count": 114,
     "metadata": {},
     "output_type": "execute_result"
    }
   ],
   "source": [
    "top_10_crossed['FoodItems'].unique()"
   ]
  },
  {
   "cell_type": "markdown",
   "metadata": {},
   "source": [
    "### Citations\n",
    "\n",
    "1. Butler, Stephanie. “From Chuck Wagons to Pushcarts: The History of the Food Truck.” History.com, A&E Television Networks, 8 Aug. 2014, www.history.com/news/from-chuck-wagons-to-pushcarts-the-history-of-the-food-truck.\n",
    "2. Mobile Cuisine, LLC. “The Complete History of American Food Trucks.” Mobile Cuisine | Food Truck, Pop Up & Street Food Coverage, 31 Mar. 2017, mobile-cuisine.com/business/history-of-american-food-trucks/.\n",
    "\n",
    "### Images\n",
    "1. https://www.visitmuskogee.com/calendar/food-truck-wars-2/"
   ]
  }
 ],
 "metadata": {
  "kernelspec": {
   "display_name": "Python 3",
   "language": "python",
   "name": "python3"
  },
  "language_info": {
   "codemirror_mode": {
    "name": "ipython",
    "version": 3
   },
   "file_extension": ".py",
   "mimetype": "text/x-python",
   "name": "python",
   "nbconvert_exporter": "python",
   "pygments_lexer": "ipython3",
   "version": "3.7.0"
  }
 },
 "nbformat": 4,
 "nbformat_minor": 2
}
