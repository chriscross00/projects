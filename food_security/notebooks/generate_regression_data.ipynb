{
 "cells": [
  {
   "cell_type": "code",
   "execution_count": 1,
   "metadata": {},
   "outputs": [],
   "source": [
    "import os\n",
    "import pandas as pd"
   ]
  },
  {
   "cell_type": "markdown",
   "metadata": {},
   "source": [
    "Place holder. Change to reading from SQL csv."
   ]
  },
  {
   "cell_type": "code",
   "execution_count": 2,
   "metadata": {},
   "outputs": [],
   "source": [
    "access = pd.read_csv('../data/interim/access.csv')\n",
    "insecurity = pd.read_csv('../data/interim/insecurity.csv')\n",
    "socioeco = pd.read_csv('../data/interim/socioeconomic.csv')\n",
    "stores = pd.read_csv('../data/interim/stores.csv')"
   ]
  },
  {
   "cell_type": "code",
   "execution_count": 3,
   "metadata": {},
   "outputs": [],
   "source": [
    "def normalize_state_data(df, col_name, new_col_name):\n",
    "    \"\"\"Gives the state mean of county data for a given feature.\n",
    "    \n",
    "    Args:\n",
    "        df(var): The name of the dataframe which you are pulling the col_name from.\n",
    "        col_name(str): A given column name.\n",
    "        new_col_name(str): A new name for the regression_short dataframe. Name must began with 'state_'.\n",
    "    \n",
    "    Returns:\n",
    "        regression_short(dataframe): With a new column appended.\n",
    "    \"\"\"\n",
    "    county_count_per_state = df.groupby(['State'])['FIPS'].count()\n",
    "    temp = pd.DataFrame(df.groupby(['State'])[col_name].sum()/county_count_per_state)\n",
    "    temp.reset_index(drop=True, inplace=True)\n",
    "    \n",
    "    if new_col_name not in list(regression_short.columns):\n",
    "        regression_short[new_col_name] = temp[0]"
   ]
  },
  {
   "cell_type": "markdown",
   "metadata": {},
   "source": [
    "Creating the dataframe for linear regression."
   ]
  },
  {
   "cell_type": "code",
   "execution_count": 4,
   "metadata": {},
   "outputs": [
    {
     "data": {
      "text/html": [
       "<div>\n",
       "<style scoped>\n",
       "    .dataframe tbody tr th:only-of-type {\n",
       "        vertical-align: middle;\n",
       "    }\n",
       "\n",
       "    .dataframe tbody tr th {\n",
       "        vertical-align: top;\n",
       "    }\n",
       "\n",
       "    .dataframe thead th {\n",
       "        text-align: right;\n",
       "    }\n",
       "</style>\n",
       "<table border=\"1\" class=\"dataframe\">\n",
       "  <thead>\n",
       "    <tr style=\"text-align: right;\">\n",
       "      <th></th>\n",
       "      <th>state</th>\n",
       "      <th>state_FOODINSEC_10_12</th>\n",
       "      <th>state_FOODINSEC_13_15</th>\n",
       "      <th>state_LACCESS_POP15</th>\n",
       "      <th>state_LACCESS_LOWI15</th>\n",
       "      <th>state_MEDHHINC15</th>\n",
       "      <th>state_GROCPTH14</th>\n",
       "    </tr>\n",
       "  </thead>\n",
       "  <tbody>\n",
       "    <tr>\n",
       "      <th>0</th>\n",
       "      <td>AL</td>\n",
       "      <td>17.9</td>\n",
       "      <td>17.6</td>\n",
       "      <td>7708.624532</td>\n",
       "      <td>2241.191144</td>\n",
       "      <td>59520.448276</td>\n",
       "      <td>0.729979</td>\n",
       "    </tr>\n",
       "    <tr>\n",
       "      <th>1</th>\n",
       "      <td>AK</td>\n",
       "      <td>12.1</td>\n",
       "      <td>13.3</td>\n",
       "      <td>14371.804328</td>\n",
       "      <td>5651.092540</td>\n",
       "      <td>39830.104478</td>\n",
       "      <td>0.185682</td>\n",
       "    </tr>\n",
       "    <tr>\n",
       "      <th>2</th>\n",
       "      <td>AZ</td>\n",
       "      <td>19.7</td>\n",
       "      <td>19.2</td>\n",
       "      <td>7838.947589</td>\n",
       "      <td>3399.598632</td>\n",
       "      <td>38592.680000</td>\n",
       "      <td>0.185442</td>\n",
       "    </tr>\n",
       "    <tr>\n",
       "      <th>3</th>\n",
       "      <td>AR</td>\n",
       "      <td>14.9</td>\n",
       "      <td>14.9</td>\n",
       "      <td>83623.853433</td>\n",
       "      <td>32146.580382</td>\n",
       "      <td>44016.733333</td>\n",
       "      <td>0.152614</td>\n",
       "    </tr>\n",
       "    <tr>\n",
       "      <th>4</th>\n",
       "      <td>CA</td>\n",
       "      <td>15.6</td>\n",
       "      <td>12.6</td>\n",
       "      <td>74540.508724</td>\n",
       "      <td>21137.059263</td>\n",
       "      <td>57650.931034</td>\n",
       "      <td>0.270533</td>\n",
       "    </tr>\n",
       "  </tbody>\n",
       "</table>\n",
       "</div>"
      ],
      "text/plain": [
       "  state  state_FOODINSEC_10_12  state_FOODINSEC_13_15  state_LACCESS_POP15  \\\n",
       "0    AL                   17.9                   17.6          7708.624532   \n",
       "1    AK                   12.1                   13.3         14371.804328   \n",
       "2    AZ                   19.7                   19.2          7838.947589   \n",
       "3    AR                   14.9                   14.9         83623.853433   \n",
       "4    CA                   15.6                   12.6         74540.508724   \n",
       "\n",
       "   state_LACCESS_LOWI15  state_MEDHHINC15  state_GROCPTH14  \n",
       "0           2241.191144      59520.448276         0.729979  \n",
       "1           5651.092540      39830.104478         0.185682  \n",
       "2           3399.598632      38592.680000         0.185442  \n",
       "3          32146.580382      44016.733333         0.152614  \n",
       "4          21137.059263      57650.931034         0.270533  "
      ]
     },
     "execution_count": 4,
     "metadata": {},
     "output_type": "execute_result"
    }
   ],
   "source": [
    "regression_short = pd.DataFrame()\n",
    "\n",
    "regression_short['state'] = insecurity.groupby(['State'])['State'].head(1)\n",
    "regression_short['state_FOODINSEC_10_12'] = insecurity.groupby(['State'])['FOODINSEC_10_12'].head(1)\n",
    "regression_short['state_FOODINSEC_13_15'] = insecurity.groupby(['State'])['FOODINSEC_13_15'].head(1)\n",
    "regression_short.reset_index(drop=True, inplace=True)\n",
    "\n",
    "normalize_state_data(access, 'LACCESS_POP15', 'state_LACCESS_POP15')\n",
    "normalize_state_data(access, 'LACCESS_LOWI15', 'state_LACCESS_LOWI15')\n",
    "normalize_state_data(socioeco, 'MEDHHINC15', 'state_MEDHHINC15')\n",
    "normalize_state_data(stores, 'GROCPTH14', 'state_GROCPTH14')"
   ]
  },
  {
   "cell_type": "code",
   "execution_count": 5,
   "metadata": {},
   "outputs": [],
   "source": [
    "if 'regression_short.csv' not in os.listdir('../data/processed'):\n",
    "    regression_short.to_csv('../data/processed/regression_short.csv', index=False)"
   ]
  }
 ],
 "metadata": {
  "kernelspec": {
   "display_name": "Python 3",
   "language": "python",
   "name": "python3"
  },
  "language_info": {
   "codemirror_mode": {
    "name": "ipython",
    "version": 3
   },
   "file_extension": ".py",
   "mimetype": "text/x-python",
   "name": "python",
   "nbconvert_exporter": "python",
   "pygments_lexer": "ipython3",
   "version": "3.6.7"
  }
 },
 "nbformat": 4,
 "nbformat_minor": 2
}
