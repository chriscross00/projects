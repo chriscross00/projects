{
 "cells": [
  {
   "cell_type": "code",
   "execution_count": 22,
   "metadata": {},
   "outputs": [],
   "source": [
    "import os\n",
    "import pandas as pd"
   ]
  },
  {
   "cell_type": "markdown",
   "metadata": {},
   "source": [
    "Place holder. Change to reading from SQL csv."
   ]
  },
  {
   "cell_type": "code",
   "execution_count": 23,
   "metadata": {},
   "outputs": [],
   "source": [
    "access = pd.read_csv('../data/interim/access.csv')\n",
    "assistance = pd.read_csv('../data/interim/assistance.csv')\n",
    "health = pd.read_csv('../data/interim/health.csv')\n",
    "insecurity = pd.read_csv('../data/interim/insecurity.csv')\n",
    "resturants = pd.read_csv('../data/interim/resturants.csv')\n",
    "socioeco = pd.read_csv('../data/interim/socioeconomic.csv')\n",
    "stores = pd.read_csv('../data/interim/stores.csv')"
   ]
  },
  {
   "cell_type": "code",
   "execution_count": 24,
   "metadata": {},
   "outputs": [],
   "source": [
    "def normalize_state_data(old_df, new_df, col_name, new_col_name):\n",
    "    \"\"\"Gives the state mean of county data for a given feature.\n",
    "    \n",
    "    Args:\n",
    "        df(var): The name of the dataframe which you are pulling the col_name from.\n",
    "        col_name(str): A given column name.\n",
    "        new_col_name(str): A new name for the regression_short dataframe. Name must began with 'state_'.\n",
    "    \n",
    "    Returns:\n",
    "        regression_short(dataframe): With a new column appended.\n",
    "    \"\"\"\n",
    "    county_count_per_state = old_df.groupby(['State'])['FIPS'].count()\n",
    "    temp = pd.DataFrame(old_df.groupby(['State'])[col_name].sum()/county_count_per_state)\n",
    "    temp.reset_index(drop=True, inplace=True)\n",
    "    \n",
    "    if new_col_name not in list(new_df.columns):\n",
    "        new_df[new_col_name] = temp[0]"
   ]
  },
  {
   "cell_type": "markdown",
   "metadata": {},
   "source": [
    "Creating the dataframe for linear regression."
   ]
  },
  {
   "cell_type": "code",
   "execution_count": 1,
   "metadata": {},
   "outputs": [
    {
     "ename": "NameError",
     "evalue": "name 'pd' is not defined",
     "output_type": "error",
     "traceback": [
      "\u001b[1;31m---------------------------------------------------------------------------\u001b[0m",
      "\u001b[1;31mNameError\u001b[0m                                 Traceback (most recent call last)",
      "\u001b[1;32m<ipython-input-1-feed9c659e4d>\u001b[0m in \u001b[0;36m<module>\u001b[1;34m\u001b[0m\n\u001b[1;32m----> 1\u001b[1;33m \u001b[0mregression_short\u001b[0m \u001b[1;33m=\u001b[0m \u001b[0mpd\u001b[0m\u001b[1;33m.\u001b[0m\u001b[0mDataFrame\u001b[0m\u001b[1;33m(\u001b[0m\u001b[1;33m)\u001b[0m\u001b[1;33m\u001b[0m\u001b[0m\n\u001b[0m\u001b[0;32m      2\u001b[0m \u001b[1;33m\u001b[0m\u001b[0m\n\u001b[0;32m      3\u001b[0m \u001b[0mregression_short\u001b[0m\u001b[1;33m[\u001b[0m\u001b[1;34m'state'\u001b[0m\u001b[1;33m]\u001b[0m \u001b[1;33m=\u001b[0m \u001b[0minsecurity\u001b[0m\u001b[1;33m.\u001b[0m\u001b[0mgroupby\u001b[0m\u001b[1;33m(\u001b[0m\u001b[1;33m[\u001b[0m\u001b[1;34m'State'\u001b[0m\u001b[1;33m]\u001b[0m\u001b[1;33m)\u001b[0m\u001b[1;33m[\u001b[0m\u001b[1;34m'State'\u001b[0m\u001b[1;33m]\u001b[0m\u001b[1;33m.\u001b[0m\u001b[0mhead\u001b[0m\u001b[1;33m(\u001b[0m\u001b[1;36m1\u001b[0m\u001b[1;33m)\u001b[0m\u001b[1;33m\u001b[0m\u001b[0m\n\u001b[0;32m      4\u001b[0m \u001b[0mregression_short\u001b[0m\u001b[1;33m[\u001b[0m\u001b[1;34m'state_FOODINSEC_13_15'\u001b[0m\u001b[1;33m]\u001b[0m \u001b[1;33m=\u001b[0m \u001b[0minsecurity\u001b[0m\u001b[1;33m.\u001b[0m\u001b[0mgroupby\u001b[0m\u001b[1;33m(\u001b[0m\u001b[1;33m[\u001b[0m\u001b[1;34m'State'\u001b[0m\u001b[1;33m]\u001b[0m\u001b[1;33m)\u001b[0m\u001b[1;33m[\u001b[0m\u001b[1;34m'FOODINSEC_13_15'\u001b[0m\u001b[1;33m]\u001b[0m\u001b[1;33m.\u001b[0m\u001b[0mhead\u001b[0m\u001b[1;33m(\u001b[0m\u001b[1;36m1\u001b[0m\u001b[1;33m)\u001b[0m\u001b[1;33m\u001b[0m\u001b[0m\n\u001b[0;32m      5\u001b[0m \u001b[0mregression_short\u001b[0m\u001b[1;33m[\u001b[0m\u001b[1;34m'state_FOODINSEC_10_12'\u001b[0m\u001b[1;33m]\u001b[0m \u001b[1;33m=\u001b[0m \u001b[0minsecurity\u001b[0m\u001b[1;33m.\u001b[0m\u001b[0mgroupby\u001b[0m\u001b[1;33m(\u001b[0m\u001b[1;33m[\u001b[0m\u001b[1;34m'State'\u001b[0m\u001b[1;33m]\u001b[0m\u001b[1;33m)\u001b[0m\u001b[1;33m[\u001b[0m\u001b[1;34m'FOODINSEC_10_12'\u001b[0m\u001b[1;33m]\u001b[0m\u001b[1;33m.\u001b[0m\u001b[0mhead\u001b[0m\u001b[1;33m(\u001b[0m\u001b[1;36m1\u001b[0m\u001b[1;33m)\u001b[0m\u001b[1;33m\u001b[0m\u001b[0m\n",
      "\u001b[1;31mNameError\u001b[0m: name 'pd' is not defined"
     ]
    }
   ],
   "source": [
    "regression_short = pd.DataFrame()\n",
    "\n",
    "regression_short['state'] = insecurity.groupby(['State'])['State'].head(1)\n",
    "regression_short['state_FOODINSEC_13_15'] = insecurity.groupby(['State'])['FOODINSEC_13_15'].head(1)\n",
    "regression_short['state_FOODINSEC_10_12'] = insecurity.groupby(['State'])['FOODINSEC_10_12'].head(1)\n",
    "\n",
    "regression_short.reset_index(drop=True, inplace=True)\n",
    "\n",
    "normalize_state_data(access, regression_short, 'LACCESS_POP15', 'state_LACCESS_POP15')\n",
    "normalize_state_data(access, regression_short, 'PCT_OBESE_ADULTS13', 'state_PCT_OBESE_ADULTS13')\n",
    "normalize_state_data(socioeco, regression_short, 'MEDHHINC15', 'state_MEDHHINC15')\n",
    "normalize_state_data(stores, regression_short, 'GROCPTH14', 'state_GROCPTH14')"
   ]
  },
  {
   "cell_type": "code",
   "execution_count": 28,
   "metadata": {},
   "outputs": [],
   "source": [
    "regression_long = pd.DataFrame()\n",
    "\n",
    "regression_long['state'] = insecurity.groupby(['State'])['State'].head(1)\n",
    "regression_long['state_FOODINSEC_13_15'] = insecurity.groupby(['State'])['FOODINSEC_13_15'].head(1)\n",
    "regression_long['state_FOODINSEC_10_12'] = insecurity.groupby(['State'])['FOODINSEC_10_12'].head(1)\n",
    "regression_long.reset_index(drop=True, inplace=True)\n",
    "\n",
    "\n",
    "normalize_state_data(access, regression_long, 'LACCESS_POP15', 'state_LACCESS_POP15')\n",
    "normalize_state_data(access, regression_long, 'LACCESS_LOWI15', 'state_LACCESS_LOWI15')\n",
    "normalize_state_data(assistance, regression_long, 'PCT_FREE_LUNCH14', 'state_PCT_FREE_LUNCH14')\n",
    "\n",
    "normalize_state_data(health, regression_long, 'PCT_OBESE_ADULTS13', 'state_PCT_OBESE_ADULTS13')\n",
    "normalize_state_data(health, regression_long, 'RECFACPTH14', 'state_RECFACPTH14')\n",
    "\n",
    "normalize_state_data(resturants, regression_long, 'FFRPTH14', 'state_FFRPTH14')\n",
    "normalize_state_data(resturants, regression_long, 'FSRPTH14', 'state_FSRPTH14')\n",
    "\n",
    "normalize_state_data(socioeco, regression_long, 'PCT_NHWHITE10', 'state_PCT_NHWHITE10')\n",
    "normalize_state_data(socioeco, regression_long, 'PCT_NHBLACK10', 'state_PCT_NHBLACK10')\n",
    "normalize_state_data(socioeco, regression_long, 'PCT_HISP10', 'state_PCT_HISP10')\n",
    "normalize_state_data(socioeco, regression_long, 'PCT_NHBLACK10', 'state_PCT_NHBLACK10')\n",
    "normalize_state_data(socioeco, regression_long, 'PCT_NHASIAN10', 'state_PCT_NHASIAN10')\n",
    "normalize_state_data(socioeco, regression_long, 'PCT_NHNA10', 'state_PCT_NHNA10')\n",
    "normalize_state_data(socioeco, regression_long, 'PCT_NHPI10', 'state_PCT_NHPI10')\n",
    "normalize_state_data(socioeco, regression_long, 'POVRATE15', 'state_POVRATE15')\n",
    "\n",
    "normalize_state_data(stores, regression_long, 'GROCPTH14', 'state_GROCPTH14')\n",
    "normalize_state_data(stores, regression_long, 'CONVSPTH14', 'state_CONVSPTH14')\n",
    "normalize_state_data(stores, regression_long, 'SNAPSPTH16', 'state_SNAPSPTH16')"
   ]
  },
  {
   "cell_type": "code",
   "execution_count": 29,
   "metadata": {},
   "outputs": [],
   "source": [
    "if 'regression_short.csv' not in os.listdir('../data/processed'):\n",
    "    regression_short.to_csv('../data/processed/regression_short.csv', index=False)\n",
    "    \n",
    "if 'regression_long.csv' not in os.listdir('../data/processed'):\n",
    "    regression_long.to_csv('../data/processed/regression_long.csv', index=False)"
   ]
  }
 ],
 "metadata": {
  "kernelspec": {
   "display_name": "Python 3",
   "language": "python",
   "name": "python3"
  },
  "language_info": {
   "codemirror_mode": {
    "name": "ipython",
    "version": 3
   },
   "file_extension": ".py",
   "mimetype": "text/x-python",
   "name": "python",
   "nbconvert_exporter": "python",
   "pygments_lexer": "ipython3",
   "version": "3.7.0"
  }
 },
 "nbformat": 4,
 "nbformat_minor": 2
}
