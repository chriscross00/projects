{
 "cells": [
  {
   "cell_type": "code",
   "execution_count": 21,
   "metadata": {},
   "outputs": [],
   "source": [
    "import sys\n",
    "import os\n",
    "\n",
    "import pandas as pd\n",
    "import numpy as np\n",
    "import seaborn as sns\n",
    "import matplotlib.pyplot as plt"
   ]
  },
  {
   "cell_type": "markdown",
   "metadata": {},
   "source": [
    "Setting library defaults"
   ]
  },
  {
   "cell_type": "code",
   "execution_count": 13,
   "metadata": {},
   "outputs": [],
   "source": [
    "# code settings\n",
    "pd.set_option('display.max_columns', None)\n",
    "\n",
    "# visualization settings\n",
    "plt.rc('figure', figsize=(9,9))\n",
    "sns.set_style('darkgrid')"
   ]
  },
  {
   "cell_type": "markdown",
   "metadata": {},
   "source": [
    "## Importing the Data"
   ]
  },
  {
   "cell_type": "code",
   "execution_count": 16,
   "metadata": {},
   "outputs": [
    {
     "data": {
      "text/html": [
       "<div>\n",
       "<style scoped>\n",
       "    .dataframe tbody tr th:only-of-type {\n",
       "        vertical-align: middle;\n",
       "    }\n",
       "\n",
       "    .dataframe tbody tr th {\n",
       "        vertical-align: top;\n",
       "    }\n",
       "\n",
       "    .dataframe thead th {\n",
       "        text-align: right;\n",
       "    }\n",
       "</style>\n",
       "<table border=\"1\" class=\"dataframe\">\n",
       "  <thead>\n",
       "    <tr style=\"text-align: right;\">\n",
       "      <th></th>\n",
       "      <th>FIPS</th>\n",
       "      <th>State</th>\n",
       "      <th>County</th>\n",
       "      <th>2010 Census Population</th>\n",
       "      <th>Population Estimate, 2011</th>\n",
       "      <th>Population Estimate, 2012</th>\n",
       "      <th>Population Estimate, 2013</th>\n",
       "      <th>Population Estimate, 2014</th>\n",
       "      <th>Population Estimate, 2015</th>\n",
       "      <th>Population Estimate, 2016</th>\n",
       "    </tr>\n",
       "  </thead>\n",
       "  <tbody>\n",
       "    <tr>\n",
       "      <th>0</th>\n",
       "      <td>1001.0</td>\n",
       "      <td>Alabama</td>\n",
       "      <td>Autauga</td>\n",
       "      <td>54,571</td>\n",
       "      <td>55,255</td>\n",
       "      <td>55,027</td>\n",
       "      <td>54,792</td>\n",
       "      <td>54,977</td>\n",
       "      <td>55,035</td>\n",
       "      <td>55,416</td>\n",
       "    </tr>\n",
       "    <tr>\n",
       "      <th>1</th>\n",
       "      <td>1003.0</td>\n",
       "      <td>Alabama</td>\n",
       "      <td>Baldwin</td>\n",
       "      <td>182,265</td>\n",
       "      <td>186,653</td>\n",
       "      <td>190,403</td>\n",
       "      <td>195,147</td>\n",
       "      <td>199,745</td>\n",
       "      <td>203,690</td>\n",
       "      <td>208,563</td>\n",
       "    </tr>\n",
       "    <tr>\n",
       "      <th>2</th>\n",
       "      <td>1005.0</td>\n",
       "      <td>Alabama</td>\n",
       "      <td>Barbour</td>\n",
       "      <td>27,457</td>\n",
       "      <td>27,326</td>\n",
       "      <td>27,132</td>\n",
       "      <td>26,938</td>\n",
       "      <td>26,763</td>\n",
       "      <td>26,270</td>\n",
       "      <td>25,965</td>\n",
       "    </tr>\n",
       "    <tr>\n",
       "      <th>3</th>\n",
       "      <td>1007.0</td>\n",
       "      <td>Alabama</td>\n",
       "      <td>Bibb</td>\n",
       "      <td>22,915</td>\n",
       "      <td>22,736</td>\n",
       "      <td>22,645</td>\n",
       "      <td>22,501</td>\n",
       "      <td>22,511</td>\n",
       "      <td>22,561</td>\n",
       "      <td>22,643</td>\n",
       "    </tr>\n",
       "    <tr>\n",
       "      <th>4</th>\n",
       "      <td>1009.0</td>\n",
       "      <td>Alabama</td>\n",
       "      <td>Blount</td>\n",
       "      <td>57,322</td>\n",
       "      <td>57,707</td>\n",
       "      <td>57,772</td>\n",
       "      <td>57,746</td>\n",
       "      <td>57,621</td>\n",
       "      <td>57,676</td>\n",
       "      <td>57,704</td>\n",
       "    </tr>\n",
       "  </tbody>\n",
       "</table>\n",
       "</div>"
      ],
      "text/plain": [
       "    FIPS      State    County 2010 Census Population  \\\n",
       "0  1001.0   Alabama  Autauga                  54,571   \n",
       "1  1003.0   Alabama  Baldwin                 182,265   \n",
       "2  1005.0   Alabama  Barbour                  27,457   \n",
       "3  1007.0   Alabama     Bibb                  22,915   \n",
       "4  1009.0   Alabama   Blount                  57,322   \n",
       "\n",
       "  Population Estimate, 2011 Population Estimate, 2012  \\\n",
       "0                    55,255                    55,027   \n",
       "1                   186,653                   190,403   \n",
       "2                    27,326                    27,132   \n",
       "3                    22,736                    22,645   \n",
       "4                    57,707                    57,772   \n",
       "\n",
       "  Population Estimate, 2013 Population Estimate, 2014  \\\n",
       "0                    54,792                    54,977   \n",
       "1                   195,147                   199,745   \n",
       "2                    26,938                    26,763   \n",
       "3                    22,501                    22,511   \n",
       "4                    57,746                    57,621   \n",
       "\n",
       "  Population Estimate, 2015 Population Estimate, 2016  \n",
       "0                    55,035                    55,416  \n",
       "1                   203,690                   208,563  \n",
       "2                    26,270                    25,965  \n",
       "3                    22,561                    22,643  \n",
       "4                    57,676                    57,704  "
      ]
     },
     "execution_count": 16,
     "metadata": {},
     "output_type": "execute_result"
    }
   ],
   "source": [
    "supp_county = pd.read_csv('../data/processed/supp_county.csv')\n",
    "\n",
    "supp_county.head(5)"
   ]
  },
  {
   "cell_type": "markdown",
   "metadata": {},
   "source": [
    "A closer look at the most recent (2016) estimated population data for each county plotted against the 2010 census data. Most of the counties have fall along a line, which looks approximately like a slope of 1, meaning that the population change was minimal. Points outside of this pseudo-regression are counties whose population changed over the 6 year span. Points above the line are counties where population increased and points below the line are a decrease in population.   "
   ]
  },
  {
   "cell_type": "code",
   "execution_count": 23,
   "metadata": {},
   "outputs": [
    {
     "data": {
      "text/plain": [
       "([], <a list of 0 Text yticklabel objects>)"
      ]
     },
     "execution_count": 23,
     "metadata": {},
     "output_type": "execute_result"
    },
    {
     "data": {
      "image/png": "[encoded data removed]",
      "text/plain": [
       "<Figure size 648x648 with 1 Axes>"
      ]
     },
     "metadata": {},
     "output_type": "display_data"
    }
   ],
   "source": [
    "sns.scatterplot(x = '2010 Census Population', \n",
    "                y = 'Population Estimate, 2016',\n",
    "                data = supp_county)\n",
    "\n",
    "plt.xticks([])\n",
    "plt.yticks([])"
   ]
  },
  {
   "cell_type": "markdown",
   "metadata": {},
   "source": [
    "Types of plots\n",
    "\n",
    "correlation plots for all datasets\n"
   ]
  }
 ],
 "metadata": {
  "kernelspec": {
   "display_name": "Python 3",
   "language": "python",
   "name": "python3"
  },
  "language_info": {
   "codemirror_mode": {
    "name": "ipython",
    "version": 3
   },
   "file_extension": ".py",
   "mimetype": "text/x-python",
   "name": "python",
   "nbconvert_exporter": "python",
   "pygments_lexer": "ipython3",
   "version": "3.6.7"
  }
 },
 "nbformat": 4,
 "nbformat_minor": 2
}
