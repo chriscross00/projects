{
 "cells": [
  {
   "cell_type": "markdown",
   "metadata": {},
   "source": [
    "To do:\n",
    "- Convert reg_y into a (51,1) matrix\n",
    "- Run a linear regression\n",
    "    * Find important features"
   ]
  },
  {
   "cell_type": "code",
   "execution_count": 21,
   "metadata": {},
   "outputs": [],
   "source": [
    "import numpy as np\n",
    "import pandas as pd\n",
    "\n",
    "from sklearn.preprocessing import MinMaxScaler"
   ]
  },
  {
   "cell_type": "code",
   "execution_count": 22,
   "metadata": {},
   "outputs": [
    {
     "data": {
      "text/html": [
       "<div>\n",
       "<style scoped>\n",
       "    .dataframe tbody tr th:only-of-type {\n",
       "        vertical-align: middle;\n",
       "    }\n",
       "\n",
       "    .dataframe tbody tr th {\n",
       "        vertical-align: top;\n",
       "    }\n",
       "\n",
       "    .dataframe thead th {\n",
       "        text-align: right;\n",
       "    }\n",
       "</style>\n",
       "<table border=\"1\" class=\"dataframe\">\n",
       "  <thead>\n",
       "    <tr style=\"text-align: right;\">\n",
       "      <th></th>\n",
       "      <th>state</th>\n",
       "      <th>state_FOODINSEC_10_12</th>\n",
       "      <th>state_FOODINSEC_13_15</th>\n",
       "      <th>state_LACCESS_POP15</th>\n",
       "      <th>state_LACCESS_LOWI15</th>\n",
       "      <th>state_MEDHHINC15</th>\n",
       "      <th>state_GROCPTH14</th>\n",
       "    </tr>\n",
       "  </thead>\n",
       "  <tbody>\n",
       "    <tr>\n",
       "      <th>0</th>\n",
       "      <td>AL</td>\n",
       "      <td>17.9</td>\n",
       "      <td>17.6</td>\n",
       "      <td>7708.624532</td>\n",
       "      <td>2241.191144</td>\n",
       "      <td>59520.448276</td>\n",
       "      <td>0.729979</td>\n",
       "    </tr>\n",
       "    <tr>\n",
       "      <th>1</th>\n",
       "      <td>AK</td>\n",
       "      <td>12.1</td>\n",
       "      <td>13.3</td>\n",
       "      <td>14371.804328</td>\n",
       "      <td>5651.092540</td>\n",
       "      <td>39830.104478</td>\n",
       "      <td>0.185682</td>\n",
       "    </tr>\n",
       "  </tbody>\n",
       "</table>\n",
       "</div>"
      ],
      "text/plain": [
       "  state  state_FOODINSEC_10_12  state_FOODINSEC_13_15  state_LACCESS_POP15  \\\n",
       "0    AL                   17.9                   17.6          7708.624532   \n",
       "1    AK                   12.1                   13.3         14371.804328   \n",
       "\n",
       "   state_LACCESS_LOWI15  state_MEDHHINC15  state_GROCPTH14  \n",
       "0           2241.191144      59520.448276         0.729979  \n",
       "1           5651.092540      39830.104478         0.185682  "
      ]
     },
     "execution_count": 22,
     "metadata": {},
     "output_type": "execute_result"
    }
   ],
   "source": [
    "regression_short = pd.read_csv('../data/processed/regression_short.csv')\n",
    "\n",
    "regression_short.head(2)"
   ]
  },
  {
   "cell_type": "code",
   "execution_count": 31,
   "metadata": {},
   "outputs": [],
   "source": [
    "reg_X = regression_short.loc[:, ('state_FOODINSEC_10_12',\n",
    "                                 'state_LACCESS_POP15',\n",
    "                                 'state_LACCESS_LOWI15',\n",
    "                                 'state_MEDHHINC15', \n",
    "                                 'state_GROCPTH14')]\n",
    "\n",
    "reg_y = regression_short.loc[:, 'state_FOODINSEC_13_15']"
   ]
  },
  {
   "cell_type": "code",
   "execution_count": 36,
   "metadata": {},
   "outputs": [],
   "source": [
    "scaler = MinMaxScaler()\n",
    "\n",
    "scaler.fit(reg_X)\n",
    "#scaler.fit(reg_y)\n",
    "\n",
    "reg_X = scaler.transform(reg_X)\n",
    "#reg_y = scaler.transform(reg_y)"
   ]
  }
 ],
 "metadata": {
  "kernelspec": {
   "display_name": "Python 3",
   "language": "python",
   "name": "python3"
  },
  "language_info": {
   "codemirror_mode": {
    "name": "ipython",
    "version": 3
   },
   "file_extension": ".py",
   "mimetype": "text/x-python",
   "name": "python",
   "nbconvert_exporter": "python",
   "pygments_lexer": "ipython3",
   "version": "3.6.7"
  }
 },
 "nbformat": 4,
 "nbformat_minor": 2
}
