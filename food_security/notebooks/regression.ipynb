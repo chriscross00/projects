{
 "cells": [
  {
   "cell_type": "code",
   "execution_count": 2,
   "metadata": {},
   "outputs": [],
   "source": [
    "import matplotlib.pyplot as plt\n",
    "import numpy as np\n",
    "import pandas as pd\n",
    "import seaborn as sns\n",
    "import statsmodels.api as sm\n",
    "\n",
    "from sklearn.linear_model import LinearRegression\n",
    "from sklearn.linear_model import Ridge\n",
    "from sklearn.metrics import mean_squared_error\n",
    "from sklearn.model_selection import train_test_split\n",
    "from sklearn.preprocessing import MinMaxScaler\n",
    "from statsmodels.stats.outliers_influence import variance_inflation_factor"
   ]
  },
  {
   "cell_type": "code",
   "execution_count": 3,
   "metadata": {},
   "outputs": [],
   "source": [
    "# code settings\n",
    "pd.set_option('display.max_columns', None)\n",
    "\n",
    "# visualization settings\n",
    "plt.rc('figure', figsize=(8,8))\n",
    "sns.set_style('darkgrid')"
   ]
  },
  {
   "cell_type": "code",
   "execution_count": 4,
   "metadata": {},
   "outputs": [],
   "source": [
    "def scale_feat(X, y):\n",
    "    \"\"\"Performs min-max feature scaling on features and response\n",
    "    \n",
    "    Args:\n",
    "        X(df/arr): A dataframe or array of features\n",
    "        y(arr): A array of response values \n",
    "    Returns:\n",
    "        X(arr): A transformed array whose values are (0,1)\n",
    "        y(arr): A transformed array whose values are (0,1)\n",
    "    \"\"\"\n",
    "    scaler = MinMaxScaler()\n",
    "\n",
    "    scaler.fit(X)\n",
    "    scaler.fit(y)\n",
    "\n",
    "    X = scaler.transform(X)\n",
    "    y = scaler.transform(y)\n",
    "    \n",
    "    return X, y"
   ]
  },
  {
   "cell_type": "code",
   "execution_count": 5,
   "metadata": {},
   "outputs": [],
   "source": [
    "def feature_processing(df, feat_col, target):\n",
    "    \"\"\"Seperates dataframe into features and target as well as training and testing data\n",
    "    \n",
    "    Args:\n",
    "        df(df): Contains both features and target\n",
    "        feat_col(list): A list of feature names\n",
    "        target(str): The name of the target column\n",
    "    \n",
    "    Returns:\n",
    "        X_train(arr): A Numpy array of training features\n",
    "        X_test(arr): A Numpy array of testing features\n",
    "        y_train(arr): A Numpy array of training the target\n",
    "        y_test(arr): A Numpy array of testing the target\n",
    "    \"\"\"\n",
    "    # Separating features and target\n",
    "    reg_feat = df.loc[:, feat_col]\n",
    "    reg_target = df[target].values.reshape(-1, 1)\n",
    "    \n",
    "    # Feature scaling\n",
    "    reg_feat, reg_target = scale_feat(reg_feat, reg_target)\n",
    "    \n",
    "    # lm data preprocessing\n",
    "    X_train, X_test, y_train, y_test = train_test_split(reg_feat, reg_target, test_size=0.2, random_state=50)\n",
    "    \n",
    "    return X_train, X_test, y_train, y_test"
   ]
  },
  {
   "cell_type": "code",
   "execution_count": 6,
   "metadata": {},
   "outputs": [],
   "source": [
    "def create_lm(df, feat_col, target):\n",
    "    \"\"\"Creates a linear model from a dataframe and performs model validation. \n",
    "    Steps:\n",
    "        1. Seperate features and target\n",
    "        2. Performs min-max scaler on features and target\n",
    "        3. Creates a linear model\n",
    "        4. Validates linear model\n",
    "        \n",
    "    Args:\n",
    "        df(df): Contains both features and target\n",
    "        feat_col(list): A list of feature names\n",
    "        target(str): The name of the target column\n",
    "    \n",
    "    Returns:\n",
    "        lm: A instance of a LinearRegression()\n",
    "        r_sqr(float): A goodness of fit for the model\n",
    "        mse(float): The MSE of predicted and actual target values\n",
    "    \"\"\"\n",
    "    # lm data preprocessing\n",
    "    X_train, X_test, y_train, y_test = feature_processing(df, feat_col, target)\n",
    "    \n",
    "    \n",
    "    lm = LinearRegression().fit(X_train, y_train)\n",
    "    \n",
    "    lm_pred = lm.predict(X_test)\n",
    "    r_sqr = lm.score(X_train, y_train)\n",
    "    mse = mean_squared_error(y_test, lm_pred)\n",
    "    \n",
    "    print('Model Validation',\n",
    "         '\\nR^2 = ', r_sqr,\n",
    "         '\\nMean squared error = ', mse)\n",
    "    \n",
    "    return lm, r_sqr, mse"
   ]
  },
  {
   "cell_type": "code",
   "execution_count": 7,
   "metadata": {},
   "outputs": [],
   "source": [
    "def lm_details(df, feat_col, target):\n",
    "    \"\"\"Cleans the features and runs a statsmodels OLS. For getting more information out of the regression than\n",
    "    SKLearn provides.\n",
    "    \n",
    "    Args:\n",
    "        df(df): Contains both features and target\n",
    "        feat_col(list): A list of feature names\n",
    "        target(str): The name of the target column\n",
    "        \n",
    "    Returns:\n",
    "        sm_fitted_model: A fit instance\n",
    "        X_train(Arr):A Numpy array of training features\"\"\"\n",
    "    X_train, X_dummy, y_train, y_dummy = feature_processing(df, feat_col, target)\n",
    "    \n",
    "    df_sm_ready = sm.add_constant(X_train)\n",
    "    sm_general_model = sm.OLS(y_train, df_sm_ready)\n",
    "    sm_fitted_model = sm_general_model.fit()\n",
    "    \n",
    "    print(sm_fitted_model.summary())\n",
    "    return sm_fitted_model, X_train"
   ]
  },
  {
   "cell_type": "code",
   "execution_count": 8,
   "metadata": {},
   "outputs": [],
   "source": [
    "def vif_multicollinearity(df):\n",
    "    \"\"\"VIF on a set of features.\n",
    "    \n",
    "    Args:\n",
    "        df(df): Only contains features\n",
    "    \n",
    "    Returns:\n",
    "        output_df(df): VIF in a column. Row number is the feature number corresponding to sm.OLS.summary()\n",
    "    \"\"\"\n",
    "    reg_feat = sm.add_constant(df)\n",
    "    output_df = pd.DataFrame()\n",
    "    \n",
    "    #output_df['feature'] = reg_feat.columns\n",
    "    output_df['vif'] = [variance_inflation_factor(reg_feat.values, col) for col in range(reg_feat.shape[1])]\n",
    "    \n",
    "    return output_df"
   ]
  },
  {
   "cell_type": "code",
   "execution_count": 9,
   "metadata": {},
   "outputs": [],
   "source": [
    "regression_short = pd.read_csv('../data/processed/regression_short.csv')\n",
    "regression_long = pd.read_csv('../data/processed/regression_long.csv')"
   ]
  },
  {
   "cell_type": "code",
   "execution_count": 10,
   "metadata": {},
   "outputs": [
    {
     "name": "stdout",
     "output_type": "stream",
     "text": [
      "Model Validation \n",
      "R^2 =  0.7327069958028628 \n",
      "Mean squared error =  0.007876824674454675\n"
     ]
    }
   ],
   "source": [
    "feat = list(regression_short.iloc[:,2:])\n",
    "target = 'state_FOODINSEC_13_15'\n",
    "\n",
    "lm, rs, mse = create_lm(regression_short, feat, target)"
   ]
  },
  {
   "cell_type": "code",
   "execution_count": 18,
   "metadata": {},
   "outputs": [
    {
     "data": {
      "text/plain": [
       "Text(0.5, 1.0, 'Linear Regression Residuals')"
      ]
     },
     "execution_count": 18,
     "metadata": {},
     "output_type": "execute_result"
    },
    {
     "data": {
      "image/png": "[encoded data removed]",
      "text/plain": [
       "<Figure size 576x576 with 1 Axes>"
      ]
     },
     "metadata": {},
     "output_type": "display_data"
    }
   ],
   "source": [
    "X_train, X_test, y_train, y_test = feature_processing(regression_short, feat, target)\n",
    "\n",
    "plt.scatter(lm.predict(X_train), lm.predict(X_train)-y_train)\n",
    "plt.hlines(y=0, xmin=0, xmax=1)\n",
    "\n",
    "plt.xlabel('Training data results')\n",
    "plt.ylabel('Residuals')\n",
    "plt.title('Linear Regression Residuals')"
   ]
  },
  {
   "cell_type": "code",
   "execution_count": 15,
   "metadata": {},
   "outputs": [
    {
     "name": "stdout",
     "output_type": "stream",
     "text": [
      "                            OLS Regression Results                            \n",
      "==============================================================================\n",
      "Dep. Variable:                      y   R-squared:                       0.733\n",
      "Model:                            OLS   Adj. R-squared:                  0.693\n",
      "Method:                 Least Squares   F-statistic:                     18.64\n",
      "Date:                Thu, 06 Jun 2019   Prob (F-statistic):           6.88e-09\n",
      "Time:                        17:16:10   Log-Likelihood:                 31.845\n",
      "No. Observations:                  40   AIC:                            -51.69\n",
      "Df Residuals:                      34   BIC:                            -41.56\n",
      "Df Model:                           5                                         \n",
      "Covariance Type:            nonrobust                                         \n",
      "==============================================================================\n",
      "                 coef    std err          t      P>|t|      [0.025      0.975]\n",
      "------------------------------------------------------------------------------\n",
      "const          0.2562      1.633      0.157      0.876      -3.061       3.574\n",
      "x1             0.7836      0.114      6.849      0.000       0.551       1.016\n",
      "x2         -2.911e-06      1e-05     -0.291      0.773   -2.32e-05    1.74e-05\n",
      "x3             0.1980      0.077      2.568      0.015       0.041       0.355\n",
      "x4          -8.31e-06   3.95e-05     -0.210      0.835   -8.86e-05     7.2e-05\n",
      "x5             0.7571      2.354      0.322      0.750      -4.027       5.541\n",
      "==============================================================================\n",
      "Omnibus:                        1.753   Durbin-Watson:                   2.053\n",
      "Prob(Omnibus):                  0.416   Jarque-Bera (JB):                1.674\n",
      "Skew:                           0.446   Prob(JB):                        0.433\n",
      "Kurtosis:                       2.541   Cond. No.                     7.91e+05\n",
      "==============================================================================\n",
      "\n",
      "Warnings:\n",
      "[1] Standard Errors assume that the covariance matrix of the errors is correctly specified.\n",
      "[2] The condition number is large, 7.91e+05. This might indicate that there are\n",
      "strong multicollinearity or other numerical problems.\n"
     ]
    }
   ],
   "source": [
    "test, sm_X_train = lm_details(regression_short, feat, target)"
   ]
  },
  {
   "cell_type": "markdown",
   "metadata": {},
   "source": [
    "Originally used LACCESS_POP15 (Population, low access to store, 2015) and LACCESS_LOWI15 (Low income & low access to store, 2015). I would expect the features to be highly correlated, as LACCESS_LOWI15 is a subset of LACCESS_POP15. This is confirmed by the variance inflation factor and explains why the high p-value in the regression. Replacing LACCESS_LOWI15 with another uncorrelated feature should improve LACCESS_POP15's p-value and increase the accuracy of the model. I chose PCT_OBESE_ADULTS13 as the feature to replace LACCESS_LOWI15.\n",
    "\n",
    "Rerunning the variance inflation factor we see that all the feature VIFs are below 5, meaning I have eliminated multicollinearity between features. This allows us to have confidence in the results of the regression. Because SKLearn does not have a built-in p-value for the coefficients I ran a statsmodel OSL. With a standard $\\alpha$ = 0.05 the only significant feature is state_FOODINSEC_10_12 (x1). Using the features from regression_short the only reliable predictor for state_FOODISEC_13_15 is state_FOODINSEC_10_12."
   ]
  },
  {
   "cell_type": "code",
   "execution_count": 16,
   "metadata": {},
   "outputs": [
    {
     "data": {
      "text/html": [
       "<div>\n",
       "<style scoped>\n",
       "    .dataframe tbody tr th:only-of-type {\n",
       "        vertical-align: middle;\n",
       "    }\n",
       "\n",
       "    .dataframe tbody tr th {\n",
       "        vertical-align: top;\n",
       "    }\n",
       "\n",
       "    .dataframe thead th {\n",
       "        text-align: right;\n",
       "    }\n",
       "</style>\n",
       "<table border=\"1\" class=\"dataframe\">\n",
       "  <thead>\n",
       "    <tr style=\"text-align: right;\">\n",
       "      <th></th>\n",
       "      <th>vif</th>\n",
       "    </tr>\n",
       "  </thead>\n",
       "  <tbody>\n",
       "    <tr>\n",
       "      <th>0</th>\n",
       "      <td>7606.433946</td>\n",
       "    </tr>\n",
       "    <tr>\n",
       "      <th>1</th>\n",
       "      <td>1.412887</td>\n",
       "    </tr>\n",
       "    <tr>\n",
       "      <th>2</th>\n",
       "      <td>1.923089</td>\n",
       "    </tr>\n",
       "    <tr>\n",
       "      <th>3</th>\n",
       "      <td>1.506121</td>\n",
       "    </tr>\n",
       "    <tr>\n",
       "      <th>4</th>\n",
       "      <td>2.376568</td>\n",
       "    </tr>\n",
       "    <tr>\n",
       "      <th>5</th>\n",
       "      <td>1.377798</td>\n",
       "    </tr>\n",
       "  </tbody>\n",
       "</table>\n",
       "</div>"
      ],
      "text/plain": [
       "           vif\n",
       "0  7606.433946\n",
       "1     1.412887\n",
       "2     1.923089\n",
       "3     1.506121\n",
       "4     2.376568\n",
       "5     1.377798"
      ]
     },
     "execution_count": 16,
     "metadata": {},
     "output_type": "execute_result"
    }
   ],
   "source": [
    "vif_multicollinearity(pd.DataFrame(sm_X_train))"
   ]
  },
  {
   "cell_type": "code",
   "execution_count": 12,
   "metadata": {},
   "outputs": [
    {
     "data": {
      "text/html": [
       "<div>\n",
       "<style scoped>\n",
       "    .dataframe tbody tr th:only-of-type {\n",
       "        vertical-align: middle;\n",
       "    }\n",
       "\n",
       "    .dataframe tbody tr th {\n",
       "        vertical-align: top;\n",
       "    }\n",
       "\n",
       "    .dataframe thead th {\n",
       "        text-align: right;\n",
       "    }\n",
       "</style>\n",
       "<table border=\"1\" class=\"dataframe\">\n",
       "  <thead>\n",
       "    <tr style=\"text-align: right;\">\n",
       "      <th></th>\n",
       "      <th>feature</th>\n",
       "      <th>estimated_coefficient</th>\n",
       "    </tr>\n",
       "  </thead>\n",
       "  <tbody>\n",
       "    <tr>\n",
       "      <th>0</th>\n",
       "      <td>state_FOODINSEC_10_12</td>\n",
       "      <td>[0.7835543272892759]</td>\n",
       "    </tr>\n",
       "    <tr>\n",
       "      <th>1</th>\n",
       "      <td>state_LACCESS_POP15</td>\n",
       "      <td>[-2.9112719526372215e-06]</td>\n",
       "    </tr>\n",
       "    <tr>\n",
       "      <th>2</th>\n",
       "      <td>state_PCT_OBESE_ADULTS13</td>\n",
       "      <td>[0.19796610505232623]</td>\n",
       "    </tr>\n",
       "    <tr>\n",
       "      <th>3</th>\n",
       "      <td>state_MEDHHINC15</td>\n",
       "      <td>[-8.310355490135413e-06]</td>\n",
       "    </tr>\n",
       "    <tr>\n",
       "      <th>4</th>\n",
       "      <td>state_GROCPTH14</td>\n",
       "      <td>[0.7570747259988256]</td>\n",
       "    </tr>\n",
       "  </tbody>\n",
       "</table>\n",
       "</div>"
      ],
      "text/plain": [
       "                    feature      estimated_coefficient\n",
       "0     state_FOODINSEC_10_12       [0.7835543272892759]\n",
       "1       state_LACCESS_POP15  [-2.9112719526372215e-06]\n",
       "2  state_PCT_OBESE_ADULTS13      [0.19796610505232623]\n",
       "3          state_MEDHHINC15   [-8.310355490135413e-06]\n",
       "4           state_GROCPTH14       [0.7570747259988256]"
      ]
     },
     "execution_count": 12,
     "metadata": {},
     "output_type": "execute_result"
    }
   ],
   "source": [
    "pd.DataFrame(list(zip(feat, lm.coef_.T)), columns=['feature', 'estimated_coefficient'])"
   ]
  },
  {
   "cell_type": "code",
   "execution_count": 1,
   "metadata": {},
   "outputs": [
    {
     "ename": "NameError",
     "evalue": "name 'regression_long' is not defined",
     "output_type": "error",
     "traceback": [
      "\u001b[1;31m---------------------------------------------------------------------------\u001b[0m",
      "\u001b[1;31mNameError\u001b[0m                                 Traceback (most recent call last)",
      "\u001b[1;32m<ipython-input-1-b08b030750a2>\u001b[0m in \u001b[0;36m<module>\u001b[1;34m\u001b[0m\n\u001b[1;32m----> 1\u001b[1;33m \u001b[0mfeat_long\u001b[0m \u001b[1;33m=\u001b[0m \u001b[0mlist\u001b[0m\u001b[1;33m(\u001b[0m\u001b[0mregression_long\u001b[0m\u001b[1;33m.\u001b[0m\u001b[0miloc\u001b[0m\u001b[1;33m[\u001b[0m\u001b[1;33m:\u001b[0m\u001b[1;33m,\u001b[0m\u001b[1;36m2\u001b[0m\u001b[1;33m:\u001b[0m\u001b[1;33m]\u001b[0m\u001b[1;33m)\u001b[0m\u001b[1;33m\u001b[0m\u001b[0m\n\u001b[0m\u001b[0;32m      2\u001b[0m \u001b[0mtarget_long\u001b[0m \u001b[1;33m=\u001b[0m \u001b[1;34m'state_FOODINSEC_13_15'\u001b[0m\u001b[1;33m\u001b[0m\u001b[0m\n",
      "\u001b[1;31mNameError\u001b[0m: name 'regression_long' is not defined"
     ]
    }
   ],
   "source": [
    "feat_long = list(regression_long.iloc[:,2:])\n",
    "target_long = 'state_FOODINSEC_13_15'"
   ]
  },
  {
   "cell_type": "code",
   "execution_count": 37,
   "metadata": {},
   "outputs": [
    {
     "data": {
      "text/plain": [
       "Ridge(alpha=1.0, copy_X=True, fit_intercept=True, max_iter=None,\n",
       "   normalize=False, random_state=None, solver='auto', tol=0.001)"
      ]
     },
     "execution_count": 37,
     "metadata": {},
     "output_type": "execute_result"
    }
   ],
   "source": [
    "# Ridge Regression\n",
    "X_train, X_test, y_train, y_test = feature_processing(regression_long, feat_long, target_long)\n",
    "\n",
    "lm_ridge = Ridge(alpha=1.0).fit(X_train, y_train)\n",
    "ridge_pred = lm_ridge.predict(X_test)\n",
    "\n",
    "lm_ridge.score(X_test, y_test)\n",
    "mean_squared_error(y_test, ridge_pred)"
   ]
  },
  {
   "cell_type": "code",
   "execution_count": 36,
   "metadata": {},
   "outputs": [
    {
     "data": {
      "text/html": [
       "<div>\n",
       "<style scoped>\n",
       "    .dataframe tbody tr th:only-of-type {\n",
       "        vertical-align: middle;\n",
       "    }\n",
       "\n",
       "    .dataframe tbody tr th {\n",
       "        vertical-align: top;\n",
       "    }\n",
       "\n",
       "    .dataframe thead th {\n",
       "        text-align: right;\n",
       "    }\n",
       "</style>\n",
       "<table border=\"1\" class=\"dataframe\">\n",
       "  <thead>\n",
       "    <tr style=\"text-align: right;\">\n",
       "      <th></th>\n",
       "      <th>feature</th>\n",
       "      <th>estimated_coefficient</th>\n",
       "    </tr>\n",
       "  </thead>\n",
       "  <tbody>\n",
       "    <tr>\n",
       "      <th>0</th>\n",
       "      <td>state_FOODINSEC_10_12</td>\n",
       "      <td>[0.35172467665148754]</td>\n",
       "    </tr>\n",
       "    <tr>\n",
       "      <th>1</th>\n",
       "      <td>state_LACCESS_POP15</td>\n",
       "      <td>[-1.0876247389403158e-06]</td>\n",
       "    </tr>\n",
       "    <tr>\n",
       "      <th>2</th>\n",
       "      <td>state_PCT_FREE_LUNCH14</td>\n",
       "      <td>[0.031313453697407394]</td>\n",
       "    </tr>\n",
       "    <tr>\n",
       "      <th>3</th>\n",
       "      <td>state_PCT_OBESE_ADULTS13</td>\n",
       "      <td>[0.14207409644473415]</td>\n",
       "    </tr>\n",
       "    <tr>\n",
       "      <th>4</th>\n",
       "      <td>state_RECFACPTH14</td>\n",
       "      <td>[-0.001375538130882425]</td>\n",
       "    </tr>\n",
       "    <tr>\n",
       "      <th>5</th>\n",
       "      <td>state_FFRPTH14</td>\n",
       "      <td>[0.0005549646154776942]</td>\n",
       "    </tr>\n",
       "    <tr>\n",
       "      <th>6</th>\n",
       "      <td>state_FSRPTH14</td>\n",
       "      <td>[-0.008785341809078955]</td>\n",
       "    </tr>\n",
       "    <tr>\n",
       "      <th>7</th>\n",
       "      <td>state_PCT_NHWHITE10</td>\n",
       "      <td>[0.0010139533615488746]</td>\n",
       "    </tr>\n",
       "    <tr>\n",
       "      <th>8</th>\n",
       "      <td>state_PCT_NHBLACK10</td>\n",
       "      <td>[-0.0170402937739482]</td>\n",
       "    </tr>\n",
       "    <tr>\n",
       "      <th>9</th>\n",
       "      <td>state_PCT_HISP10</td>\n",
       "      <td>[-0.001360883902745576]</td>\n",
       "    </tr>\n",
       "    <tr>\n",
       "      <th>10</th>\n",
       "      <td>state_PCT_NHASIAN10</td>\n",
       "      <td>[-0.030083138282197282]</td>\n",
       "    </tr>\n",
       "    <tr>\n",
       "      <th>11</th>\n",
       "      <td>state_PCT_NHNA10</td>\n",
       "      <td>[0.0405249340620246]</td>\n",
       "    </tr>\n",
       "    <tr>\n",
       "      <th>12</th>\n",
       "      <td>state_PCT_NHPI10</td>\n",
       "      <td>[-0.025437182228129386]</td>\n",
       "    </tr>\n",
       "    <tr>\n",
       "      <th>13</th>\n",
       "      <td>state_POVRATE15</td>\n",
       "      <td>[0.18325980148061308]</td>\n",
       "    </tr>\n",
       "    <tr>\n",
       "      <th>14</th>\n",
       "      <td>state_GROCPTH14</td>\n",
       "      <td>[0.001740777873853399]</td>\n",
       "    </tr>\n",
       "    <tr>\n",
       "      <th>15</th>\n",
       "      <td>state_CONVSPTH14</td>\n",
       "      <td>[-0.007783665392692738]</td>\n",
       "    </tr>\n",
       "    <tr>\n",
       "      <th>16</th>\n",
       "      <td>state_SNAPSPTH16</td>\n",
       "      <td>[0.016256150999310676]</td>\n",
       "    </tr>\n",
       "  </tbody>\n",
       "</table>\n",
       "</div>"
      ],
      "text/plain": [
       "                     feature      estimated_coefficient\n",
       "0      state_FOODINSEC_10_12      [0.35172467665148754]\n",
       "1        state_LACCESS_POP15  [-1.0876247389403158e-06]\n",
       "2     state_PCT_FREE_LUNCH14     [0.031313453697407394]\n",
       "3   state_PCT_OBESE_ADULTS13      [0.14207409644473415]\n",
       "4          state_RECFACPTH14    [-0.001375538130882425]\n",
       "5             state_FFRPTH14    [0.0005549646154776942]\n",
       "6             state_FSRPTH14    [-0.008785341809078955]\n",
       "7        state_PCT_NHWHITE10    [0.0010139533615488746]\n",
       "8        state_PCT_NHBLACK10      [-0.0170402937739482]\n",
       "9           state_PCT_HISP10    [-0.001360883902745576]\n",
       "10       state_PCT_NHASIAN10    [-0.030083138282197282]\n",
       "11          state_PCT_NHNA10       [0.0405249340620246]\n",
       "12          state_PCT_NHPI10    [-0.025437182228129386]\n",
       "13           state_POVRATE15      [0.18325980148061308]\n",
       "14           state_GROCPTH14     [0.001740777873853399]\n",
       "15          state_CONVSPTH14    [-0.007783665392692738]\n",
       "16          state_SNAPSPTH16     [0.016256150999310676]"
      ]
     },
     "execution_count": 36,
     "metadata": {},
     "output_type": "execute_result"
    }
   ],
   "source": [
    "pd.DataFrame(list(zip(feat_long, clf.coef_.T)), columns=['feature', 'estimated_coefficient'])"
   ]
  },
  {
   "cell_type": "code",
   "execution_count": 17,
   "metadata": {},
   "outputs": [
    {
     "ename": "NameError",
     "evalue": "name 'clf' is not defined",
     "output_type": "error",
     "traceback": [
      "\u001b[1;31m---------------------------------------------------------------------------\u001b[0m",
      "\u001b[1;31mNameError\u001b[0m                                 Traceback (most recent call last)",
      "\u001b[1;32m<ipython-input-17-5fa5c7959b5d>\u001b[0m in \u001b[0;36m<module>\u001b[1;34m\u001b[0m\n\u001b[1;32m----> 1\u001b[1;33m \u001b[0mplt\u001b[0m\u001b[1;33m.\u001b[0m\u001b[0mscatter\u001b[0m\u001b[1;33m(\u001b[0m\u001b[0mclf\u001b[0m\u001b[1;33m.\u001b[0m\u001b[0mpredict\u001b[0m\u001b[1;33m(\u001b[0m\u001b[0mX_train\u001b[0m\u001b[1;33m)\u001b[0m\u001b[1;33m,\u001b[0m \u001b[0mclf\u001b[0m\u001b[1;33m.\u001b[0m\u001b[0mpredict\u001b[0m\u001b[1;33m(\u001b[0m\u001b[0mX_train\u001b[0m\u001b[1;33m)\u001b[0m\u001b[1;33m-\u001b[0m\u001b[0my_train\u001b[0m\u001b[1;33m)\u001b[0m\u001b[1;33m\u001b[0m\u001b[0m\n\u001b[0m\u001b[0;32m      2\u001b[0m \u001b[0mplt\u001b[0m\u001b[1;33m.\u001b[0m\u001b[0mhlines\u001b[0m\u001b[1;33m(\u001b[0m\u001b[0my\u001b[0m\u001b[1;33m=\u001b[0m\u001b[1;36m0\u001b[0m\u001b[1;33m,\u001b[0m \u001b[0mxmin\u001b[0m\u001b[1;33m=\u001b[0m\u001b[1;36m0\u001b[0m\u001b[1;33m,\u001b[0m \u001b[0mxmax\u001b[0m\u001b[1;33m=\u001b[0m\u001b[1;36m1\u001b[0m\u001b[1;33m)\u001b[0m\u001b[1;33m\u001b[0m\u001b[0m\n\u001b[0;32m      3\u001b[0m \u001b[0mplt\u001b[0m\u001b[1;33m.\u001b[0m\u001b[0mylabel\u001b[0m\u001b[1;33m(\u001b[0m\u001b[1;34m'Residuals'\u001b[0m\u001b[1;33m)\u001b[0m\u001b[1;33m\u001b[0m\u001b[0m\n\u001b[0;32m      4\u001b[0m \u001b[0mplt\u001b[0m\u001b[1;33m.\u001b[0m\u001b[0mtitle\u001b[0m\u001b[1;33m(\u001b[0m\u001b[1;34m'Ridge Regression Residuals'\u001b[0m\u001b[1;33m)\u001b[0m\u001b[1;33m\u001b[0m\u001b[0m\n",
      "\u001b[1;31mNameError\u001b[0m: name 'clf' is not defined"
     ]
    }
   ],
   "source": [
    "plt.scatter(lm_ridge.predict(X_train), lm_ridge.predict(X_train)-y_train)\n",
    "plt.hlines(y=0, xmin=0, xmax=1)\n",
    "\n",
    "plt.xlabel('Training data results')\n",
    "plt.ylabel('Residuals')\n",
    "plt.title('Ridge Regression Residuals')"
   ]
  }
 ],
 "metadata": {
  "kernelspec": {
   "display_name": "Python 3",
   "language": "python",
   "name": "python3"
  },
  "language_info": {
   "codemirror_mode": {
    "name": "ipython",
    "version": 3
   },
   "file_extension": ".py",
   "mimetype": "text/x-python",
   "name": "python",
   "nbconvert_exporter": "python",
   "pygments_lexer": "ipython3",
   "version": "3.7.0"
  }
 },
 "nbformat": 4,
 "nbformat_minor": 2
}
