{
 "cells": [
  {
   "cell_type": "markdown",
   "metadata": {},
   "source": [
    "To do:\n",
    "- Convert reg_y into a (51,1) matrix\n",
    "- Run a linear regression\n",
    "    * Find important features\n",
    "    \n",
    "- Not sure I should use both LACCESS_POP15 and LACCESS_LOWI15\n",
    "    * Highly correlated with each other"
   ]
  },
  {
   "cell_type": "code",
   "execution_count": 1,
   "metadata": {},
   "outputs": [],
   "source": [
    "import numpy as np\n",
    "import pandas as pd\n",
    "\n",
    "from sklearn.preprocessing import MinMaxScaler\n",
    "from sklearn.linear_model import LinearRegression"
   ]
  },
  {
   "cell_type": "code",
   "execution_count": 2,
   "metadata": {},
   "outputs": [
    {
     "data": {
      "text/html": [
       "<div>\n",
       "<style scoped>\n",
       "    .dataframe tbody tr th:only-of-type {\n",
       "        vertical-align: middle;\n",
       "    }\n",
       "\n",
       "    .dataframe tbody tr th {\n",
       "        vertical-align: top;\n",
       "    }\n",
       "\n",
       "    .dataframe thead th {\n",
       "        text-align: right;\n",
       "    }\n",
       "</style>\n",
       "<table border=\"1\" class=\"dataframe\">\n",
       "  <thead>\n",
       "    <tr style=\"text-align: right;\">\n",
       "      <th></th>\n",
       "      <th>state</th>\n",
       "      <th>state_FOODINSEC_10_12</th>\n",
       "      <th>state_FOODINSEC_13_15</th>\n",
       "      <th>state_LACCESS_POP15</th>\n",
       "      <th>state_LACCESS_LOWI15</th>\n",
       "      <th>state_MEDHHINC15</th>\n",
       "      <th>state_GROCPTH14</th>\n",
       "    </tr>\n",
       "  </thead>\n",
       "  <tbody>\n",
       "    <tr>\n",
       "      <th>0</th>\n",
       "      <td>AL</td>\n",
       "      <td>17.9</td>\n",
       "      <td>17.6</td>\n",
       "      <td>7708.624532</td>\n",
       "      <td>2241.191144</td>\n",
       "      <td>59520.448276</td>\n",
       "      <td>0.729979</td>\n",
       "    </tr>\n",
       "    <tr>\n",
       "      <th>1</th>\n",
       "      <td>AK</td>\n",
       "      <td>12.1</td>\n",
       "      <td>13.3</td>\n",
       "      <td>14371.804328</td>\n",
       "      <td>5651.092540</td>\n",
       "      <td>39830.104478</td>\n",
       "      <td>0.185682</td>\n",
       "    </tr>\n",
       "  </tbody>\n",
       "</table>\n",
       "</div>"
      ],
      "text/plain": [
       "  state  state_FOODINSEC_10_12  state_FOODINSEC_13_15  state_LACCESS_POP15  \\\n",
       "0    AL                   17.9                   17.6          7708.624532   \n",
       "1    AK                   12.1                   13.3         14371.804328   \n",
       "\n",
       "   state_LACCESS_LOWI15  state_MEDHHINC15  state_GROCPTH14  \n",
       "0           2241.191144      59520.448276         0.729979  \n",
       "1           5651.092540      39830.104478         0.185682  "
      ]
     },
     "execution_count": 2,
     "metadata": {},
     "output_type": "execute_result"
    }
   ],
   "source": [
    "regression_short = pd.read_csv('../data/processed/regression_short.csv')\n",
    "\n",
    "regression_short.head(2)"
   ]
  },
  {
   "cell_type": "code",
   "execution_count": 22,
   "metadata": {},
   "outputs": [
    {
     "data": {
      "text/plain": [
       "numpy.ndarray"
      ]
     },
     "execution_count": 22,
     "metadata": {},
     "output_type": "execute_result"
    }
   ],
   "source": [
    "#type(list(regression_short.columns))\n",
    "\n",
    "type(lm.coef_)"
   ]
  },
  {
   "cell_type": "code",
   "execution_count": 3,
   "metadata": {},
   "outputs": [],
   "source": [
    "reg_X = regression_short.loc[:, ('state_FOODINSEC_10_12',\n",
    "                                 'state_LACCESS_POP15',\n",
    "                                 'state_LACCESS_LOWI15',\n",
    "                                 'state_MEDHHINC15', \n",
    "                                 'state_GROCPTH14')]\n",
    "\n",
    "reg_y = regression_short['state_FOODINSEC_13_15'].values\n",
    "\n",
    "reg_y = reg_y.reshape(-1, 1)"
   ]
  },
  {
   "cell_type": "code",
   "execution_count": 5,
   "metadata": {},
   "outputs": [
    {
     "data": {
      "text/html": [
       "<div>\n",
       "<style scoped>\n",
       "    .dataframe tbody tr th:only-of-type {\n",
       "        vertical-align: middle;\n",
       "    }\n",
       "\n",
       "    .dataframe tbody tr th {\n",
       "        vertical-align: top;\n",
       "    }\n",
       "\n",
       "    .dataframe thead th {\n",
       "        text-align: right;\n",
       "    }\n",
       "</style>\n",
       "<table border=\"1\" class=\"dataframe\">\n",
       "  <thead>\n",
       "    <tr style=\"text-align: right;\">\n",
       "      <th></th>\n",
       "      <th>state_FOODINSEC_10_12</th>\n",
       "      <th>state_LACCESS_POP15</th>\n",
       "      <th>state_LACCESS_LOWI15</th>\n",
       "      <th>state_MEDHHINC15</th>\n",
       "      <th>state_GROCPTH14</th>\n",
       "    </tr>\n",
       "  </thead>\n",
       "  <tbody>\n",
       "    <tr>\n",
       "      <th>state_FOODINSEC_10_12</th>\n",
       "      <td>1.000000</td>\n",
       "      <td>-0.154357</td>\n",
       "      <td>0.018296</td>\n",
       "      <td>-0.488448</td>\n",
       "      <td>-0.095719</td>\n",
       "    </tr>\n",
       "    <tr>\n",
       "      <th>state_LACCESS_POP15</th>\n",
       "      <td>-0.154357</td>\n",
       "      <td>1.000000</td>\n",
       "      <td>0.877161</td>\n",
       "      <td>0.528153</td>\n",
       "      <td>-0.282063</td>\n",
       "    </tr>\n",
       "    <tr>\n",
       "      <th>state_LACCESS_LOWI15</th>\n",
       "      <td>0.018296</td>\n",
       "      <td>0.877161</td>\n",
       "      <td>1.000000</td>\n",
       "      <td>0.242341</td>\n",
       "      <td>-0.380693</td>\n",
       "    </tr>\n",
       "    <tr>\n",
       "      <th>state_MEDHHINC15</th>\n",
       "      <td>-0.488448</td>\n",
       "      <td>0.528153</td>\n",
       "      <td>0.242341</td>\n",
       "      <td>1.000000</td>\n",
       "      <td>0.203532</td>\n",
       "    </tr>\n",
       "    <tr>\n",
       "      <th>state_GROCPTH14</th>\n",
       "      <td>-0.095719</td>\n",
       "      <td>-0.282063</td>\n",
       "      <td>-0.380693</td>\n",
       "      <td>0.203532</td>\n",
       "      <td>1.000000</td>\n",
       "    </tr>\n",
       "  </tbody>\n",
       "</table>\n",
       "</div>"
      ],
      "text/plain": [
       "                       state_FOODINSEC_10_12  state_LACCESS_POP15  \\\n",
       "state_FOODINSEC_10_12               1.000000            -0.154357   \n",
       "state_LACCESS_POP15                -0.154357             1.000000   \n",
       "state_LACCESS_LOWI15                0.018296             0.877161   \n",
       "state_MEDHHINC15                   -0.488448             0.528153   \n",
       "state_GROCPTH14                    -0.095719            -0.282063   \n",
       "\n",
       "                       state_LACCESS_LOWI15  state_MEDHHINC15  state_GROCPTH14  \n",
       "state_FOODINSEC_10_12              0.018296         -0.488448        -0.095719  \n",
       "state_LACCESS_POP15                0.877161          0.528153        -0.282063  \n",
       "state_LACCESS_LOWI15               1.000000          0.242341        -0.380693  \n",
       "state_MEDHHINC15                   0.242341          1.000000         0.203532  \n",
       "state_GROCPTH14                   -0.380693          0.203532         1.000000  "
      ]
     },
     "execution_count": 5,
     "metadata": {},
     "output_type": "execute_result"
    }
   ],
   "source": [
    "reg_X.corr()"
   ]
  },
  {
   "cell_type": "code",
   "execution_count": 37,
   "metadata": {},
   "outputs": [],
   "source": [
    "feat = ['state_FOODINSEC_10_12', 'state_LACCESS_POP15',\n",
    "        'state_LACCESS_LOWI15', 'state_MEDHHINC15', \n",
    "        'state_GROCPTH14']"
   ]
  },
  {
   "cell_type": "code",
   "execution_count": 4,
   "metadata": {},
   "outputs": [],
   "source": [
    "scaler = MinMaxScaler()\n",
    "\n",
    "scaler.fit(reg_X)\n",
    "scaler.fit(reg_y)\n",
    "\n",
    "reg_X = scaler.transform(reg_X)\n",
    "reg_y = scaler.transform(reg_y)"
   ]
  },
  {
   "cell_type": "code",
   "execution_count": 41,
   "metadata": {},
   "outputs": [
    {
     "data": {
      "text/plain": [
       "0.7129291002824232"
      ]
     },
     "execution_count": 41,
     "metadata": {},
     "output_type": "execute_result"
    }
   ],
   "source": [
    "lm = LinearRegression().fit(reg_X, reg_y)\n",
    "\n",
    "\n",
    "lm.score(reg_X, reg_y)\n"
   ]
  },
  {
   "cell_type": "code",
   "execution_count": 39,
   "metadata": {},
   "outputs": [
    {
     "data": {
      "text/html": [
       "<div>\n",
       "<style scoped>\n",
       "    .dataframe tbody tr th:only-of-type {\n",
       "        vertical-align: middle;\n",
       "    }\n",
       "\n",
       "    .dataframe tbody tr th {\n",
       "        vertical-align: top;\n",
       "    }\n",
       "\n",
       "    .dataframe thead th {\n",
       "        text-align: right;\n",
       "    }\n",
       "</style>\n",
       "<table border=\"1\" class=\"dataframe\">\n",
       "  <thead>\n",
       "    <tr style=\"text-align: right;\">\n",
       "      <th></th>\n",
       "      <th>feature</th>\n",
       "      <th>estimated_coefficient</th>\n",
       "    </tr>\n",
       "  </thead>\n",
       "  <tbody>\n",
       "    <tr>\n",
       "      <th>0</th>\n",
       "      <td>state_FOODINSEC_10_12</td>\n",
       "      <td>[0.770699564258078]</td>\n",
       "    </tr>\n",
       "    <tr>\n",
       "      <th>1</th>\n",
       "      <td>state_LACCESS_POP15</td>\n",
       "      <td>[9.295261319867948e-06]</td>\n",
       "    </tr>\n",
       "    <tr>\n",
       "      <th>2</th>\n",
       "      <td>state_LACCESS_LOWI15</td>\n",
       "      <td>[-8.403874273070798e-05]</td>\n",
       "    </tr>\n",
       "    <tr>\n",
       "      <th>3</th>\n",
       "      <td>state_MEDHHINC15</td>\n",
       "      <td>[-6.685425000559802e-05]</td>\n",
       "    </tr>\n",
       "    <tr>\n",
       "      <th>4</th>\n",
       "      <td>state_GROCPTH14</td>\n",
       "      <td>[-0.20184078718529377]</td>\n",
       "    </tr>\n",
       "  </tbody>\n",
       "</table>\n",
       "</div>"
      ],
      "text/plain": [
       "                 feature     estimated_coefficient\n",
       "0  state_FOODINSEC_10_12       [0.770699564258078]\n",
       "1    state_LACCESS_POP15   [9.295261319867948e-06]\n",
       "2   state_LACCESS_LOWI15  [-8.403874273070798e-05]\n",
       "3       state_MEDHHINC15  [-6.685425000559802e-05]\n",
       "4        state_GROCPTH14    [-0.20184078718529377]"
      ]
     },
     "execution_count": 39,
     "metadata": {},
     "output_type": "execute_result"
    }
   ],
   "source": [
    "pd.DataFrame(list(zip(feat, lm.coef_.T)), columns=['feature', 'estimated_coefficient'])"
   ]
  }
 ],
 "metadata": {
  "kernelspec": {
   "display_name": "Python 3",
   "language": "python",
   "name": "python3"
  },
  "language_info": {
   "codemirror_mode": {
    "name": "ipython",
    "version": 3
   },
   "file_extension": ".py",
   "mimetype": "text/x-python",
   "name": "python",
   "nbconvert_exporter": "python",
   "pygments_lexer": "ipython3",
   "version": "3.6.7"
  }
 },
 "nbformat": 4,
 "nbformat_minor": 2
}
